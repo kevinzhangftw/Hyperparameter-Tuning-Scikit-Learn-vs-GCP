{
 "cells": [
  {
   "cell_type": "code",
   "execution_count": 3,
   "metadata": {
    "scrolled": false
   },
   "outputs": [],
   "source": [
    "import numpy as np\n",
    "import pandas as pd\n",
    "from sklearn.model_selection import GridSearchCV\n",
    "from keras.models import Sequential\n",
    "from keras.layers import Dense\n",
    "from keras.wrappers.scikit_learn import KerasClassifier\n",
    "# Function to create model, required for KerasClassifier\n",
    "def create_model(optimizer='adam'):\n",
    "\t# create model\n",
    "\tmodel = Sequential()\n",
    "\tmodel.add(Dense(16, input_dim=3, activation='relu'))\n",
    "\tmodel.add(Dense(1, activation='sigmoid'))\n",
    "\t# Compile model\n",
    "\tmodel.compile(loss='binary_crossentropy', optimizer=optimizer, metrics=['accuracy'])\n",
    "\treturn model\n",
    "# fix random seed for reproducibility\n",
    "seed = 7\n",
    "np.random.seed(seed)\n",
    "# load dataset\n",
    "dataset = pd.read_csv(\"colour-data.csv\")\n",
    "X = dataset[['R', 'G', 'B']]\n",
    "\n",
    "Y = dataset[['Label']]"
   ]
  },
  {
   "cell_type": "code",
   "execution_count": 4,
   "metadata": {},
   "outputs": [
    {
     "name": "stdout",
     "output_type": "stream",
     "text": [
      "Best: 0.152226 using {'batch_size': 10, 'epochs': 100}\n",
      "0.143879 (0.019805) with: {'batch_size': 10, 'epochs': 10}\n",
      "0.147854 (0.013478) with: {'batch_size': 10, 'epochs': 50}\n",
      "0.152226 (0.010653) with: {'batch_size': 10, 'epochs': 100}\n",
      "0.142687 (0.018213) with: {'batch_size': 20, 'epochs': 10}\n",
      "0.145469 (0.015401) with: {'batch_size': 20, 'epochs': 50}\n",
      "0.151431 (0.010931) with: {'batch_size': 20, 'epochs': 100}\n",
      "0.142687 (0.018213) with: {'batch_size': 40, 'epochs': 10}\n",
      "0.142687 (0.018213) with: {'batch_size': 40, 'epochs': 50}\n",
      "0.146264 (0.014693) with: {'batch_size': 40, 'epochs': 100}\n",
      "0.141892 (0.019090) with: {'batch_size': 60, 'epochs': 10}\n",
      "0.142687 (0.018213) with: {'batch_size': 60, 'epochs': 50}\n",
      "0.143482 (0.017365) with: {'batch_size': 60, 'epochs': 100}\n",
      "0.142687 (0.018213) with: {'batch_size': 80, 'epochs': 10}\n",
      "0.143084 (0.017786) with: {'batch_size': 80, 'epochs': 50}\n",
      "0.143482 (0.017365) with: {'batch_size': 80, 'epochs': 100}\n",
      "0.142687 (0.018213) with: {'batch_size': 100, 'epochs': 10}\n",
      "0.145072 (0.016639) with: {'batch_size': 100, 'epochs': 50}\n",
      "0.146264 (0.014693) with: {'batch_size': 100, 'epochs': 100}\n"
     ]
    }
   ],
   "source": [
    "\n",
    "# create model\n",
    "model = KerasClassifier(build_fn=create_model, verbose=0)\n",
    "# define the grid search parameters\n",
    "batch_size = [10, 20, 40, 60, 80, 100]\n",
    "epochs = [10, 50, 100]\n",
    "param_grid = dict(batch_size=batch_size, epochs=epochs)\n",
    "grid = GridSearchCV(estimator=model, param_grid=param_grid, n_jobs=-1)\n",
    "grid_result = grid.fit(np.array(X), np.array(Y))\n",
    "# summarize results\n",
    "print(\"Best: %f using %s\" % (grid_result.best_score_, grid_result.best_params_))\n",
    "means = grid_result.cv_results_['mean_test_score']\n",
    "stds = grid_result.cv_results_['std_test_score']\n",
    "params = grid_result.cv_results_['params']\n",
    "for mean, stdev, param in zip(means, stds, params):\n",
    "    print(\"%f (%f) with: %r\" % (mean, stdev, param))"
   ]
  },
  {
   "cell_type": "code",
   "execution_count": null,
   "metadata": {
    "collapsed": true
   },
   "outputs": [],
   "source": []
  }
 ],
 "metadata": {
  "kernelspec": {
   "display_name": "Python 3",
   "language": "python",
   "name": "python3"
  },
  "language_info": {
   "codemirror_mode": {
    "name": "ipython",
    "version": 3
   },
   "file_extension": ".py",
   "mimetype": "text/x-python",
   "name": "python",
   "nbconvert_exporter": "python",
   "pygments_lexer": "ipython3",
   "version": "3.6.1"
  }
 },
 "nbformat": 4,
 "nbformat_minor": 2
}
