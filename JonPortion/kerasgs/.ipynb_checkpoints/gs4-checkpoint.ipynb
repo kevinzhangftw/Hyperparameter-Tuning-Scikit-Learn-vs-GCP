{
 "cells": [
  {
   "cell_type": "code",
   "execution_count": 4,
   "metadata": {
    "scrolled": false
   },
   "outputs": [],
   "source": [
    "import numpy as np\n",
    "import pandas as pd\n",
    "from sklearn.model_selection import GridSearchCV\n",
    "from keras.models import Sequential\n",
    "from keras.layers import Dense\n",
    "from keras.wrappers.scikit_learn import KerasClassifier\n",
    "from keras.optimizers import SGD\n",
    "# Function to create model, required for KerasClassifier\n",
    "def create_model(learn_rate=0.01, momentum=0):\n",
    "\t# create model\n",
    "\tmodel = Sequential()\n",
    "\tmodel.add(Dense(16, input_dim=13, activation='relu'))\n",
    "\tmodel.add(Dense(1, activation='sigmoid'))\n",
    "\t# Compile model\n",
    "\toptimizer = SGD(lr=learn_rate, momentum=momentum)\n",
    "\tmodel.compile(loss='binary_crossentropy', optimizer=optimizer, metrics=['accuracy'])\n",
    "\treturn model\n",
    "# fix random seed for reproducibility\n",
    "seed = 7\n",
    "np.random.seed(seed)\n",
    "# load dataset\n",
    "dataset = pd.read_csv(\"slim-xAPI-Edu-Data.csv\")\n",
    "# split into input (X) and output (Y) variables\n",
    "\n",
    "X = dataset\n",
    "\n",
    "\n",
    "#y = dataset[['Class']]\n",
    "#students failed if they are in class L.\n",
    "dataset['Failed'] = np.where(dataset['Class'] == 'L', True, False)\n",
    "dataset['gender'] = np.where(dataset['gender']=='M',1,0)\n",
    "dataset['Relation'] = np.where(dataset['Relation']=='Father',1,0)\n",
    "dataset['ParentAnsweringSurvey'] = np.where(dataset['ParentAnsweringSurvey'] == 'Yes', 1, 0)\n",
    "dataset['ParentschoolSatisfaction'] = np.where(dataset['ParentschoolSatisfaction'] == 'Yes', 1, 0)\n",
    "dataset['AbsentMoreThanWeek'] = np.where(dataset['StudentAbsenceDays'] == 'Above-7', 1, 0)\n",
    "dataset['Semester'] = np.where(dataset['Semester'] == 'F', 1, 0)\n",
    "\n",
    "#SectionID: 1=A, 2=B, 3=C\n",
    "#Topic: 1=Arabic, 2=Biology, 3=Chemistry, 4=English, 5=French, 6=Geology, 7=History, 8=IT, 9=Math, 10=Quran, 11=Science, 12=Spanish\n",
    "#StageID: Lowerlevel = 1, MiddleSchool = 2, HighSchool = 3\n",
    "X = dataset[['raisedhands', 'VisITedResources', 'SectionID', 'Topic', 'StageID', 'AnnouncementsView', 'Semester', 'Discussion', 'gender', 'Relation', 'ParentAnsweringSurvey', 'ParentschoolSatisfaction', 'AbsentMoreThanWeek']]\n",
    "\n",
    "Y = dataset[['Failed']]\n",
    "\n",
    "\n"
   ]
  },
  {
   "cell_type": "code",
   "execution_count": 5,
   "metadata": {},
   "outputs": [
    {
     "name": "stdout",
     "output_type": "stream",
     "text": [
      "Best: 0.850000 using {'learn_rate': 0.001, 'momentum': 0.6}\n",
      "0.820833 (0.012843) with: {'learn_rate': 0.001, 'momentum': 0.0}\n",
      "0.837500 (0.033463) with: {'learn_rate': 0.001, 'momentum': 0.2}\n",
      "0.847917 (0.020624) with: {'learn_rate': 0.001, 'momentum': 0.4}\n",
      "0.850000 (0.028413) with: {'learn_rate': 0.001, 'momentum': 0.6}\n",
      "0.845833 (0.015590) with: {'learn_rate': 0.001, 'momentum': 0.8}\n",
      "0.812500 (0.044488) with: {'learn_rate': 0.001, 'momentum': 0.9}\n",
      "0.756250 (0.058852) with: {'learn_rate': 0.01, 'momentum': 0.0}\n",
      "0.608333 (0.258468) with: {'learn_rate': 0.01, 'momentum': 0.2}\n",
      "0.783333 (0.079276) with: {'learn_rate': 0.01, 'momentum': 0.4}\n",
      "0.814583 (0.036917) with: {'learn_rate': 0.01, 'momentum': 0.6}\n",
      "0.770833 (0.074361) with: {'learn_rate': 0.01, 'momentum': 0.8}\n",
      "0.775000 (0.018399) with: {'learn_rate': 0.01, 'momentum': 0.9}\n",
      "0.735417 (0.044585) with: {'learn_rate': 0.1, 'momentum': 0.0}\n",
      "0.568750 (0.229526) with: {'learn_rate': 0.1, 'momentum': 0.2}\n",
      "0.735417 (0.044585) with: {'learn_rate': 0.1, 'momentum': 0.4}\n",
      "0.547917 (0.234761) with: {'learn_rate': 0.1, 'momentum': 0.6}\n",
      "0.547917 (0.234761) with: {'learn_rate': 0.1, 'momentum': 0.8}\n",
      "0.568750 (0.229526) with: {'learn_rate': 0.1, 'momentum': 0.9}\n",
      "0.568750 (0.229526) with: {'learn_rate': 0.2, 'momentum': 0.0}\n",
      "0.735417 (0.044585) with: {'learn_rate': 0.2, 'momentum': 0.2}\n",
      "0.735417 (0.044585) with: {'learn_rate': 0.2, 'momentum': 0.4}\n",
      "0.381250 (0.208104) with: {'learn_rate': 0.2, 'momentum': 0.6}\n",
      "0.431250 (0.229526) with: {'learn_rate': 0.2, 'momentum': 0.8}\n",
      "0.618750 (0.208104) with: {'learn_rate': 0.2, 'momentum': 0.9}\n",
      "0.618750 (0.208104) with: {'learn_rate': 0.3, 'momentum': 0.0}\n",
      "0.452083 (0.234761) with: {'learn_rate': 0.3, 'momentum': 0.2}\n",
      "0.735417 (0.044585) with: {'learn_rate': 0.3, 'momentum': 0.4}\n",
      "0.568750 (0.229526) with: {'learn_rate': 0.3, 'momentum': 0.6}\n",
      "0.618750 (0.208104) with: {'learn_rate': 0.3, 'momentum': 0.8}\n",
      "0.547917 (0.234761) with: {'learn_rate': 0.3, 'momentum': 0.9}\n"
     ]
    }
   ],
   "source": [
    "\n",
    "# create model\n",
    "model = KerasClassifier(build_fn=create_model, verbose=0, batch_size=10, epochs=100)\n",
    "\n",
    "# define the grid search parameters\n",
    "learn_rate = [0.001, 0.01, 0.1, 0.2, 0.3]\n",
    "momentum = [0.0, 0.2, 0.4, 0.6, 0.8, 0.9]\n",
    "param_grid = dict(learn_rate=learn_rate, momentum=momentum)\n",
    "\n",
    "grid = GridSearchCV(estimator=model, param_grid=param_grid, n_jobs=-1)\n",
    "grid_result = grid.fit(np.array(X), np.array(Y))\n",
    "# summarize results\n",
    "print(\"Best: %f using %s\" % (grid_result.best_score_, grid_result.best_params_))\n",
    "means = grid_result.cv_results_['mean_test_score']\n",
    "stds = grid_result.cv_results_['std_test_score']\n",
    "params = grid_result.cv_results_['params']\n",
    "for mean, stdev, param in zip(means, stds, params):\n",
    "    print(\"%f (%f) with: %r\" % (mean, stdev, param))"
   ]
  },
  {
   "cell_type": "code",
   "execution_count": null,
   "metadata": {
    "collapsed": true
   },
   "outputs": [],
   "source": []
  }
 ],
 "metadata": {
  "kernelspec": {
   "display_name": "Python 3",
   "language": "python",
   "name": "python3"
  },
  "language_info": {
   "codemirror_mode": {
    "name": "ipython",
    "version": 3
   },
   "file_extension": ".py",
   "mimetype": "text/x-python",
   "name": "python",
   "nbconvert_exporter": "python",
   "pygments_lexer": "ipython3",
   "version": "3.6.1"
  }
 },
 "nbformat": 4,
 "nbformat_minor": 2
}
