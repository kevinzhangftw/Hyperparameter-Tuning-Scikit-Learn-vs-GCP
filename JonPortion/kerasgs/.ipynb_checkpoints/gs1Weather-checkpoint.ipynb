{
 "cells": [
  {
   "cell_type": "code",
   "execution_count": 3,
   "metadata": {
    "scrolled": false
   },
   "outputs": [],
   "source": [
    "import numpy as np\n",
    "import pandas as pd\n",
    "from sklearn.model_selection import GridSearchCV\n",
    "from keras.models import Sequential\n",
    "from keras.layers import Dense\n",
    "from keras.wrappers.scikit_learn import KerasClassifier\n",
    "# Function to create model, required for KerasClassifier\n",
    "def create_model(optimizer='adam'):\n",
    "\t# create model\n",
    "\tmodel = Sequential()\n",
    "\tmodel.add(Dense(16, input_dim=62, activation='relu'))\n",
    "\tmodel.add(Dense(1, activation='sigmoid'))\n",
    "\t# Compile model\n",
    "\tmodel.compile(loss='binary_crossentropy', optimizer=optimizer, metrics=['accuracy'])\n",
    "\treturn model\n",
    "# fix random seed for reproducibility\n",
    "seed = 7\n",
    "np.random.seed(seed)\n",
    "# load dataset\n",
    "dataset = pd.read_csv(\"modified-monthly-data-labelled.csv\")\n",
    "# split into input (X) and output (Y) variables\n",
    "X = dataset.iloc[:,0:61]\n",
    "#X = dataset[:, 2:]\n",
    "Y = dataset.iloc[:,61]\n"
   ]
  },
  {
   "cell_type": "code",
   "execution_count": 2,
   "metadata": {},
   "outputs": [
    {
     "name": "stdout",
     "output_type": "stream",
     "text": [
      "Best: 0.895833 using {'batch_size': 10, 'epochs': 100}\n",
      "0.841667 (0.033203) with: {'batch_size': 10, 'epochs': 10}\n",
      "0.893750 (0.010206) with: {'batch_size': 10, 'epochs': 50}\n",
      "0.895833 (0.012843) with: {'batch_size': 10, 'epochs': 100}\n",
      "0.768750 (0.104208) with: {'batch_size': 20, 'epochs': 10}\n",
      "0.885417 (0.011785) with: {'batch_size': 20, 'epochs': 50}\n",
      "0.881250 (0.010206) with: {'batch_size': 20, 'epochs': 100}\n",
      "0.808333 (0.023570) with: {'batch_size': 40, 'epochs': 10}\n",
      "0.856250 (0.022244) with: {'batch_size': 40, 'epochs': 50}\n",
      "0.879167 (0.010623) with: {'batch_size': 40, 'epochs': 100}\n",
      "0.783333 (0.049564) with: {'batch_size': 60, 'epochs': 10}\n",
      "0.810417 (0.033978) with: {'batch_size': 60, 'epochs': 50}\n",
      "0.870833 (0.021246) with: {'batch_size': 60, 'epochs': 100}\n",
      "0.785417 (0.049036) with: {'batch_size': 80, 'epochs': 10}\n",
      "0.829167 (0.049564) with: {'batch_size': 80, 'epochs': 50}\n",
      "0.858333 (0.028106) with: {'batch_size': 80, 'epochs': 100}\n",
      "0.745833 (0.007795) with: {'batch_size': 100, 'epochs': 10}\n",
      "0.825000 (0.062708) with: {'batch_size': 100, 'epochs': 50}\n",
      "0.864583 (0.029901) with: {'batch_size': 100, 'epochs': 100}\n"
     ]
    }
   ],
   "source": [
    "\n",
    "# create model\n",
    "model = KerasClassifier(build_fn=create_model, verbose=0)\n",
    "# define the grid search parameters\n",
    "batch_size = [10, 20, 40, 60, 80, 100]\n",
    "epochs = [10, 50, 100]\n",
    "param_grid = dict(batch_size=batch_size, epochs=epochs)\n",
    "grid = GridSearchCV(estimator=model, param_grid=param_grid, n_jobs=-1)\n",
    "grid_result = grid.fit(np.array(X), np.array(Y))\n",
    "# summarize results\n",
    "print(\"Best: %f using %s\" % (grid_result.best_score_, grid_result.best_params_))\n",
    "means = grid_result.cv_results_['mean_test_score']\n",
    "stds = grid_result.cv_results_['std_test_score']\n",
    "params = grid_result.cv_results_['params']\n",
    "for mean, stdev, param in zip(means, stds, params):\n",
    "    print(\"%f (%f) with: %r\" % (mean, stdev, param))"
   ]
  },
  {
   "cell_type": "code",
   "execution_count": null,
   "metadata": {
    "collapsed": true
   },
   "outputs": [],
   "source": []
  }
 ],
 "metadata": {
  "kernelspec": {
   "display_name": "Python 3",
   "language": "python",
   "name": "python3"
  },
  "language_info": {
   "codemirror_mode": {
    "name": "ipython",
    "version": 3
   },
   "file_extension": ".py",
   "mimetype": "text/x-python",
   "name": "python",
   "nbconvert_exporter": "python",
   "pygments_lexer": "ipython3",
   "version": "3.6.1"
  }
 },
 "nbformat": 4,
 "nbformat_minor": 2
}
