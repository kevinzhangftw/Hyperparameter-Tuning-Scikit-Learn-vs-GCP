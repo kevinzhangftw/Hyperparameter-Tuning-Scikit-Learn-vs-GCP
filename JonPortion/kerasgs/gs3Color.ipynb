{
 "cells": [
  {
   "cell_type": "code",
   "execution_count": 1,
   "metadata": {
    "scrolled": false
   },
   "outputs": [
    {
     "name": "stderr",
     "output_type": "stream",
     "text": [
      "Using TensorFlow backend.\n"
     ]
    }
   ],
   "source": [
    "import numpy as np\n",
    "import pandas as pd\n",
    "from sklearn.model_selection import GridSearchCV\n",
    "from keras.models import Sequential\n",
    "from keras.layers import Dense\n",
    "from keras.wrappers.scikit_learn import KerasClassifier\n",
    "from keras.optimizers import SGD\n",
    "# Function to create model, required for KerasClassifier\n",
    "def create_model(learn_rate=0.01, momentum=0):\n",
    "\t# create model\n",
    "\tmodel = Sequential()\n",
    "\tmodel.add(Dense(16, input_dim=3, activation='relu'))\n",
    "\tmodel.add(Dense(1, activation='sigmoid'))\n",
    "\t# Compile model\n",
    "\toptimizer = SGD(lr=learn_rate, momentum=momentum)\n",
    "\tmodel.compile(loss='binary_crossentropy', optimizer=optimizer, metrics=['accuracy'])\n",
    "\treturn model\n",
    "# fix random seed for reproducibility\n",
    "seed = 7\n",
    "np.random.seed(seed)\n",
    "# load dataset\n",
    "dataset = pd.read_csv(\"colour-data.csv\")\n",
    "X = dataset[['R', 'G', 'B']]\n",
    "\n",
    "Y = dataset[['Label']]"
   ]
  },
  {
   "cell_type": "code",
   "execution_count": 2,
   "metadata": {},
   "outputs": [
    {
     "name": "stdout",
     "output_type": "stream",
     "text": [
      "Best: 0.148251 using {'learn_rate': 0.001, 'momentum': 0.9}\n",
      "0.144674 (0.019610) with: {'learn_rate': 0.001, 'momentum': 0.0}\n",
      "0.144674 (0.019610) with: {'learn_rate': 0.001, 'momentum': 0.2}\n",
      "0.143879 (0.019805) with: {'learn_rate': 0.001, 'momentum': 0.4}\n",
      "0.143879 (0.019805) with: {'learn_rate': 0.001, 'momentum': 0.6}\n",
      "0.145072 (0.015773) with: {'learn_rate': 0.001, 'momentum': 0.8}\n",
      "0.148251 (0.013178) with: {'learn_rate': 0.001, 'momentum': 0.9}\n",
      "0.142687 (0.018213) with: {'learn_rate': 0.01, 'momentum': 0.0}\n",
      "0.142687 (0.018213) with: {'learn_rate': 0.01, 'momentum': 0.2}\n",
      "0.142687 (0.018213) with: {'learn_rate': 0.01, 'momentum': 0.4}\n",
      "0.142687 (0.018213) with: {'learn_rate': 0.01, 'momentum': 0.6}\n",
      "0.141892 (0.019090) with: {'learn_rate': 0.01, 'momentum': 0.8}\n",
      "0.142687 (0.018213) with: {'learn_rate': 0.01, 'momentum': 0.9}\n",
      "0.141892 (0.019090) with: {'learn_rate': 0.1, 'momentum': 0.0}\n",
      "0.142687 (0.018213) with: {'learn_rate': 0.1, 'momentum': 0.2}\n",
      "0.141892 (0.019090) with: {'learn_rate': 0.1, 'momentum': 0.4}\n",
      "0.141892 (0.019090) with: {'learn_rate': 0.1, 'momentum': 0.6}\n",
      "0.142687 (0.018213) with: {'learn_rate': 0.1, 'momentum': 0.8}\n",
      "0.141892 (0.019090) with: {'learn_rate': 0.1, 'momentum': 0.9}\n",
      "0.141892 (0.019090) with: {'learn_rate': 0.2, 'momentum': 0.0}\n",
      "0.142687 (0.018213) with: {'learn_rate': 0.2, 'momentum': 0.2}\n",
      "0.142687 (0.018213) with: {'learn_rate': 0.2, 'momentum': 0.4}\n",
      "0.142687 (0.018213) with: {'learn_rate': 0.2, 'momentum': 0.6}\n",
      "0.141892 (0.019090) with: {'learn_rate': 0.2, 'momentum': 0.8}\n",
      "0.141892 (0.019090) with: {'learn_rate': 0.2, 'momentum': 0.9}\n",
      "0.141892 (0.019090) with: {'learn_rate': 0.3, 'momentum': 0.0}\n",
      "0.141892 (0.019090) with: {'learn_rate': 0.3, 'momentum': 0.2}\n",
      "0.141892 (0.019090) with: {'learn_rate': 0.3, 'momentum': 0.4}\n",
      "0.141892 (0.019090) with: {'learn_rate': 0.3, 'momentum': 0.6}\n",
      "0.141892 (0.019090) with: {'learn_rate': 0.3, 'momentum': 0.8}\n",
      "0.141892 (0.019090) with: {'learn_rate': 0.3, 'momentum': 0.9}\n"
     ]
    }
   ],
   "source": [
    "\n",
    "# create model\n",
    "model = KerasClassifier(build_fn=create_model, verbose=0, batch_size=10, epochs=100)\n",
    "\n",
    "# define the grid search parameters\n",
    "learn_rate = [0.001, 0.01, 0.1, 0.2, 0.3]\n",
    "momentum = [0.0, 0.2, 0.4, 0.6, 0.8, 0.9]\n",
    "param_grid = dict(learn_rate=learn_rate, momentum=momentum)\n",
    "\n",
    "grid = GridSearchCV(estimator=model, param_grid=param_grid, n_jobs=-1)\n",
    "grid_result = grid.fit(np.array(X), np.array(Y))\n",
    "# summarize results\n",
    "print(\"Best: %f using %s\" % (grid_result.best_score_, grid_result.best_params_))\n",
    "means = grid_result.cv_results_['mean_test_score']\n",
    "stds = grid_result.cv_results_['std_test_score']\n",
    "params = grid_result.cv_results_['params']\n",
    "for mean, stdev, param in zip(means, stds, params):\n",
    "    print(\"%f (%f) with: %r\" % (mean, stdev, param))"
   ]
  },
  {
   "cell_type": "code",
   "execution_count": null,
   "metadata": {
    "collapsed": true
   },
   "outputs": [],
   "source": []
  }
 ],
 "metadata": {
  "kernelspec": {
   "display_name": "Python 3",
   "language": "python",
   "name": "python3"
  },
  "language_info": {
   "codemirror_mode": {
    "name": "ipython",
    "version": 3
   },
   "file_extension": ".py",
   "mimetype": "text/x-python",
   "name": "python",
   "nbconvert_exporter": "python",
   "pygments_lexer": "ipython3",
   "version": "3.6.1"
  }
 },
 "nbformat": 4,
 "nbformat_minor": 2
}
