{
 "cells": [
  {
   "cell_type": "code",
   "execution_count": 37,
   "metadata": {
    "collapsed": true
   },
   "outputs": [],
   "source": [
    "import numpy as np\n",
    "import pandas as pd\n",
    "from sklearn.model_selection import GridSearchCV\n",
    "from keras.models import Sequential\n",
    "from keras.layers import Dense\n",
    "from keras.layers import Dropout\n",
    "from keras.wrappers.scikit_learn import KerasClassifier\n",
    "from keras.optimizers import SGD\n",
    "from keras.constraints import maxnorm"
   ]
  },
  {
   "cell_type": "code",
   "execution_count": 73,
   "metadata": {
    "collapsed": true
   },
   "outputs": [],
   "source": [
    "#ModelCreate#Applies to GS1, GS2, GS4, GS5\n",
    "def create_model(input_dim=13, optimizer='adam', init_mode='uniform', activation='relu', dropout_rate=-1, weight_constraint=-1, neurons=16):\n",
    "\t# create model\n",
    "\tmodel = Sequential()\n",
    "\tmodel.add(Dense(neurons, input_dim=input_dim, kernel_initializer=init_mode, activation=activation))        \n",
    "\tmodel.add(Dense(1, kernel_initializer=init_mode, activation='sigmoid'))\n",
    "\t# Compile model\n",
    "\tmodel.compile(loss='binary_crossentropy', optimizer=optimizer, metrics=['accuracy'])\n",
    "\treturn model"
   ]
  },
  {
   "cell_type": "code",
   "execution_count": null,
   "metadata": {
    "collapsed": true
   },
   "outputs": [],
   "source": []
  },
  {
   "cell_type": "code",
   "execution_count": 49,
   "metadata": {
    "collapsed": true
   },
   "outputs": [],
   "source": [
    "##GS3\n",
    "#def create_model3(input_dim=13, learn_rate=0.01, momentum=0):\n",
    "#\t# create model\n",
    "#\tmodel = Sequential()\n",
    "#\tmodel.add(Dense(16, input_dim=input_dim, activation='relu'))\n",
    "#\tmodel.add(Dense(1, activation='sigmoid'))\n",
    "#\t# Compile model\n",
    "#\toptimizer = SGD(lr=learn_rate, momentum=momentum)\n",
    "#\tmodel.compile(loss='binary_crossentropy', optimizer=optimizer, metrics=['accuracy'])\n",
    "#\treturn model"
   ]
  },
  {
   "cell_type": "code",
   "execution_count": null,
   "metadata": {
    "collapsed": true
   },
   "outputs": [],
   "source": []
  },
  {
   "cell_type": "code",
   "execution_count": 62,
   "metadata": {
    "collapsed": true
   },
   "outputs": [],
   "source": [
    "def gs1Spec(input_dim=13):\n",
    "    model = KerasClassifier(build_fn=create_model, input_dim=input_dim, verbose=0)\n",
    "    # define the grid search parameters\n",
    "    batch_size = [10, 20, 40, 60, 80, 100]\n",
    "    epochs = [10, 50, 100]\n",
    "    param_grid = dict(batch_size=batch_size, epochs=epochs)\n",
    "    return model, batch_size, epochs, param_grid"
   ]
  },
  {
   "cell_type": "code",
   "execution_count": 63,
   "metadata": {
    "collapsed": true
   },
   "outputs": [],
   "source": [
    "def gs2Spec(input_dim=13, batch_size=10, epochs=100):\n",
    "    #####GS2\n",
    "    # create model\n",
    "    model = KerasClassifier(build_fn=create_model, input_dim=input_dim, verbose=0, batch_size=batch_size, epochs=epochs)\n",
    "\n",
    "    # define the grid search parameters\n",
    "    optimizer = ['SGD', 'RMSprop', 'Adagrad', 'Adadelta', 'Adam', 'Adamax', 'Nadam']\n",
    "    param_grid = dict(optimizer=optimizer)\n",
    "    \n",
    "    return model, optimizer, param_grid"
   ]
  },
  {
   "cell_type": "code",
   "execution_count": null,
   "metadata": {
    "collapsed": true
   },
   "outputs": [],
   "source": []
  },
  {
   "cell_type": "code",
   "execution_count": 64,
   "metadata": {
    "collapsed": true
   },
   "outputs": [],
   "source": [
    "#GS3 is solely for testing SGD, and affects no other tests.\n",
    "#def gs3Spec(input_dim=13, batch_size=10, epochs=100):\n",
    "#    # create model\n",
    "#    model = KerasClassifier(build_fn=create_model3, input_dim=input_dim, verbose=0, batch_size=batch_size, epochs=epochs)\n",
    "\n",
    "    # define the grid search parameters\n",
    "#    learn_rate = [0.001, 0.01, 0.1, 0.2, 0.3]\n",
    "#    momentum = [0.0, 0.2, 0.4, 0.6, 0.8, 0.9]\n",
    "#    param_grid = dict(learn_rate=learn_rate, momentum=momentum)\n",
    "#    return model, learn_rate, momentum, param_grid"
   ]
  },
  {
   "cell_type": "code",
   "execution_count": 65,
   "metadata": {
    "collapsed": true
   },
   "outputs": [],
   "source": [
    "def gs4Spec(input_dim=13, batch_size=10, epochs=100, optimizer='adam'):\n",
    "    # create model\n",
    "    model = KerasClassifier(build_fn=create_model, input_dim=input_dim, optimizer=optimizer, verbose=0, batch_size=batch_size, epochs=epochs)\n",
    "    init_mode = ['uniform', 'lecun_uniform', 'normal', 'zero', 'glorot_normal', 'glorot_uniform', 'he_normal', 'he_uniform']\n",
    "    param_grid = dict(init_mode=init_mode)\n",
    "    return model, init_mode, param_grid"
   ]
  },
  {
   "cell_type": "code",
   "execution_count": 66,
   "metadata": {
    "collapsed": true
   },
   "outputs": [],
   "source": [
    "def gs5Spec(input_dim=13, batch_size=10, epochs=100, optimizer='adam', init_mode='uniform'):\n",
    "    # create model\n",
    "    model = KerasClassifier(build_fn=create_model, input_dim=input_dim, optimizer=optimizer, init_mode=init_mode, verbose=0, batch_size=batch_size, epochs=epochs)\n",
    "    activation = ['softmax', 'softplus', 'softsign', 'relu', 'tanh', 'sigmoid', 'hard_sigmoid', 'linear']\n",
    "    param_grid = dict(activation=activation)\n",
    "    \n",
    "    return model, activation, param_grid"
   ]
  },
  {
   "cell_type": "code",
   "execution_count": 67,
   "metadata": {
    "collapsed": true
   },
   "outputs": [],
   "source": [
    "def gs6Spec(input_dim=13, batch_size=10, epochs=100, optimizer='adam', init_mode='uniform', activation='relu'):\n",
    "    # create model\n",
    "    model = KerasClassifier(build_fn=create_model, input_dim=input_dim, optimizer=optimizer, init_mode=init_mode, activation=activation, dropout_rate=0.0, weight_constraint=0, verbose=0, batch_size=batch_size, epochs=epochs)\n",
    "    weight_constraint = [1, 2, 3, 4, 5]\n",
    "    dropout_rate = [0.0, 0.1, 0.2, 0.3, 0.4, 0.5, 0.6, 0.7, 0.8, 0.9]\n",
    "    param_grid = dict(dropout_rate=dropout_rate, weight_constraint=weight_constraint)\n",
    "    \n",
    "    return model, weight_constraint, dropout_rate, param_grid"
   ]
  },
  {
   "cell_type": "code",
   "execution_count": 68,
   "metadata": {
    "collapsed": true
   },
   "outputs": [],
   "source": [
    "def gs7Spec(input_dim=13, batch_size=10, epochs=100, optimizer='adam', init_mode='uniform', activation='relu', dropout_rate=0.0, weight_constraint=0):\n",
    "    # create model\n",
    "    model = KerasClassifier(build_fn=create_model, input_dim=input_dim, optimizer=optimizer, init_mode=init_mode, activation=activation, dropout_rate=dropout_rate, weight_constraint=weight_constraint, verbose=0, batch_size=batch_size, epochs=epochs)\n",
    "    neurons = [1, 5, 10, 15, 20, 25, 30]\n",
    "    param_grid = dict(neurons=neurons)\n",
    "    return model, neurons, param_grid"
   ]
  },
  {
   "cell_type": "code",
   "execution_count": 69,
   "metadata": {
    "collapsed": true
   },
   "outputs": [],
   "source": [
    "def studentSetup():\n",
    "    ####Education Data Setup\n",
    "    # load dataset\n",
    "    dataset = pd.read_csv(\"slim-xAPI-Edu-Data.csv\")\n",
    "    #students failed if they are in class L.\n",
    "    dataset['Failed'] = np.where(dataset['Class'] == 'L', True, False)\n",
    "    dataset['gender'] = np.where(dataset['gender']=='M',1,0)\n",
    "    dataset['Relation'] = np.where(dataset['Relation']=='Father',1,0)\n",
    "    dataset['ParentAnsweringSurvey'] = np.where(dataset['ParentAnsweringSurvey'] == 'Yes', 1, 0)\n",
    "    dataset['ParentschoolSatisfaction'] = np.where(dataset['ParentschoolSatisfaction'] == 'Yes', 1, 0)\n",
    "    dataset['AbsentMoreThanWeek'] = np.where(dataset['StudentAbsenceDays'] == 'Above-7', 1, 0)\n",
    "    dataset['Semester'] = np.where(dataset['Semester'] == 'F', 1, 0)\n",
    "\n",
    "    X = dataset[['raisedhands', 'VisITedResources', 'SectionID', 'Topic', 'StageID', 'AnnouncementsView', 'Semester', 'Discussion', 'gender', 'Relation', 'ParentAnsweringSurvey', 'ParentschoolSatisfaction', 'AbsentMoreThanWeek']]\n",
    "    Y = dataset[['Failed']]\n",
    "    \n",
    "    return X, Y"
   ]
  },
  {
   "cell_type": "code",
   "execution_count": 70,
   "metadata": {
    "collapsed": true
   },
   "outputs": [],
   "source": [
    "def colourSetup():\n",
    "    dataset = pd.read_csv(\"colour-data.csv\")\n",
    "    X = dataset[['R', 'G', 'B']]\n",
    "    Y = dataset[['Label']]\n",
    "    return X, Y"
   ]
  },
  {
   "cell_type": "code",
   "execution_count": 86,
   "metadata": {
    "collapsed": true
   },
   "outputs": [],
   "source": [
    "def weatherSetup():\n",
    "    dataset = pd.read_csv(\"modified-monthly-data-labelled.csv\")\n",
    "    X = dataset.iloc[:,0:61]\n",
    "    Y = dataset.iloc[:,61]\n",
    "    return X, Y"
   ]
  },
  {
   "cell_type": "code",
   "execution_count": 71,
   "metadata": {
    "collapsed": true
   },
   "outputs": [],
   "source": [
    "def printResult(grid_result):\n",
    "        #Printing Results / Best Parameters.\n",
    "    print(\"Best: %f using %s\" % (grid_result.best_score_, grid_result.best_params_))\n",
    "    means = grid_result.cv_results_['mean_test_score']\n",
    "    stds = grid_result.cv_results_['std_test_score']\n",
    "    params = grid_result.cv_results_['params']\n",
    "    for mean, stdev, param in zip(means, stds, params):\n",
    "        print(\"%f (%f) with: %r\" % (mean, stdev, param))"
   ]
  },
  {
   "cell_type": "code",
   "execution_count": 11,
   "metadata": {
    "collapsed": true
   },
   "outputs": [],
   "source": [
    "# fix random seed for reproducibility\n",
    "seed = 7\n",
    "np.random.seed(seed)"
   ]
  },
  {
   "cell_type": "code",
   "execution_count": 12,
   "metadata": {
    "collapsed": true
   },
   "outputs": [],
   "source": [
    "X, Y = studentSetup()"
   ]
  },
  {
   "cell_type": "code",
   "execution_count": 74,
   "metadata": {
    "collapsed": true
   },
   "outputs": [],
   "source": [
    "model, batch_size, epochs, param_grid = gs1Spec(input_dim=X.shape[1])"
   ]
  },
  {
   "cell_type": "code",
   "execution_count": 46,
   "metadata": {
    "collapsed": true
   },
   "outputs": [],
   "source": [
    "#####Processing Search 1 - for Batch Size and Epochs.\n",
    "grid = GridSearchCV(estimator=model, param_grid=param_grid, n_jobs=-1)\n",
    "grid_result = grid.fit(np.array(X), np.array(Y))"
   ]
  },
  {
   "cell_type": "code",
   "execution_count": 47,
   "metadata": {},
   "outputs": [
    {
     "name": "stdout",
     "output_type": "stream",
     "text": [
      "Best: 0.910417 using {'batch_size': 20, 'epochs': 100}\n",
      "0.841667 (0.025685) with: {'batch_size': 10, 'epochs': 10}\n",
      "0.900000 (0.000000) with: {'batch_size': 10, 'epochs': 50}\n",
      "0.908333 (0.005893) with: {'batch_size': 10, 'epochs': 100}\n",
      "0.845833 (0.017922) with: {'batch_size': 20, 'epochs': 10}\n",
      "0.887500 (0.018399) with: {'batch_size': 20, 'epochs': 50}\n",
      "0.910417 (0.010623) with: {'batch_size': 20, 'epochs': 100}\n",
      "0.802083 (0.055979) with: {'batch_size': 40, 'epochs': 10}\n",
      "0.881250 (0.026516) with: {'batch_size': 40, 'epochs': 50}\n",
      "0.902083 (0.010623) with: {'batch_size': 40, 'epochs': 100}\n",
      "0.789583 (0.069472) with: {'batch_size': 60, 'epochs': 10}\n",
      "0.864583 (0.029463) with: {'batch_size': 60, 'epochs': 50}\n",
      "0.889583 (0.026187) with: {'batch_size': 60, 'epochs': 100}\n",
      "0.754167 (0.056211) with: {'batch_size': 80, 'epochs': 10}\n",
      "0.847917 (0.020624) with: {'batch_size': 80, 'epochs': 50}\n",
      "0.868750 (0.020412) with: {'batch_size': 80, 'epochs': 100}\n",
      "0.743750 (0.051791) with: {'batch_size': 100, 'epochs': 10}\n",
      "0.850000 (0.030619) with: {'batch_size': 100, 'epochs': 50}\n",
      "0.879167 (0.028106) with: {'batch_size': 100, 'epochs': 100}\n"
     ]
    }
   ],
   "source": [
    "bestBatchSize = grid_result.best_params_.get('batch_size')\n",
    "bestEpochs = grid_result.best_params_.get('epochs')\n",
    "printResult(grid_result)"
   ]
  },
  {
   "cell_type": "code",
   "execution_count": 19,
   "metadata": {
    "collapsed": true
   },
   "outputs": [],
   "source": [
    "#####Processing Search 2 - for best Optimizer.\n",
    "model, optimizer, param_grid = gs2Spec(input_dim=X.shape[1], batch_size=bestBatchSize, epochs=bestEpochs)"
   ]
  },
  {
   "cell_type": "code",
   "execution_count": 20,
   "metadata": {
    "collapsed": true
   },
   "outputs": [],
   "source": [
    "grid = GridSearchCV(estimator=model, param_grid=param_grid, n_jobs=-1)\n",
    "grid_result = grid.fit(np.array(X), np.array(Y))"
   ]
  },
  {
   "cell_type": "code",
   "execution_count": 21,
   "metadata": {},
   "outputs": [
    {
     "name": "stdout",
     "output_type": "stream",
     "text": [
      "Best: 0.916667 using {'optimizer': 'Adam'}\n",
      "0.777083 (0.074361) with: {'optimizer': 'SGD'}\n",
      "0.908333 (0.010623) with: {'optimizer': 'RMSprop'}\n",
      "0.897917 (0.015590) with: {'optimizer': 'Adagrad'}\n",
      "0.904167 (0.015590) with: {'optimizer': 'Adadelta'}\n",
      "0.916667 (0.014731) with: {'optimizer': 'Adam'}\n",
      "0.910417 (0.005893) with: {'optimizer': 'Adamax'}\n",
      "0.893750 (0.020412) with: {'optimizer': 'Nadam'}\n"
     ]
    }
   ],
   "source": [
    "#From GS2, we get the best optimizer.  Save this for future reference.  Pray it is not SGD.\n",
    "bestOptimizer = grid_result.best_params_.get('optimizer')\n",
    "printResult(grid_result)"
   ]
  },
  {
   "cell_type": "code",
   "execution_count": 22,
   "metadata": {
    "collapsed": true
   },
   "outputs": [],
   "source": [
    "#model, learn_rate, momentum, param_grid = gs3Spec(input_dim=X.shape[1], batch_size=bestBatchSize, epochs=bestEpochs)"
   ]
  },
  {
   "cell_type": "code",
   "execution_count": 23,
   "metadata": {
    "collapsed": true
   },
   "outputs": [],
   "source": [
    "#grid = GridSearchCV(estimator=model, param_grid=param_grid, n_jobs=-1)\n",
    "#grid_result = grid.fit(np.array(X), np.array(Y))"
   ]
  },
  {
   "cell_type": "code",
   "execution_count": 24,
   "metadata": {
    "scrolled": true
   },
   "outputs": [
    {
     "name": "stdout",
     "output_type": "stream",
     "text": [
      "Best: 0.868750 using {'learn_rate': 0.001, 'momentum': 0.8}\n",
      "0.858333 (0.029463) with: {'learn_rate': 0.001, 'momentum': 0.0}\n",
      "0.858333 (0.043401) with: {'learn_rate': 0.001, 'momentum': 0.2}\n",
      "0.850000 (0.018399) with: {'learn_rate': 0.001, 'momentum': 0.4}\n",
      "0.835417 (0.026187) with: {'learn_rate': 0.001, 'momentum': 0.6}\n",
      "0.868750 (0.038528) with: {'learn_rate': 0.001, 'momentum': 0.8}\n",
      "0.862500 (0.005103) with: {'learn_rate': 0.001, 'momentum': 0.9}\n",
      "0.756250 (0.058852) with: {'learn_rate': 0.01, 'momentum': 0.0}\n",
      "0.789583 (0.057358) with: {'learn_rate': 0.01, 'momentum': 0.2}\n",
      "0.847917 (0.028106) with: {'learn_rate': 0.01, 'momentum': 0.4}\n",
      "0.704167 (0.093030) with: {'learn_rate': 0.01, 'momentum': 0.6}\n",
      "0.808333 (0.095516) with: {'learn_rate': 0.01, 'momentum': 0.8}\n",
      "0.775000 (0.058852) with: {'learn_rate': 0.01, 'momentum': 0.9}\n",
      "0.735417 (0.044585) with: {'learn_rate': 0.1, 'momentum': 0.0}\n",
      "0.735417 (0.044585) with: {'learn_rate': 0.1, 'momentum': 0.2}\n",
      "0.618750 (0.208104) with: {'learn_rate': 0.1, 'momentum': 0.4}\n",
      "0.735417 (0.044585) with: {'learn_rate': 0.1, 'momentum': 0.6}\n",
      "0.735417 (0.044585) with: {'learn_rate': 0.1, 'momentum': 0.8}\n",
      "0.735417 (0.044585) with: {'learn_rate': 0.1, 'momentum': 0.9}\n",
      "0.735417 (0.044585) with: {'learn_rate': 0.2, 'momentum': 0.0}\n",
      "0.568750 (0.229526) with: {'learn_rate': 0.2, 'momentum': 0.2}\n",
      "0.452083 (0.234761) with: {'learn_rate': 0.2, 'momentum': 0.4}\n",
      "0.568750 (0.229526) with: {'learn_rate': 0.2, 'momentum': 0.6}\n",
      "0.735417 (0.044585) with: {'learn_rate': 0.2, 'momentum': 0.8}\n",
      "0.735417 (0.044585) with: {'learn_rate': 0.2, 'momentum': 0.9}\n",
      "0.735417 (0.044585) with: {'learn_rate': 0.3, 'momentum': 0.0}\n",
      "0.735417 (0.044585) with: {'learn_rate': 0.3, 'momentum': 0.2}\n",
      "0.568750 (0.229526) with: {'learn_rate': 0.3, 'momentum': 0.4}\n",
      "0.735417 (0.044585) with: {'learn_rate': 0.3, 'momentum': 0.6}\n",
      "0.735417 (0.044585) with: {'learn_rate': 0.3, 'momentum': 0.8}\n",
      "0.547917 (0.234761) with: {'learn_rate': 0.3, 'momentum': 0.9}\n"
     ]
    }
   ],
   "source": [
    "##we get no useful info from gs3 except what would be best to use for sgd\n",
    "#bestSGDLearn = grid_result.best_params_.get('learn_rate')\n",
    "#bestSGDMomentum = grid_result.best_params_.get('momentum')\n",
    "\n",
    "#printResult(grid_result)"
   ]
  },
  {
   "cell_type": "code",
   "execution_count": 53,
   "metadata": {
    "collapsed": true
   },
   "outputs": [],
   "source": [
    "model, init_mode, param_grid = gs4Spec(input_dim=X.shape[1], batch_size=bestBatchSize, epochs=bestEpochs, optimizer=bestOptimizer)"
   ]
  },
  {
   "cell_type": "code",
   "execution_count": 54,
   "metadata": {
    "collapsed": true
   },
   "outputs": [],
   "source": [
    "grid = GridSearchCV(estimator=model, param_grid=param_grid, n_jobs=-1)\n",
    "grid_result = grid.fit(np.array(X), np.array(Y))"
   ]
  },
  {
   "cell_type": "code",
   "execution_count": 69,
   "metadata": {},
   "outputs": [
    {
     "name": "stdout",
     "output_type": "stream",
     "text": [
      "Best: 0.908333 using {'init_mode': 'glorot_uniform'}\n",
      "0.906250 (0.010206) with: {'init_mode': 'uniform'}\n",
      "0.904167 (0.014731) with: {'init_mode': 'lecun_uniform'}\n",
      "0.889583 (0.007795) with: {'init_mode': 'normal'}\n",
      "0.735417 (0.044585) with: {'init_mode': 'zero'}\n",
      "0.897917 (0.002946) with: {'init_mode': 'glorot_normal'}\n",
      "0.908333 (0.011785) with: {'init_mode': 'glorot_uniform'}\n",
      "0.893750 (0.023385) with: {'init_mode': 'he_normal'}\n",
      "0.877083 (0.029017) with: {'init_mode': 'he_uniform'}\n"
     ]
    }
   ],
   "source": [
    "#from gs4, we get the best init mode.\n",
    "bestInitMode = grid_result.best_params_.get('init_mode')\n",
    "printResult(grid_result)"
   ]
  },
  {
   "cell_type": "code",
   "execution_count": 74,
   "metadata": {
    "collapsed": true
   },
   "outputs": [],
   "source": [
    "model, activation, param_grid = gs5Spec(input_dim=X.shape[1], batch_size=bestBatchSize, epochs=bestEpochs, optimizer=bestOptimizer, init_mode=bestInitMode)"
   ]
  },
  {
   "cell_type": "code",
   "execution_count": 75,
   "metadata": {
    "collapsed": true
   },
   "outputs": [],
   "source": [
    "grid = GridSearchCV(estimator=model, param_grid=param_grid, n_jobs=-1)\n",
    "grid_result = grid.fit(np.array(X), np.array(Y))"
   ]
  },
  {
   "cell_type": "code",
   "execution_count": 76,
   "metadata": {},
   "outputs": [
    {
     "name": "stdout",
     "output_type": "stream",
     "text": [
      "Best: 0.904167 using {'activation': 'linear'}\n",
      "0.885417 (0.033978) with: {'activation': 'softmax'}\n",
      "0.887500 (0.031041) with: {'activation': 'softplus'}\n",
      "0.877083 (0.012843) with: {'activation': 'softsign'}\n",
      "0.893750 (0.008839) with: {'activation': 'relu'}\n",
      "0.870833 (0.005893) with: {'activation': 'tanh'}\n",
      "0.883333 (0.010623) with: {'activation': 'sigmoid'}\n",
      "0.872917 (0.026187) with: {'activation': 'hard_sigmoid'}\n",
      "0.904167 (0.010623) with: {'activation': 'linear'}\n"
     ]
    }
   ],
   "source": [
    "bestActivation = grid_result.best_params_.get('activation')\n",
    "printResult(grid_result)"
   ]
  },
  {
   "cell_type": "code",
   "execution_count": 15,
   "metadata": {
    "collapsed": true
   },
   "outputs": [],
   "source": [
    "\n",
    "\n",
    "#model, weight_constraint, dropout_rate, param_grid = gs6Spec(input_dim=X.shape[1], batch_size=bestBatchSize, epochs=bestEpochs, optimizer=bestOptimizer, init_mode=bestInitMode, activation=bestActivation)"
   ]
  },
  {
   "cell_type": "code",
   "execution_count": 16,
   "metadata": {
    "collapsed": true
   },
   "outputs": [],
   "source": [
    "#grid = GridSearchCV(estimator=model, param_grid=param_grid, n_jobs=-1)\n",
    "#grid_result = grid.fit(np.array(X), np.array(Y))"
   ]
  },
  {
   "cell_type": "code",
   "execution_count": 27,
   "metadata": {
    "collapsed": true
   },
   "outputs": [],
   "source": [
    "#Pick these up for later print-off.\n",
    "#bestDropoutRate = grid_result.best_params_.get('dropout_rate')\n",
    "#bestWeightConstraint = grid_result.best_params_.get('weight_constraint')\n",
    "#printResult(grid_result)\n",
    "\n",
    "#bestBatchSize = 20\n",
    "#bestEpochs = 100\n",
    "#bestOptimizer = 'Adam'\n",
    "#bestInitMode = 'glorot_uniform'\n",
    "#bestActivation = 'linear'\n",
    "#bestDropoutRate = 0\n",
    "#bestWeightConstraint = 0\n",
    "#bestNeurons = 30"
   ]
  },
  {
   "cell_type": "code",
   "execution_count": 28,
   "metadata": {
    "collapsed": true
   },
   "outputs": [],
   "source": [
    "model, neurons, param_grid = gs7Spec(input_dim=X.shape[1], batch_size=bestBatchSize, epochs=bestEpochs, optimizer=bestOptimizer, init_mode=bestInitMode, dropout_rate = 0, weight_constraint=0)"
   ]
  },
  {
   "cell_type": "code",
   "execution_count": 29,
   "metadata": {
    "collapsed": true
   },
   "outputs": [],
   "source": [
    "grid = GridSearchCV(estimator=model, param_grid=param_grid, n_jobs=-1)\n",
    "grid_result = grid.fit(np.array(X), np.array(Y))"
   ]
  },
  {
   "cell_type": "code",
   "execution_count": 30,
   "metadata": {},
   "outputs": [
    {
     "name": "stdout",
     "output_type": "stream",
     "text": [
      "Best: 0.904167 using {'neurons': 30}\n",
      "0.789583 (0.036204) with: {'neurons': 1}\n",
      "0.862500 (0.015309) with: {'neurons': 5}\n",
      "0.897917 (0.002946) with: {'neurons': 10}\n",
      "0.897917 (0.016404) with: {'neurons': 15}\n",
      "0.893750 (0.027003) with: {'neurons': 20}\n",
      "0.902083 (0.015590) with: {'neurons': 25}\n",
      "0.904167 (0.020624) with: {'neurons': 30}\n"
     ]
    }
   ],
   "source": [
    "bestNeurons = grid_result.best_params_.get('neurons')\n",
    "printResult(grid_result)"
   ]
  },
  {
   "cell_type": "code",
   "execution_count": 75,
   "metadata": {
    "collapsed": true
   },
   "outputs": [],
   "source": [
    "X, Y = colourSetup()"
   ]
  },
  {
   "cell_type": "code",
   "execution_count": 77,
   "metadata": {
    "collapsed": true
   },
   "outputs": [],
   "source": [
    "model, batch_size, epochs, param_grid = gs1Spec(input_dim=X.shape[1])"
   ]
  },
  {
   "cell_type": "code",
   "execution_count": 78,
   "metadata": {
    "collapsed": true
   },
   "outputs": [],
   "source": [
    "#####Processing Search 1 - for Batch Size and Epochs.\n",
    "grid = GridSearchCV(estimator=model, param_grid=param_grid, n_jobs=-1)\n",
    "grid_result = grid.fit(np.array(X), np.array(Y))"
   ]
  },
  {
   "cell_type": "code",
   "execution_count": 79,
   "metadata": {},
   "outputs": [
    {
     "name": "stdout",
     "output_type": "stream",
     "text": [
      "Best: 0.149841 using {'batch_size': 10, 'epochs': 100}\n",
      "0.141892 (0.019090) with: {'batch_size': 10, 'epochs': 10}\n",
      "0.145866 (0.015040) with: {'batch_size': 10, 'epochs': 50}\n",
      "0.149841 (0.012299) with: {'batch_size': 10, 'epochs': 100}\n",
      "0.141892 (0.019090) with: {'batch_size': 20, 'epochs': 10}\n",
      "0.143879 (0.016953) with: {'batch_size': 20, 'epochs': 50}\n",
      "0.147854 (0.013447) with: {'batch_size': 20, 'epochs': 100}\n",
      "0.141892 (0.019090) with: {'batch_size': 40, 'epochs': 10}\n",
      "0.142687 (0.018213) with: {'batch_size': 40, 'epochs': 50}\n",
      "0.144674 (0.016157) with: {'batch_size': 40, 'epochs': 100}\n",
      "0.141892 (0.019090) with: {'batch_size': 60, 'epochs': 10}\n",
      "0.142687 (0.018213) with: {'batch_size': 60, 'epochs': 50}\n",
      "0.142687 (0.018213) with: {'batch_size': 60, 'epochs': 100}\n",
      "0.141892 (0.019090) with: {'batch_size': 80, 'epochs': 10}\n",
      "0.141892 (0.019090) with: {'batch_size': 80, 'epochs': 50}\n",
      "0.143084 (0.017786) with: {'batch_size': 80, 'epochs': 100}\n",
      "0.141892 (0.019090) with: {'batch_size': 100, 'epochs': 10}\n",
      "0.141892 (0.019090) with: {'batch_size': 100, 'epochs': 50}\n",
      "0.141892 (0.019090) with: {'batch_size': 100, 'epochs': 100}\n"
     ]
    }
   ],
   "source": [
    "bestBatchSize = grid_result.best_params_.get('batch_size')\n",
    "bestEpochs = grid_result.best_params_.get('epochs')\n",
    "printResult(grid_result)"
   ]
  },
  {
   "cell_type": "code",
   "execution_count": 80,
   "metadata": {
    "collapsed": true
   },
   "outputs": [],
   "source": [
    "#####Processing Search 2 - for best Optimizer.\n",
    "model, optimizer, param_grid = gs2Spec(input_dim=X.shape[1], batch_size=bestBatchSize, epochs=bestEpochs)"
   ]
  },
  {
   "cell_type": "code",
   "execution_count": 81,
   "metadata": {
    "collapsed": true
   },
   "outputs": [],
   "source": [
    "#####Processing Search 1 - for Batch Size and Epochs.\n",
    "grid = GridSearchCV(estimator=model, param_grid=param_grid, n_jobs=-1)\n",
    "grid_result = grid.fit(np.array(X), np.array(Y))"
   ]
  },
  {
   "cell_type": "code",
   "execution_count": 82,
   "metadata": {},
   "outputs": [
    {
     "name": "stdout",
     "output_type": "stream",
     "text": [
      "Best: 0.155803 using {'optimizer': 'Nadam'}\n",
      "0.141892 (0.019090) with: {'optimizer': 'SGD'}\n",
      "0.150636 (0.011994) with: {'optimizer': 'RMSprop'}\n",
      "0.142687 (0.018213) with: {'optimizer': 'Adagrad'}\n",
      "0.143482 (0.017365) with: {'optimizer': 'Adadelta'}\n",
      "0.152623 (0.010826) with: {'optimizer': 'Adam'}\n",
      "0.145469 (0.015401) with: {'optimizer': 'Adamax'}\n",
      "0.155803 (0.011690) with: {'optimizer': 'Nadam'}\n"
     ]
    }
   ],
   "source": [
    "#From GS2, we get the best optimizer.  Save this for future reference.  Pray it is not SGD.\n",
    "bestOptimizer = grid_result.best_params_.get('optimizer')\n",
    "printResult(grid_result)"
   ]
  },
  {
   "cell_type": "code",
   "execution_count": null,
   "metadata": {
    "collapsed": true
   },
   "outputs": [],
   "source": [
    "#model, learn_rate, momentum, param_grid = gs3Spec(input_dim=X.shape[1], batch_size=bestBatchSize, epochs=bestEpochs)"
   ]
  },
  {
   "cell_type": "code",
   "execution_count": null,
   "metadata": {
    "collapsed": true
   },
   "outputs": [],
   "source": [
    "#grid = GridSearchCV(estimator=model, param_grid=param_grid, n_jobs=-1)\n",
    "#grid_result = grid.fit(np.array(X), np.array(Y))"
   ]
  },
  {
   "cell_type": "code",
   "execution_count": null,
   "metadata": {
    "collapsed": true
   },
   "outputs": [],
   "source": [
    "##we get no useful info from gs3 except what would be best to use for sgd\n",
    "#bestSGDLearn = grid_result.best_params_.get('learn_rate')\n",
    "#bestSGDMomentum = grid_result.best_params_.get('momentum')\n",
    "#printResult(grid_result)"
   ]
  },
  {
   "cell_type": "code",
   "execution_count": 83,
   "metadata": {
    "collapsed": true
   },
   "outputs": [],
   "source": [
    "###GS4\n",
    "model, init_mode, param_grid = gs4Spec(input_dim=X.shape[1], batch_size=bestBatchSize, epochs=bestEpochs, optimizer=bestOptimizer)"
   ]
  },
  {
   "cell_type": "code",
   "execution_count": 84,
   "metadata": {
    "collapsed": true
   },
   "outputs": [],
   "source": [
    "grid = GridSearchCV(estimator=model, param_grid=param_grid, n_jobs=-1)\n",
    "grid_result = grid.fit(np.array(X), np.array(Y))"
   ]
  },
  {
   "cell_type": "code",
   "execution_count": 85,
   "metadata": {},
   "outputs": [
    {
     "name": "stdout",
     "output_type": "stream",
     "text": [
      "Best: 0.158188 using {'init_mode': 'glorot_normal'}\n",
      "0.155008 (0.010263) with: {'init_mode': 'uniform'}\n",
      "0.154213 (0.011580) with: {'init_mode': 'lecun_uniform'}\n",
      "0.154213 (0.009789) with: {'init_mode': 'normal'}\n",
      "0.141892 (0.019090) with: {'init_mode': 'zero'}\n",
      "0.158188 (0.010760) with: {'init_mode': 'glorot_normal'}\n",
      "0.156598 (0.011726) with: {'init_mode': 'glorot_uniform'}\n",
      "0.153816 (0.010707) with: {'init_mode': 'he_normal'}\n",
      "0.158188 (0.012052) with: {'init_mode': 'he_uniform'}\n"
     ]
    }
   ],
   "source": [
    "#from gs4, we get the best init mode.\n",
    "bestInitMode = grid_result.best_params_.get('init_mode')\n",
    "printResult(grid_result)"
   ]
  },
  {
   "cell_type": "code",
   "execution_count": null,
   "metadata": {
    "collapsed": true
   },
   "outputs": [],
   "source": [
    "###GS5\n",
    "model, activation, param_grid = gs5Spec(input_dim=X.shape[1], batch_size=bestBatchSize, epochs=bestEpochs, optimizer=bestOptimizer, init_mode=bestInitMode)"
   ]
  },
  {
   "cell_type": "code",
   "execution_count": null,
   "metadata": {
    "collapsed": true
   },
   "outputs": [],
   "source": [
    "grid = GridSearchCV(estimator=model, param_grid=param_grid, n_jobs=-1)\n",
    "grid_result = grid.fit(np.array(X), np.array(Y))"
   ]
  },
  {
   "cell_type": "code",
   "execution_count": null,
   "metadata": {
    "collapsed": true
   },
   "outputs": [],
   "source": [
    "bestActivation = grid_result.best_params_.get('activation')\n",
    "printResult(grid_result)"
   ]
  },
  {
   "cell_type": "code",
   "execution_count": null,
   "metadata": {
    "collapsed": true
   },
   "outputs": [],
   "source": [
    "###GS7\n",
    "model, neurons, param_grid = gs7Spec(input_dim=X.shape[1], batch_size=bestBatchSize, epochs=bestEpochs, optimizer=bestOptimizer, init_mode=bestInitMode, dropout_rate = 0, weight_constraint=0)"
   ]
  },
  {
   "cell_type": "code",
   "execution_count": null,
   "metadata": {
    "collapsed": true
   },
   "outputs": [],
   "source": [
    "grid = GridSearchCV(estimator=model, param_grid=param_grid, n_jobs=-1)\n",
    "grid_result = grid.fit(np.array(X), np.array(Y))"
   ]
  },
  {
   "cell_type": "code",
   "execution_count": null,
   "metadata": {
    "collapsed": true
   },
   "outputs": [],
   "source": [
    "bestNeurons = grid_result.best_params_.get('neurons')\n",
    "printResult(grid_result)"
   ]
  },
  {
   "cell_type": "code",
   "execution_count": null,
   "metadata": {
    "collapsed": true
   },
   "outputs": [],
   "source": [
    "####Weather Dataset.\n",
    "X, Y = weatherSetup()"
   ]
  },
  {
   "cell_type": "code",
   "execution_count": null,
   "metadata": {
    "collapsed": true
   },
   "outputs": [],
   "source": [
    "model, batch_size, epochs, param_grid = gs1Spec(input_dim=X.shape[1])"
   ]
  },
  {
   "cell_type": "code",
   "execution_count": null,
   "metadata": {
    "collapsed": true
   },
   "outputs": [],
   "source": [
    "#####Processing Search 1 - for Batch Size and Epochs.\n",
    "grid = GridSearchCV(estimator=model, param_grid=param_grid, n_jobs=-1)\n",
    "grid_result = grid.fit(np.array(X), np.array(Y))"
   ]
  },
  {
   "cell_type": "code",
   "execution_count": null,
   "metadata": {
    "collapsed": true
   },
   "outputs": [],
   "source": [
    "bestBatchSize = grid_result.best_params_.get('batch_size')\n",
    "bestEpochs = grid_result.best_params_.get('epochs')\n",
    "printResult(grid_result)"
   ]
  },
  {
   "cell_type": "code",
   "execution_count": null,
   "metadata": {
    "collapsed": true
   },
   "outputs": [],
   "source": [
    "#####Processing Search 2 - for best Optimizer.\n",
    "model, optimizer, param_grid = gs2Spec(input_dim=X.shape[1], batch_size=bestBatchSize, epochs=bestEpochs)"
   ]
  },
  {
   "cell_type": "code",
   "execution_count": null,
   "metadata": {
    "collapsed": true
   },
   "outputs": [],
   "source": [
    "#####Processing Search 1 - for Batch Size and Epochs.\n",
    "grid = GridSearchCV(estimator=model, param_grid=param_grid, n_jobs=-1)\n",
    "grid_result = grid.fit(np.array(X), np.array(Y))"
   ]
  },
  {
   "cell_type": "code",
   "execution_count": null,
   "metadata": {
    "collapsed": true
   },
   "outputs": [],
   "source": [
    "#From GS2, we get the best optimizer.  Save this for future reference.  Pray it is not SGD.\n",
    "bestOptimizer = grid_result.best_params_.get('optimizer')\n",
    "printResult(grid_result)"
   ]
  },
  {
   "cell_type": "code",
   "execution_count": null,
   "metadata": {
    "collapsed": true
   },
   "outputs": [],
   "source": [
    "#model, learn_rate, momentum, param_grid = gs3Spec(input_dim=X.shape[1], batch_size=bestBatchSize, epochs=bestEpochs)"
   ]
  },
  {
   "cell_type": "code",
   "execution_count": null,
   "metadata": {
    "collapsed": true
   },
   "outputs": [],
   "source": [
    "#grid = GridSearchCV(estimator=model, param_grid=param_grid, n_jobs=-1)\n",
    "#grid_result = grid.fit(np.array(X), np.array(Y))"
   ]
  },
  {
   "cell_type": "code",
   "execution_count": null,
   "metadata": {
    "collapsed": true
   },
   "outputs": [],
   "source": [
    "##we get no useful info from gs3 except what would be best to use for sgd\n",
    "#bestSGDLearn = grid_result.best_params_.get('learn_rate')\n",
    "#bestSGDMomentum = grid_result.best_params_.get('momentum')\n",
    "#printResult(grid_result)"
   ]
  },
  {
   "cell_type": "code",
   "execution_count": null,
   "metadata": {
    "collapsed": true
   },
   "outputs": [],
   "source": [
    "###GS4\n",
    "model, init_mode, param_grid = gs4Spec(input_dim=X.shape[1], batch_size=bestBatchSize, epochs=bestEpochs, optimizer=bestOptimizer)"
   ]
  },
  {
   "cell_type": "code",
   "execution_count": null,
   "metadata": {
    "collapsed": true
   },
   "outputs": [],
   "source": [
    "grid = GridSearchCV(estimator=model, param_grid=param_grid, n_jobs=-1)\n",
    "grid_result = grid.fit(np.array(X), np.array(Y))"
   ]
  },
  {
   "cell_type": "code",
   "execution_count": null,
   "metadata": {
    "collapsed": true
   },
   "outputs": [],
   "source": [
    "#from gs4, we get the best init mode.\n",
    "bestInitMode = grid_result.best_params_.get('init_mode')\n",
    "printResult(grid_result)"
   ]
  },
  {
   "cell_type": "code",
   "execution_count": null,
   "metadata": {
    "collapsed": true
   },
   "outputs": [],
   "source": [
    "###GS5\n",
    "model, activation, param_grid = gs5Spec(input_dim=X.shape[1], batch_size=bestBatchSize, epochs=bestEpochs, optimizer=bestOptimizer, init_mode=bestInitMode)"
   ]
  },
  {
   "cell_type": "code",
   "execution_count": null,
   "metadata": {
    "collapsed": true
   },
   "outputs": [],
   "source": [
    "grid = GridSearchCV(estimator=model, param_grid=param_grid, n_jobs=-1)\n",
    "grid_result = grid.fit(np.array(X), np.array(Y))"
   ]
  },
  {
   "cell_type": "code",
   "execution_count": null,
   "metadata": {
    "collapsed": true
   },
   "outputs": [],
   "source": [
    "bestActivation = grid_result.best_params_.get('activation')\n",
    "printResult(grid_result)"
   ]
  },
  {
   "cell_type": "code",
   "execution_count": null,
   "metadata": {
    "collapsed": true
   },
   "outputs": [],
   "source": [
    "###GS7\n",
    "model, neurons, param_grid = gs7Spec(input_dim=X.shape[1], batch_size=bestBatchSize, epochs=bestEpochs, optimizer=bestOptimizer, init_mode=bestInitMode, dropout_rate = 0, weight_constraint=0)"
   ]
  },
  {
   "cell_type": "code",
   "execution_count": null,
   "metadata": {
    "collapsed": true
   },
   "outputs": [],
   "source": [
    "grid = GridSearchCV(estimator=model, param_grid=param_grid, n_jobs=-1)\n",
    "grid_result = grid.fit(np.array(X), np.array(Y))"
   ]
  },
  {
   "cell_type": "code",
   "execution_count": null,
   "metadata": {
    "collapsed": true
   },
   "outputs": [],
   "source": [
    "bestNeurons = grid_result.best_params_.get('neurons')\n",
    "printResult(grid_result)"
   ]
  },
  {
   "cell_type": "code",
   "execution_count": null,
   "metadata": {
    "collapsed": true
   },
   "outputs": [],
   "source": []
  },
  {
   "cell_type": "code",
   "execution_count": null,
   "metadata": {
    "collapsed": true
   },
   "outputs": [],
   "source": []
  }
 ],
 "metadata": {
  "kernelspec": {
   "display_name": "Python 3",
   "language": "python",
   "name": "python3"
  },
  "language_info": {
   "codemirror_mode": {
    "name": "ipython",
    "version": 3
   },
   "file_extension": ".py",
   "mimetype": "text/x-python",
   "name": "python",
   "nbconvert_exporter": "python",
   "pygments_lexer": "ipython3",
   "version": "3.6.1"
  }
 },
 "nbformat": 4,
 "nbformat_minor": 2
}
