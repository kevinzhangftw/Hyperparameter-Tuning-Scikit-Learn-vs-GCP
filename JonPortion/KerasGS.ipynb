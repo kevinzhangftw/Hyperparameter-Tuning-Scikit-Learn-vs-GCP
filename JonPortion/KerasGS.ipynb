{
 "cells": [
  {
   "cell_type": "code",
   "execution_count": 2,
   "metadata": {},
   "outputs": [
    {
     "name": "stderr",
     "output_type": "stream",
     "text": [
      "Using TensorFlow backend.\n"
     ]
    }
   ],
   "source": [
    "import numpy as np\n",
    "import pandas as pd\n",
    "from sklearn.model_selection import GridSearchCV\n",
    "from keras.models import Sequential\n",
    "from keras.layers import Dense\n",
    "from keras.layers import Dropout\n",
    "from keras.wrappers.scikit_learn import KerasClassifier\n",
    "from keras.optimizers import SGD\n",
    "from keras.constraints import maxnorm"
   ]
  },
  {
   "cell_type": "code",
   "execution_count": 3,
   "metadata": {
    "collapsed": true
   },
   "outputs": [],
   "source": [
    "#ModelCreate#Applies to All grid searches used.\n",
    "def create_model(input_dim=13, \n",
    "                 optimizer='adam', \n",
    "                 init_mode='uniform', \n",
    "                 activation='relu', \n",
    "                 dropout_rate=-1, \n",
    "                 weight_constraint=-1, \n",
    "                 neurons=16,\n",
    "                 n_layers=2):\n",
    "    # layers_n = 4 #tunable var\n",
    "    # layer_width #same thing as neurons\n",
    "\n",
    "    # create model\n",
    "    model = Sequential()\n",
    "    model.add(Dense(neurons, input_dim=input_dim, kernel_initializer=init_mode, activation=activation))                \n",
    "    for i in  range(n_layers-1): # hidden layers...\n",
    "        model.add(Dense(neurons, kernel_initializer=init_mode, activation=activation))                \n",
    "    model.add(Dense(1, kernel_initializer=init_mode, activation='sigmoid'))\n",
    "    # Compile model\n",
    "    model.compile(loss='binary_crossentropy', optimizer=optimizer, metrics=['accuracy'])\n",
    "    return model"
   ]
  },
  {
   "cell_type": "code",
   "execution_count": 4,
   "metadata": {
    "collapsed": true
   },
   "outputs": [],
   "source": [
    "def gsBatchEpoch(input_dim=13):\n",
    "    model = KerasClassifier(build_fn=create_model, input_dim=input_dim, verbose=0)\n",
    "    # define the grid search parameters\n",
    "    batch_size = [10, 20, 40, 60, 80, 100]\n",
    "    epochs = [10, 50, 100]\n",
    "    param_grid = dict(batch_size=batch_size, epochs=epochs)\n",
    "    return model, batch_size, epochs, param_grid"
   ]
  },
  {
   "cell_type": "code",
   "execution_count": 5,
   "metadata": {
    "collapsed": true
   },
   "outputs": [],
   "source": [
    "def gsOptimizer(input_dim=13, batch_size=10, epochs=100):\n",
    "    #####GS2\n",
    "    # create model\n",
    "    model = KerasClassifier(build_fn=create_model, input_dim=input_dim, verbose=0, batch_size=batch_size, epochs=epochs)\n",
    "\n",
    "    # define the grid search parameters\n",
    "    optimizer = ['SGD', 'RMSprop', 'Adagrad', 'Adadelta', 'Adam', 'Adamax', 'Nadam']\n",
    "    param_grid = dict(optimizer=optimizer)\n",
    "    \n",
    "    return model, optimizer, param_grid"
   ]
  },
  {
   "cell_type": "code",
   "execution_count": 6,
   "metadata": {
    "collapsed": true
   },
   "outputs": [],
   "source": [
    "def gsInitMode(input_dim=13, batch_size=10, epochs=100, optimizer='adam'):\n",
    "    # create model\n",
    "    model = KerasClassifier(build_fn=create_model, input_dim=input_dim, optimizer=optimizer, verbose=0, batch_size=batch_size, epochs=epochs)\n",
    "    init_mode = ['uniform', 'lecun_uniform', 'normal', 'zero', 'glorot_normal', 'glorot_uniform', 'he_normal', 'he_uniform']\n",
    "    param_grid = dict(init_mode=init_mode)\n",
    "    return model, init_mode, param_grid"
   ]
  },
  {
   "cell_type": "code",
   "execution_count": 7,
   "metadata": {
    "collapsed": true
   },
   "outputs": [],
   "source": [
    "def gsActivation(input_dim=13, batch_size=10, epochs=100, optimizer='adam', init_mode='uniform'):\n",
    "    # create model\n",
    "    model = KerasClassifier(build_fn=create_model, input_dim=input_dim, optimizer=optimizer, init_mode=init_mode, verbose=0, batch_size=batch_size, epochs=epochs)\n",
    "    activation = ['softmax', 'softplus', 'softsign', 'relu', 'tanh', 'sigmoid', 'hard_sigmoid', 'linear']\n",
    "    param_grid = dict(activation=activation)\n",
    "    \n",
    "    return model, activation, param_grid"
   ]
  },
  {
   "cell_type": "code",
   "execution_count": 8,
   "metadata": {
    "collapsed": true
   },
   "outputs": [],
   "source": [
    "def gsNeurons(input_dim=13, batch_size=10, epochs=100, optimizer='adam', init_mode='uniform', activation='relu'):\n",
    "    # create model\n",
    "    model = KerasClassifier(build_fn=create_model, input_dim=input_dim, optimizer=optimizer, init_mode=init_mode, activation=activation, dropout_rate=dropout_rate, weight_constraint=weight_constraint, verbose=0, batch_size=batch_size, epochs=epochs)\n",
    "    neurons = [1, 5, 10, 15, 20, 25, 30]\n",
    "    param_grid = dict(neurons=neurons)\n",
    "    return model, neurons, param_grid"
   ]
  },
  {
   "cell_type": "code",
   "execution_count": 9,
   "metadata": {
    "collapsed": true
   },
   "outputs": [],
   "source": [
    "def gsLayers(input_dim=13, batch_size=10, epochs=100, optimizer='adam', init_mode='uniform', activation='relu', neurons=16):\n",
    "    # create model\n",
    "    model = KerasClassifier(build_fn=create_model, input_dim=input_dim, optimizer=optimizer, init_mode=init_mode, activation=activation, dropout_rate=dropout_rate, weight_constraint=weight_constraint, verbose=0, batch_size=batch_size, epochs=epochs)\n",
    "    n_layers = [2, 3, 4, 5, 6, 7, 8, 9, 10]\n",
    "    param_grid = dict(n_layers=n_layers)\n",
    "    return model, n_layers, param_grid"
   ]
  },
  {
   "cell_type": "code",
   "execution_count": 10,
   "metadata": {
    "collapsed": true
   },
   "outputs": [],
   "source": [
    "def studentSetup():\n",
    "    ####Education Data Setup\n",
    "    # load dataset\n",
    "    dataset = pd.read_csv(\"slim-xAPI-Edu-Data.csv\")\n",
    "    #students failed if they are in class L.\n",
    "    #dataset['Failed'] = np.where(dataset['Class'] == 'L', True, False)\n",
    "    dataset['gender'] = np.where(dataset['gender']=='M',1,0)\n",
    "    dataset['Relation'] = np.where(dataset['Relation']=='Father',1,0)\n",
    "    dataset['ParentAnsweringSurvey'] = np.where(dataset['ParentAnsweringSurvey'] == 'Yes', 1, 0)\n",
    "    dataset['ParentschoolSatisfaction'] = np.where(dataset['ParentschoolSatisfaction'] == 'Yes', 1, 0)\n",
    "    dataset['AbsentMoreThanWeek'] = np.where(dataset['StudentAbsenceDays'] == 'Above-7', 1, 0)\n",
    "    dataset['Semester'] = np.where(dataset['Semester'] == 'F', 1, 0)\n",
    "    X = dataset[['raisedhands', 'VisITedResources', 'SectionID', 'Topic', 'StageID', 'AnnouncementsView', 'Semester', 'Discussion', 'gender', 'Relation', 'ParentAnsweringSurvey', 'ParentschoolSatisfaction', 'AbsentMoreThanWeek']]\n",
    "    Y = dataset[['Class']]\n",
    "    \n",
    "    return X, Y"
   ]
  },
  {
   "cell_type": "code",
   "execution_count": 11,
   "metadata": {
    "collapsed": true
   },
   "outputs": [],
   "source": [
    "def colourSetup():\n",
    "    dataset = pd.read_csv(\"colour-data.csv\")\n",
    "    X = dataset[['R', 'G', 'B']]\n",
    "    Y = dataset[['Label']]\n",
    "    return X, Y"
   ]
  },
  {
   "cell_type": "code",
   "execution_count": 12,
   "metadata": {
    "collapsed": true
   },
   "outputs": [],
   "source": [
    "def weatherSetup():\n",
    "    dataset = pd.read_csv(\"modified-monthly-data-labelled.csv\")\n",
    "    X = dataset.iloc[:,0:61]\n",
    "    Y = dataset.iloc[:,61]\n",
    "    return X, Y"
   ]
  },
  {
   "cell_type": "code",
   "execution_count": 13,
   "metadata": {
    "collapsed": true
   },
   "outputs": [],
   "source": [
    "def printResult(grid_result):\n",
    "        #Printing Results / Best Parameters.\n",
    "    print(\"Best: %f using %s\" % (grid_result.best_score_, grid_result.best_params_))\n",
    "    means = grid_result.cv_results_['mean_test_score']\n",
    "    stds = grid_result.cv_results_['std_test_score']\n",
    "    params = grid_result.cv_results_['params']\n",
    "    for mean, stdev, param in zip(means, stds, params):\n",
    "        print(\"%f (%f) with: %r\" % (mean, stdev, param))"
   ]
  },
  {
   "cell_type": "code",
   "execution_count": 14,
   "metadata": {
    "collapsed": true
   },
   "outputs": [],
   "source": [
    "# fix random seed for reproducibility\n",
    "seed = 7\n",
    "np.random.seed(seed)"
   ]
  },
  {
   "cell_type": "code",
   "execution_count": 15,
   "metadata": {
    "collapsed": true
   },
   "outputs": [],
   "source": [
    "#####start of Student Data Analysis.\n",
    "X, Y = studentSetup()"
   ]
  },
  {
   "cell_type": "code",
   "execution_count": 49,
   "metadata": {
    "collapsed": true
   },
   "outputs": [],
   "source": [
    "##### Grid Search 1 - Batch Size and Epochs.\n",
    "model, batch_size, epochs, param_grid = gsBatchEpoch(input_dim=X.shape[1])"
   ]
  },
  {
   "cell_type": "code",
   "execution_count": 50,
   "metadata": {
    "collapsed": true
   },
   "outputs": [],
   "source": [
    "grid = GridSearchCV(estimator=model, param_grid=param_grid, n_jobs=-1)\n",
    "grid_result = grid.fit(np.array(X), np.array(Y))"
   ]
  },
  {
   "cell_type": "code",
   "execution_count": 51,
   "metadata": {},
   "outputs": [
    {
     "name": "stdout",
     "output_type": "stream",
     "text": [
      "Best: 0.306250 using {'batch_size': 20, 'epochs': 100}\n",
      "0.264583 (0.044585) with: {'batch_size': 10, 'epochs': 10}\n",
      "0.264583 (0.044585) with: {'batch_size': 10, 'epochs': 50}\n",
      "0.302083 (0.036917) with: {'batch_size': 10, 'epochs': 100}\n",
      "0.264583 (0.044585) with: {'batch_size': 20, 'epochs': 10}\n",
      "0.264583 (0.044585) with: {'batch_size': 20, 'epochs': 50}\n",
      "0.306250 (0.040505) with: {'batch_size': 20, 'epochs': 100}\n",
      "0.264583 (0.044585) with: {'batch_size': 40, 'epochs': 10}\n",
      "0.264583 (0.044585) with: {'batch_size': 40, 'epochs': 50}\n",
      "0.287500 (0.030619) with: {'batch_size': 40, 'epochs': 100}\n",
      "0.264583 (0.044585) with: {'batch_size': 60, 'epochs': 10}\n",
      "0.264583 (0.044585) with: {'batch_size': 60, 'epochs': 50}\n",
      "0.264583 (0.044585) with: {'batch_size': 60, 'epochs': 100}\n",
      "0.264583 (0.044585) with: {'batch_size': 80, 'epochs': 10}\n",
      "0.264583 (0.044585) with: {'batch_size': 80, 'epochs': 50}\n",
      "0.264583 (0.044585) with: {'batch_size': 80, 'epochs': 100}\n",
      "0.264583 (0.044585) with: {'batch_size': 100, 'epochs': 10}\n",
      "0.264583 (0.044585) with: {'batch_size': 100, 'epochs': 50}\n",
      "0.264583 (0.044585) with: {'batch_size': 100, 'epochs': 100}\n"
     ]
    }
   ],
   "source": [
    "bestBatchSize = grid_result.best_params_.get('batch_size')\n",
    "bestEpochs = grid_result.best_params_.get('epochs')\n",
    "printResult(grid_result)"
   ]
  },
  {
   "cell_type": "code",
   "execution_count": null,
   "metadata": {
    "collapsed": true
   },
   "outputs": [],
   "source": []
  },
  {
   "cell_type": "code",
   "execution_count": 52,
   "metadata": {
    "collapsed": true
   },
   "outputs": [],
   "source": [
    "##### Grid Search 2 - for best Optimizer.\n",
    "model, optimizer, param_grid = gsOptimizer(input_dim=X.shape[1], batch_size=bestBatchSize, epochs=bestEpochs)"
   ]
  },
  {
   "cell_type": "code",
   "execution_count": 53,
   "metadata": {
    "collapsed": true
   },
   "outputs": [],
   "source": [
    "grid = GridSearchCV(estimator=model, param_grid=param_grid, n_jobs=-1)\n",
    "grid_result = grid.fit(np.array(X), np.array(Y))"
   ]
  },
  {
   "cell_type": "code",
   "execution_count": 54,
   "metadata": {},
   "outputs": [
    {
     "name": "stdout",
     "output_type": "stream",
     "text": [
      "Best: 0.322917 using {'optimizer': 'Nadam'}\n",
      "0.264583 (0.044585) with: {'optimizer': 'SGD'}\n",
      "0.308333 (0.042492) with: {'optimizer': 'RMSprop'}\n",
      "0.293750 (0.031869) with: {'optimizer': 'Adagrad'}\n",
      "0.264583 (0.044585) with: {'optimizer': 'Adadelta'}\n",
      "0.312500 (0.046771) with: {'optimizer': 'Adam'}\n",
      "0.264583 (0.044585) with: {'optimizer': 'Adamax'}\n",
      "0.322917 (0.058704) with: {'optimizer': 'Nadam'}\n"
     ]
    }
   ],
   "source": [
    "#From GS2, we get the best optimizer.  Save this for future reference.  Pray it is not SGD.\n",
    "bestOptimizer = grid_result.best_params_.get('optimizer')\n",
    "printResult(grid_result)"
   ]
  },
  {
   "cell_type": "code",
   "execution_count": null,
   "metadata": {
    "collapsed": true
   },
   "outputs": [],
   "source": []
  },
  {
   "cell_type": "code",
   "execution_count": 55,
   "metadata": {
    "collapsed": true
   },
   "outputs": [],
   "source": [
    "##### Grid Search 4 - for best init_mode\n",
    "model, init_mode, param_grid = gsInitMode(input_dim=X.shape[1], batch_size=bestBatchSize, epochs=bestEpochs, optimizer=bestOptimizer)"
   ]
  },
  {
   "cell_type": "code",
   "execution_count": 56,
   "metadata": {
    "collapsed": true
   },
   "outputs": [],
   "source": [
    "grid = GridSearchCV(estimator=model, param_grid=param_grid, n_jobs=-1)\n",
    "grid_result = grid.fit(np.array(X), np.array(Y))"
   ]
  },
  {
   "cell_type": "code",
   "execution_count": 57,
   "metadata": {},
   "outputs": [
    {
     "name": "stdout",
     "output_type": "stream",
     "text": [
      "Best: 0.322917 using {'init_mode': 'normal'}\n",
      "0.312500 (0.046771) with: {'init_mode': 'uniform'}\n",
      "0.285417 (0.030760) with: {'init_mode': 'lecun_uniform'}\n",
      "0.322917 (0.058704) with: {'init_mode': 'normal'}\n",
      "0.264583 (0.044585) with: {'init_mode': 'zero'}\n",
      "0.264583 (0.044585) with: {'init_mode': 'glorot_normal'}\n",
      "0.264583 (0.044585) with: {'init_mode': 'glorot_uniform'}\n",
      "0.264583 (0.044585) with: {'init_mode': 'he_normal'}\n",
      "0.295833 (0.032808) with: {'init_mode': 'he_uniform'}\n"
     ]
    }
   ],
   "source": [
    "bestInitMode = grid_result.best_params_.get('init_mode')\n",
    "printResult(grid_result)"
   ]
  },
  {
   "cell_type": "code",
   "execution_count": null,
   "metadata": {
    "collapsed": true
   },
   "outputs": [],
   "source": []
  },
  {
   "cell_type": "code",
   "execution_count": 58,
   "metadata": {
    "collapsed": true
   },
   "outputs": [],
   "source": [
    "##### Grid Search 5 - for best Activation\n",
    "model, activation, param_grid = gsActivation(input_dim=X.shape[1], batch_size=bestBatchSize, epochs=bestEpochs, optimizer=bestOptimizer, init_mode=bestInitMode)"
   ]
  },
  {
   "cell_type": "code",
   "execution_count": 59,
   "metadata": {
    "collapsed": true
   },
   "outputs": [],
   "source": [
    "grid = GridSearchCV(estimator=model, param_grid=param_grid, n_jobs=-1)\n",
    "grid_result = grid.fit(np.array(X), np.array(Y))"
   ]
  },
  {
   "cell_type": "code",
   "execution_count": 60,
   "metadata": {},
   "outputs": [
    {
     "name": "stdout",
     "output_type": "stream",
     "text": [
      "Best: 0.322917 using {'activation': 'relu'}\n",
      "0.264583 (0.044585) with: {'activation': 'softmax'}\n",
      "0.312500 (0.046771) with: {'activation': 'softplus'}\n",
      "0.264583 (0.044585) with: {'activation': 'softsign'}\n",
      "0.322917 (0.058704) with: {'activation': 'relu'}\n",
      "0.266667 (0.047416) with: {'activation': 'tanh'}\n",
      "0.264583 (0.044585) with: {'activation': 'sigmoid'}\n",
      "0.264583 (0.044585) with: {'activation': 'hard_sigmoid'}\n",
      "0.264583 (0.044585) with: {'activation': 'linear'}\n"
     ]
    }
   ],
   "source": [
    "bestActivation = grid_result.best_params_.get('activation')\n",
    "printResult(grid_result)"
   ]
  },
  {
   "cell_type": "code",
   "execution_count": null,
   "metadata": {
    "collapsed": true
   },
   "outputs": [],
   "source": []
  },
  {
   "cell_type": "code",
   "execution_count": 63,
   "metadata": {
    "collapsed": true
   },
   "outputs": [],
   "source": [
    "##### Grid Search 7 - for best Neurons\n",
    "model, neurons, param_grid = gsNeurons(input_dim=X.shape[1], batch_size=bestBatchSize, activation=bestActivation, epochs=bestEpochs, optimizer=bestOptimizer, init_mode=bestInitMode)"
   ]
  },
  {
   "cell_type": "code",
   "execution_count": 64,
   "metadata": {
    "collapsed": true
   },
   "outputs": [],
   "source": [
    "grid = GridSearchCV(estimator=model, param_grid=param_grid, n_jobs=-1)\n",
    "grid_result = grid.fit(np.array(X), np.array(Y))"
   ]
  },
  {
   "cell_type": "code",
   "execution_count": 65,
   "metadata": {},
   "outputs": [
    {
     "name": "stdout",
     "output_type": "stream",
     "text": [
      "Best: 0.314583 using {'neurons': 20}\n",
      "0.264583 (0.044585) with: {'neurons': 1}\n",
      "0.308333 (0.042492) with: {'neurons': 5}\n",
      "0.312500 (0.046771) with: {'neurons': 10}\n",
      "0.306250 (0.040505) with: {'neurons': 15}\n",
      "0.314583 (0.049036) with: {'neurons': 20}\n",
      "0.264583 (0.044585) with: {'neurons': 25}\n",
      "0.310417 (0.044585) with: {'neurons': 30}\n"
     ]
    }
   ],
   "source": [
    "bestNeurons = grid_result.best_params_.get('neurons')\n",
    "printResult(grid_result)"
   ]
  },
  {
   "cell_type": "code",
   "execution_count": null,
   "metadata": {
    "collapsed": true
   },
   "outputs": [],
   "source": []
  },
  {
   "cell_type": "code",
   "execution_count": null,
   "metadata": {
    "collapsed": true
   },
   "outputs": [],
   "source": []
  },
  {
   "cell_type": "code",
   "execution_count": 18,
   "metadata": {},
   "outputs": [],
   "source": [
    "##### Grid Search 7 - for best Layers.\n",
    "model, neurons, param_grid = gsLayers(input_dim=X.shape[1], batch_size=bestBatchSize, activation=bestActivation, epochs=bestEpochs, optimizer=bestOptimizer, init_mode=bestInitMode, neurons=bestNeurons)"
   ]
  },
  {
   "cell_type": "code",
   "execution_count": 19,
   "metadata": {},
   "outputs": [],
   "source": [
    "grid = GridSearchCV(estimator=model, param_grid=param_grid, n_jobs=-1)\n",
    "grid_result = grid.fit(np.array(X), np.array(Y))"
   ]
  },
  {
   "cell_type": "code",
   "execution_count": 20,
   "metadata": {},
   "outputs": [
    {
     "name": "stdout",
     "output_type": "stream",
     "text": [
      "Best: 0.310417 using {'n_layers': 2}\n",
      "0.310417 (0.044585) with: {'n_layers': 2}\n",
      "0.264583 (0.044585) with: {'n_layers': 3}\n",
      "0.264583 (0.044585) with: {'n_layers': 4}\n",
      "0.264583 (0.044585) with: {'n_layers': 5}\n",
      "0.264583 (0.044585) with: {'n_layers': 6}\n",
      "0.264583 (0.044585) with: {'n_layers': 7}\n",
      "0.264583 (0.044585) with: {'n_layers': 8}\n",
      "0.264583 (0.044585) with: {'n_layers': 9}\n",
      "0.264583 (0.044585) with: {'n_layers': 10}\n"
     ]
    }
   ],
   "source": [
    "bestLayers = grid_result.best_params_.get('n_layers')\n",
    "printResult(grid_result)"
   ]
  },
  {
   "cell_type": "code",
   "execution_count": 29,
   "metadata": {
    "collapsed": true
   },
   "outputs": [],
   "source": [
    "gsKerasHP = pd.DataFrame()"
   ]
  },
  {
   "cell_type": "code",
   "execution_count": 30,
   "metadata": {},
   "outputs": [
    {
     "data": {
      "text/html": [
       "<div>\n",
       "<style>\n",
       "    .dataframe thead tr:only-child th {\n",
       "        text-align: right;\n",
       "    }\n",
       "\n",
       "    .dataframe thead th {\n",
       "        text-align: left;\n",
       "    }\n",
       "\n",
       "    .dataframe tbody tr th {\n",
       "        vertical-align: top;\n",
       "    }\n",
       "</style>\n",
       "<table border=\"1\" class=\"dataframe\">\n",
       "  <thead>\n",
       "    <tr style=\"text-align: right;\">\n",
       "      <th></th>\n",
       "      <th>activation</th>\n",
       "      <th>batch_size</th>\n",
       "      <th>dataset</th>\n",
       "      <th>epochs</th>\n",
       "      <th>init_mode</th>\n",
       "      <th>n_layers</th>\n",
       "      <th>neurons</th>\n",
       "      <th>optimizer</th>\n",
       "    </tr>\n",
       "  </thead>\n",
       "  <tbody>\n",
       "    <tr>\n",
       "      <th>0</th>\n",
       "      <td>relu</td>\n",
       "      <td>20.0</td>\n",
       "      <td>student</td>\n",
       "      <td>100.0</td>\n",
       "      <td>normal</td>\n",
       "      <td>2.0</td>\n",
       "      <td>20.0</td>\n",
       "      <td>Nadam</td>\n",
       "    </tr>\n",
       "  </tbody>\n",
       "</table>\n",
       "</div>"
      ],
      "text/plain": [
       "  activation  batch_size  dataset  epochs init_mode  n_layers  neurons  \\\n",
       "0       relu        20.0  student   100.0    normal       2.0     20.0   \n",
       "\n",
       "  optimizer  \n",
       "0     Nadam  "
      ]
     },
     "execution_count": 30,
     "metadata": {},
     "output_type": "execute_result"
    }
   ],
   "source": [
    "gsKerasHP = gsKerasHP.append({'dataset':'student', 'batch_size':bestBatchSize, 'activation':bestActivation, 'epochs':bestEpochs, 'optimizer':bestOptimizer, 'init_mode':bestInitMode, 'neurons':bestNeurons, 'n_layers':bestLayers}, ignore_index=True)\n",
    "gsKerasHP"
   ]
  },
  {
   "cell_type": "code",
   "execution_count": null,
   "metadata": {
    "collapsed": true
   },
   "outputs": [],
   "source": []
  },
  {
   "cell_type": "code",
   "execution_count": 18,
   "metadata": {
    "collapsed": true
   },
   "outputs": [],
   "source": [
    "#####start of Color Data Analysis\n",
    "X, Y = colourSetup()"
   ]
  },
  {
   "cell_type": "code",
   "execution_count": 19,
   "metadata": {
    "collapsed": true
   },
   "outputs": [],
   "source": [
    "##### Grid Search 1 - Batch Size and Epochs.\n",
    "model, batch_size, epochs, param_grid = gsBatchEpoch(input_dim=X.shape[1])\n",
    "grid = GridSearchCV(estimator=model, param_grid=param_grid, n_jobs=-1)\n"
   ]
  },
  {
   "cell_type": "code",
   "execution_count": null,
   "metadata": {
    "collapsed": true
   },
   "outputs": [],
   "source": [
    "grid_result = grid.fit(np.array(X), np.array(Y))\n"
   ]
  },
  {
   "cell_type": "code",
   "execution_count": null,
   "metadata": {
    "collapsed": true
   },
   "outputs": [],
   "source": [
    "bestBatchSize = grid_result.best_params_.get('batch_size')\n",
    "bestEpochs = grid_result.best_params_.get('epochs')\n",
    "printResult(grid_result)"
   ]
  },
  {
   "cell_type": "code",
   "execution_count": null,
   "metadata": {
    "collapsed": true
   },
   "outputs": [],
   "source": []
  },
  {
   "cell_type": "code",
   "execution_count": null,
   "metadata": {
    "collapsed": true
   },
   "outputs": [],
   "source": [
    "##### Grid Search 2 - for best Optimizer.\n",
    "model, optimizer, param_grid = gsOptimizer(input_dim=X.shape[1], batch_size=bestBatchSize, epochs=bestEpochs)\n",
    "grid = GridSearchCV(estimator=model, param_grid=param_grid, n_jobs=-1)"
   ]
  },
  {
   "cell_type": "code",
   "execution_count": null,
   "metadata": {
    "collapsed": true
   },
   "outputs": [],
   "source": [
    "grid_result = grid.fit(np.array(X), np.array(Y))"
   ]
  },
  {
   "cell_type": "code",
   "execution_count": null,
   "metadata": {
    "collapsed": true
   },
   "outputs": [],
   "source": [
    "#From GS2, we get the best optimizer.  Save this for future reference.  Pray it is not SGD.\n",
    "bestOptimizer = grid_result.best_params_.get('optimizer')\n",
    "printResult(grid_result)"
   ]
  },
  {
   "cell_type": "code",
   "execution_count": null,
   "metadata": {
    "collapsed": true
   },
   "outputs": [],
   "source": []
  },
  {
   "cell_type": "code",
   "execution_count": null,
   "metadata": {
    "collapsed": true
   },
   "outputs": [],
   "source": [
    "##### Grid Search 4 - for best init_mode\n",
    "model, init_mode, param_grid = gsInitMode(input_dim=X.shape[1], batch_size=bestBatchSize, epochs=bestEpochs, optimizer=bestOptimizer)\n",
    "grid = GridSearchCV(estimator=model, param_grid=param_grid, n_jobs=-1)"
   ]
  },
  {
   "cell_type": "code",
   "execution_count": null,
   "metadata": {
    "collapsed": true
   },
   "outputs": [],
   "source": [
    "grid_result = grid.fit(np.array(X), np.array(Y))"
   ]
  },
  {
   "cell_type": "code",
   "execution_count": null,
   "metadata": {
    "collapsed": true
   },
   "outputs": [],
   "source": [
    "bestInitMode = grid_result.best_params_.get('init_mode')\n",
    "printResult(grid_resul"
   ]
  },
  {
   "cell_type": "code",
   "execution_count": null,
   "metadata": {
    "collapsed": true
   },
   "outputs": [],
   "source": [
    "bestInitMode = grid_result.best_params_.get('init_mode')\n",
    "printResult(grid_result)"
   ]
  },
  {
   "cell_type": "code",
   "execution_count": null,
   "metadata": {
    "collapsed": true
   },
   "outputs": [],
   "source": []
  },
  {
   "cell_type": "code",
   "execution_count": null,
   "metadata": {
    "collapsed": true
   },
   "outputs": [],
   "source": [
    "##### Grid Search 5 - for best Activation\n",
    "model, activation, param_grid = gsActivation(input_dim=X.shape[1], batch_size=bestBatchSize, epochs=bestEpochs, optimizer=bestOptimizer, init_mode=bestInitMode)\n",
    "grid = GridSearchCV(estimator=model, param_grid=param_grid, n_jobs=-1)"
   ]
  },
  {
   "cell_type": "code",
   "execution_count": null,
   "metadata": {
    "collapsed": true
   },
   "outputs": [],
   "source": [
    "grid_result = grid.fit(np.array(X), np.array(Y))"
   ]
  },
  {
   "cell_type": "code",
   "execution_count": null,
   "metadata": {
    "collapsed": true
   },
   "outputs": [],
   "source": [
    "bestActivation = grid_result.best_params_.get('activation')\n",
    "printResult(grid_result)"
   ]
  },
  {
   "cell_type": "code",
   "execution_count": null,
   "metadata": {
    "collapsed": true
   },
   "outputs": [],
   "source": []
  },
  {
   "cell_type": "code",
   "execution_count": null,
   "metadata": {
    "collapsed": true
   },
   "outputs": [],
   "source": [
    "##### Grid Search 7 - for best Neurons\n",
    "model, neurons, param_grid = gsNeurons(input_dim=X.shape[1], batch_size=bestBatchSize, epochs=bestEpochs, optimizer=bestOptimizer, init_mode=bestInitMode)\n",
    "grid = GridSearchCV(estimator=model, param_grid=param_grid, n_jobs=-1)"
   ]
  },
  {
   "cell_type": "code",
   "execution_count": null,
   "metadata": {
    "collapsed": true
   },
   "outputs": [],
   "source": [
    "grid_result = grid.fit(np.array(X), np.array(Y))"
   ]
  },
  {
   "cell_type": "code",
   "execution_count": null,
   "metadata": {
    "collapsed": true
   },
   "outputs": [],
   "source": [
    "bestNeurons = grid_result.best_params_.get('neurons')\n",
    "printResult(grid_result)"
   ]
  },
  {
   "cell_type": "code",
   "execution_count": null,
   "metadata": {
    "collapsed": true
   },
   "outputs": [],
   "source": [
    "##### Grid Search 8 - for best Layers.\n",
    "model, neurons, param_grid = gsLayers(input_dim=X.shape[1], batch_size=bestBatchSize, activation=bestActivation, epochs=bestEpochs, optimizer=bestOptimizer, init_mode=bestInitMode, neurons=bestNeurons)\n",
    "grid = GridSearchCV(estimator=model, param_grid=param_grid, n_jobs=-1)\n"
   ]
  },
  {
   "cell_type": "code",
   "execution_count": null,
   "metadata": {
    "collapsed": true
   },
   "outputs": [],
   "source": [
    "grid_result = grid.fit(np.array(X), np.array(Y))"
   ]
  },
  {
   "cell_type": "code",
   "execution_count": null,
   "metadata": {
    "collapsed": true
   },
   "outputs": [],
   "source": [
    "bestLayers = grid_result.best_params_.get('n_layers')\n",
    "printResult(grid_result)"
   ]
  },
  {
   "cell_type": "code",
   "execution_count": null,
   "metadata": {
    "collapsed": true
   },
   "outputs": [],
   "source": []
  },
  {
   "cell_type": "code",
   "execution_count": null,
   "metadata": {
    "collapsed": true
   },
   "outputs": [],
   "source": [
    "gsKerasHP = gsKerasHP.append({'dataset':'color', 'batch_size':bestBatchSize, 'activation':bestActivation, 'epochs':bestEpochs, 'optimizer':bestOptimizer, 'init_mode':bestInitMode, 'neurons':bestNeurons, 'n_layers':bestLayers}, ignore_index=True)\n",
    "gsKerasHP"
   ]
  },
  {
   "cell_type": "code",
   "execution_count": null,
   "metadata": {
    "collapsed": true
   },
   "outputs": [],
   "source": []
  },
  {
   "cell_type": "code",
   "execution_count": null,
   "metadata": {
    "collapsed": true
   },
   "outputs": [],
   "source": []
  },
  {
   "cell_type": "code",
   "execution_count": null,
   "metadata": {
    "collapsed": true
   },
   "outputs": [],
   "source": [
    "#####start of Color Data Analysis\n",
    "X, Y = weatherSetup()"
   ]
  },
  {
   "cell_type": "code",
   "execution_count": null,
   "metadata": {
    "collapsed": true
   },
   "outputs": [],
   "source": []
  },
  {
   "cell_type": "code",
   "execution_count": null,
   "metadata": {
    "collapsed": true
   },
   "outputs": [],
   "source": [
    "##### Grid Search 1 - Batch Size and Epochs.\n",
    "model, batch_size, epochs, param_grid = gsBatchEpoch(input_dim=X.shape[1])\n",
    "grid = GridSearchCV(estimator=model, param_grid=param_grid, n_jobs=-1)"
   ]
  },
  {
   "cell_type": "code",
   "execution_count": null,
   "metadata": {
    "collapsed": true
   },
   "outputs": [],
   "source": [
    "grid_result = grid.fit(np.array(X), np.array(Y))"
   ]
  },
  {
   "cell_type": "code",
   "execution_count": null,
   "metadata": {
    "collapsed": true
   },
   "outputs": [],
   "source": [
    "bestBatchSize = grid_result.best_params_.get('batch_size')\n",
    "bestEpochs = grid_result.best_params_.get('epochs')\n",
    "printResult(grid_result)"
   ]
  },
  {
   "cell_type": "code",
   "execution_count": null,
   "metadata": {
    "collapsed": true
   },
   "outputs": [],
   "source": []
  },
  {
   "cell_type": "code",
   "execution_count": null,
   "metadata": {
    "collapsed": true
   },
   "outputs": [],
   "source": [
    "##### Grid Search 2 - for best Optimizer.\n",
    "model, optimizer, param_grid = gsOptimizer(input_dim=X.shape[1], batch_size=bestBatchSize, epochs=bestEpochs)\n",
    "grid = GridSearchCV(estimator=model, param_grid=param_grid, n_jobs=-1)"
   ]
  },
  {
   "cell_type": "code",
   "execution_count": null,
   "metadata": {
    "collapsed": true
   },
   "outputs": [],
   "source": [
    "grid_result = grid.fit(np.array(X), np.array(Y))"
   ]
  },
  {
   "cell_type": "code",
   "execution_count": null,
   "metadata": {
    "collapsed": true
   },
   "outputs": [],
   "source": [
    "#From GS2, we get the best optimizer.  Save this for future reference.  Pray it is not SGD.\n",
    "bestOptimizer = grid_result.best_params_.get('optimizer')\n",
    "printResult(grid_result)"
   ]
  },
  {
   "cell_type": "code",
   "execution_count": null,
   "metadata": {
    "collapsed": true
   },
   "outputs": [],
   "source": []
  },
  {
   "cell_type": "code",
   "execution_count": null,
   "metadata": {
    "collapsed": true
   },
   "outputs": [],
   "source": [
    "##### Grid Search 4 - for best init_mode\n",
    "model, init_mode, param_grid = gsInitMode(input_dim=X.shape[1], batch_size=bestBatchSize, epochs=bestEpochs, optimizer=bestOptimizer)\n",
    "grid = GridSearchCV(estimator=model, param_grid=param_grid, n_jobs=-1)"
   ]
  },
  {
   "cell_type": "code",
   "execution_count": null,
   "metadata": {
    "collapsed": true
   },
   "outputs": [],
   "source": [
    "grid_result = grid.fit(np.array(X), np.array(Y))"
   ]
  },
  {
   "cell_type": "code",
   "execution_count": null,
   "metadata": {
    "collapsed": true
   },
   "outputs": [],
   "source": [
    "bestInitMode = grid_result.best_params_.get('init_mode')\n",
    "printResult(grid_result)"
   ]
  },
  {
   "cell_type": "code",
   "execution_count": null,
   "metadata": {
    "collapsed": true
   },
   "outputs": [],
   "source": []
  },
  {
   "cell_type": "code",
   "execution_count": null,
   "metadata": {
    "collapsed": true
   },
   "outputs": [],
   "source": [
    "##### Grid Search 5 - for best Activation\n",
    "model, activation, param_grid = gsActivation(input_dim=X.shape[1], batch_size=bestBatchSize, epochs=bestEpochs, optimizer=bestOptimizer, init_mode=bestInitMode)\n",
    "grid = GridSearchCV(estimator=model, param_grid=param_grid, n_jobs=-1)"
   ]
  },
  {
   "cell_type": "code",
   "execution_count": null,
   "metadata": {
    "collapsed": true
   },
   "outputs": [],
   "source": [
    "grid_result = grid.fit(np.array(X), np.array(Y))"
   ]
  },
  {
   "cell_type": "code",
   "execution_count": null,
   "metadata": {
    "collapsed": true
   },
   "outputs": [],
   "source": [
    "bestActivation = grid_result.best_params_.get('activation')\n",
    "printResult(grid_result)"
   ]
  },
  {
   "cell_type": "code",
   "execution_count": null,
   "metadata": {
    "collapsed": true
   },
   "outputs": [],
   "source": []
  },
  {
   "cell_type": "code",
   "execution_count": null,
   "metadata": {
    "collapsed": true
   },
   "outputs": [],
   "source": [
    "##### Grid Search 7 - for best Neurons\n",
    "model, neurons, param_grid = gsNeurons(input_dim=X.shape[1], batch_size=bestBatchSize, epochs=bestEpochs, optimizer=bestOptimizer, init_mode=bestInitMode)\n",
    "grid = GridSearchCV(estimator=model, param_grid=param_grid, n_jobs=-1)"
   ]
  },
  {
   "cell_type": "code",
   "execution_count": null,
   "metadata": {
    "collapsed": true
   },
   "outputs": [],
   "source": [
    "grid_result = grid.fit(np.array(X), np.array(Y))"
   ]
  },
  {
   "cell_type": "code",
   "execution_count": null,
   "metadata": {
    "collapsed": true
   },
   "outputs": [],
   "source": [
    "bestNeurons = grid_result.best_params_.get('neurons')\n",
    "printResult(grid_result)"
   ]
  },
  {
   "cell_type": "code",
   "execution_count": null,
   "metadata": {
    "collapsed": true
   },
   "outputs": [],
   "source": []
  },
  {
   "cell_type": "code",
   "execution_count": null,
   "metadata": {
    "collapsed": true
   },
   "outputs": [],
   "source": [
    "##### Grid Search 8 - for best Layers.\n",
    "model, neurons, param_grid = gsLayers(input_dim=X.shape[1], batch_size=bestBatchSize, activation=bestActivation, epochs=bestEpochs, optimizer=bestOptimizer, init_mode=bestInitMode, neurons=bestNeurons)\n",
    "grid = GridSearchCV(estimator=model, param_grid=param_grid, n_jobs=-1)"
   ]
  },
  {
   "cell_type": "code",
   "execution_count": null,
   "metadata": {
    "collapsed": true
   },
   "outputs": [],
   "source": [
    "grid_result = grid.fit(np.array(X), np.array(Y))"
   ]
  },
  {
   "cell_type": "code",
   "execution_count": null,
   "metadata": {
    "collapsed": true
   },
   "outputs": [],
   "source": [
    "bestLayers = grid_result.best_params_.get('n_layers')\n",
    "printResult(grid_result)"
   ]
  },
  {
   "cell_type": "code",
   "execution_count": null,
   "metadata": {
    "collapsed": true
   },
   "outputs": [],
   "source": [
    "gsKerasHP = gsKerasHP.append({'dataset':'weather', 'batch_size':bestBatchSize, 'activation':bestActivation, 'epochs':bestEpochs, 'optimizer':bestOptimizer, 'init_mode':bestInitMode, 'neurons':bestNeurons, 'n_layers':bestLayers}, ignore_index=True)\n",
    "gsKerasHP"
   ]
  },
  {
   "cell_type": "code",
   "execution_count": null,
   "metadata": {
    "collapsed": true
   },
   "outputs": [],
   "source": []
  },
  {
   "cell_type": "code",
   "execution_count": null,
   "metadata": {
    "collapsed": true
   },
   "outputs": [],
   "source": []
  }
 ],
 "metadata": {
  "kernelspec": {
   "display_name": "Python 3",
   "language": "python",
   "name": "python3"
  },
  "language_info": {
   "codemirror_mode": {
    "name": "ipython",
    "version": 3
   },
   "file_extension": ".py",
   "mimetype": "text/x-python",
   "name": "python",
   "nbconvert_exporter": "python",
   "pygments_lexer": "ipython3",
   "version": "3.6.1"
  }
 },
 "nbformat": 4,
 "nbformat_minor": 2
}
