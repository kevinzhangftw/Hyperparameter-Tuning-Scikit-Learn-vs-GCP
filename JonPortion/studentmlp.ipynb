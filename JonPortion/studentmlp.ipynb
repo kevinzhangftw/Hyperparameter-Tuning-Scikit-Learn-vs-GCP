{
 "cells": [
  {
   "cell_type": "code",
   "execution_count": 6,
   "metadata": {
    "collapsed": true
   },
   "outputs": [],
   "source": [
    "import student_data as student"
   ]
  },
  {
   "cell_type": "code",
   "execution_count": 7,
   "metadata": {},
   "outputs": [
    {
     "name": "stdout",
     "output_type": "stream",
     "text": [
      "[[70 58  2 ...,  1  0  0]\n",
      " [ 2 11  2 ...,  0  0  0]\n",
      " [80 51  3 ...,  0  0  0]\n",
      " ..., \n",
      " [80 88  1 ...,  1  0  0]\n",
      " [27 41  3 ...,  0  0  0]\n",
      " [42 24  1 ...,  0  0  1]]\n"
     ]
    }
   ],
   "source": [
    "print(student.X_train)"
   ]
  },
  {
   "cell_type": "code",
   "execution_count": null,
   "metadata": {
    "collapsed": true
   },
   "outputs": [],
   "source": []
  }
 ],
 "metadata": {
  "kernelspec": {
   "display_name": "Python 3",
   "language": "python",
   "name": "python3"
  },
  "language_info": {
   "codemirror_mode": {
    "name": "ipython",
    "version": 3
   },
   "file_extension": ".py",
   "mimetype": "text/x-python",
   "name": "python",
   "nbconvert_exporter": "python",
   "pygments_lexer": "ipython3",
   "version": "3.6.1"
  }
 },
 "nbformat": 4,
 "nbformat_minor": 2
}
