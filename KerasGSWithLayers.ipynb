{
 "cells": [
  {
   "cell_type": "code",
   "execution_count": 1,
   "metadata": {},
   "outputs": [
    {
     "name": "stderr",
     "output_type": "stream",
     "text": [
      "Using TensorFlow backend.\n"
     ]
    }
   ],
   "source": [
    "import numpy as np\n",
    "import pandas as pd\n",
    "from sklearn.model_selection import GridSearchCV\n",
    "from keras.models import Sequential\n",
    "from keras.layers import Dense\n",
    "from keras.layers import Dropout\n",
    "from keras.wrappers.scikit_learn import KerasClassifier\n",
    "from keras.optimizers import SGD\n",
    "from keras.constraints import maxnorm\n",
    "from sklearn.model_selection import train_test_split\n",
    "from sklearn.metrics import accuracy_score"
   ]
  },
  {
   "cell_type": "code",
   "execution_count": 2,
   "metadata": {
    "collapsed": true
   },
   "outputs": [],
   "source": [
    "#ModelCreate#Applies to All grid searches used.\n",
    "def create_model(input_dim=13, \n",
    "                 output_size=3,\n",
    "                 optimizer='adam', \n",
    "                 init_mode='uniform', \n",
    "                 activation='relu', \n",
    "                 dropout_rate=-1, \n",
    "                 weight_constraint=-1, \n",
    "                 neurons=16,\n",
    "                 n_layers=2):\n",
    "    # layers_n = 4 #tunable var\n",
    "    # layer_width #same thing as neurons\n",
    "\n",
    "    # create model\n",
    "    model = Sequential()\n",
    "    model.add(Dense(neurons, input_dim=input_dim, kernel_initializer=init_mode, activation=activation))                \n",
    "    for i in  range(n_layers-1): # hidden layers...\n",
    "        model.add(Dense(neurons, kernel_initializer=init_mode, activation=activation))                \n",
    "    model.add(Dense(output_size, kernel_initializer=init_mode, activation='sigmoid'))\n",
    "    # Compile model\n",
    "    model.compile(loss='binary_crossentropy', optimizer=optimizer, metrics=['accuracy'])\n",
    "    return model"
   ]
  },
  {
   "cell_type": "code",
   "execution_count": null,
   "metadata": {
    "collapsed": true
   },
   "outputs": [],
   "source": []
  },
  {
   "cell_type": "code",
   "execution_count": 3,
   "metadata": {
    "collapsed": true
   },
   "outputs": [],
   "source": [
    "def gsBatchEpoch(input_dim=13, output_size=3):\n",
    "    model = KerasClassifier(build_fn=create_model, output_size=output_size, input_dim=input_dim, verbose=0)\n",
    "    # define the grid search parameters\n",
    "    batch_size = [10, 20, 40, 60, 80, 100]\n",
    "    epochs = [10, 50, 100]\n",
    "    param_grid = dict(batch_size=batch_size, epochs=epochs)\n",
    "    return model, batch_size, epochs, param_grid"
   ]
  },
  {
   "cell_type": "code",
   "execution_count": 4,
   "metadata": {
    "collapsed": true
   },
   "outputs": [],
   "source": [
    "def gsOptimizer(input_dim=13, output_size=3, batch_size=10, epochs=100):\n",
    "    #####GS2\n",
    "    # create model\n",
    "    model = KerasClassifier(build_fn=create_model, output_size=output_size, input_dim=input_dim, verbose=0, batch_size=batch_size, epochs=epochs)\n",
    "\n",
    "    # define the grid search parameters\n",
    "    optimizer = ['SGD', 'RMSprop', 'Adagrad', 'Adadelta', 'Adam', 'Adamax', 'Nadam']\n",
    "    param_grid = dict(optimizer=optimizer)\n",
    "    \n",
    "    return model, optimizer, param_grid"
   ]
  },
  {
   "cell_type": "code",
   "execution_count": 5,
   "metadata": {
    "collapsed": true
   },
   "outputs": [],
   "source": [
    "def gsInitMode(input_dim=13, output_size=3, batch_size=10, epochs=100, optimizer='adam'):\n",
    "    # create model\n",
    "    model = KerasClassifier(build_fn=create_model, output_size=output_size, input_dim=input_dim, optimizer=optimizer, verbose=0, batch_size=batch_size, epochs=epochs)\n",
    "    init_mode = ['uniform', 'lecun_uniform', 'normal', 'zero', 'glorot_normal', 'glorot_uniform', 'he_normal', 'he_uniform']\n",
    "    param_grid = dict(init_mode=init_mode)\n",
    "    return model, init_mode, param_grid"
   ]
  },
  {
   "cell_type": "code",
   "execution_count": 6,
   "metadata": {
    "collapsed": true
   },
   "outputs": [],
   "source": [
    "def gsActivation(input_dim=13, output_size=3, batch_size=10, epochs=100, optimizer='adam', init_mode='uniform'):\n",
    "    # create model\n",
    "    model = KerasClassifier(build_fn=create_model, output_size=output_size, input_dim=input_dim, optimizer=optimizer, init_mode=init_mode, verbose=0, batch_size=batch_size, epochs=epochs)\n",
    "    activation = ['softmax', 'softplus', 'softsign', 'relu', 'tanh', 'sigmoid', 'hard_sigmoid', 'linear']\n",
    "    param_grid = dict(activation=activation)\n",
    "    \n",
    "    return model, activation, param_grid"
   ]
  },
  {
   "cell_type": "code",
   "execution_count": 7,
   "metadata": {
    "collapsed": true
   },
   "outputs": [],
   "source": [
    "def gsNeurons(input_dim=13, output_size=3, batch_size=10, epochs=100, optimizer='adam', init_mode='uniform', activation='relu'):\n",
    "    # create model\n",
    "    model = KerasClassifier(build_fn=create_model, output_size=output_size, input_dim=input_dim, optimizer=optimizer, init_mode=init_mode, activation=activation, verbose=0, batch_size=batch_size, epochs=epochs)\n",
    "    neurons = [1, 5, 10, 15, 20, 25, 30]\n",
    "    param_grid = dict(neurons=neurons)\n",
    "    return model, neurons, param_grid"
   ]
  },
  {
   "cell_type": "code",
   "execution_count": 8,
   "metadata": {
    "collapsed": true
   },
   "outputs": [],
   "source": [
    "def gsLayers(input_dim=13, output_size=3, batch_size=10, epochs=100, optimizer='adam', init_mode='uniform', activation='relu', neurons=16):\n",
    "    # create model\n",
    "    model = KerasClassifier(build_fn=create_model, output_size=output_size, input_dim=input_dim, optimizer=optimizer, init_mode=init_mode, activation=activation, verbose=0, batch_size=batch_size, epochs=epochs)\n",
    "    n_layers = [2, 3, 4, 5, 6, 7, 8, 9, 10]\n",
    "    param_grid = dict(n_layers=n_layers)\n",
    "    return model, n_layers, param_grid"
   ]
  },
  {
   "cell_type": "code",
   "execution_count": 9,
   "metadata": {
    "collapsed": true
   },
   "outputs": [],
   "source": [
    "def studentToMatrix(Y):\n",
    "    matchDict = {'H':[1, 0, 0], 'M':[0, 1, 0], 'L':[0, 0, 1]}\n",
    "    return [matchDict[x[0]] for x in Y.as_matrix()]"
   ]
  },
  {
   "cell_type": "code",
   "execution_count": 10,
   "metadata": {
    "collapsed": true
   },
   "outputs": [],
   "source": [
    "def matrixToClass(Y):\n",
    "    def vec2num(x):\n",
    "        if x[0] == 1: return 0\n",
    "        if x[1] == 1: return 1\n",
    "        if x[2] == 1: return 2\n",
    "        return -1\n",
    "    return [vec2num(x) for x in Y]"
   ]
  },
  {
   "cell_type": "code",
   "execution_count": 11,
   "metadata": {
    "collapsed": true
   },
   "outputs": [],
   "source": [
    "def colourToMatrix(Y):\n",
    "    matchDict = {'green':[1, 0, 0, 0, 0, 0, 0, 0, 0, 0],\n",
    "                 'purple':[0, 1, 0, 0, 0, 0, 0, 0, 0, 0],\n",
    "                 'yellow':[0, 0, 1, 0, 0, 0, 0, 0, 0, 0],\n",
    "                 'orange':[0, 0, 0, 1, 0, 0, 0, 0, 0, 0],\n",
    "                 'black':[0, 0, 0, 0, 1, 0, 0, 0, 0, 0],\n",
    "                 'grey':[0, 0, 0, 0, 0, 1, 0, 0, 0, 0],\n",
    "                 'red':[0, 0, 0, 0, 0, 0, 1, 0, 0, 0],\n",
    "                 'blue':[0, 0, 0, 0, 0, 0, 0, 1, 0, 0],\n",
    "                 'brown':[0, 0, 0, 0, 0, 0, 0, 0, 1, 0],\n",
    "                 'white':[0, 0, 0, 0, 0, 0, 0, 0, 0, 1]}\n",
    "    return [matchDict[x[0]] for x in Y.as_matrix()]"
   ]
  },
  {
   "cell_type": "code",
   "execution_count": 39,
   "metadata": {
    "collapsed": true
   },
   "outputs": [],
   "source": [
    "def weatherToMatrix(Y):\n",
    "    matchDict = {'Anchorage':     [1, 0, 0, 0, 0, 0, 0, 0, 0, 0, 0, 0, 0, 0, 0, 0, 0, 0, 0, 0, 0, 0, 0, 0, 0, 0],\n",
    "                 'Atlanta':       [0, 1, 0, 0, 0, 0, 0, 0, 0, 0, 0, 0, 0, 0, 0, 0, 0, 0, 0, 0, 0, 0, 0, 0, 0, 0],\n",
    "                 'Atlantic City': [0, 0, 1, 0, 0, 0, 0, 0, 0, 0, 0, 0, 0, 0, 0, 0, 0, 0, 0, 0, 0, 0, 0, 0, 0, 0],\n",
    "                 'Calgary':       [0, 0, 0, 1, 0, 0, 0, 0, 0, 0, 0, 0, 0, 0, 0, 0, 0, 0, 0, 0, 0, 0, 0, 0, 0, 0],\n",
    "                 'Chicago':       [0, 0, 0, 0, 1, 0, 0, 0, 0, 0, 0, 0, 0, 0, 0, 0, 0, 0, 0, 0, 0, 0, 0, 0, 0, 0],\n",
    "                 'Denver':        [0, 0, 0, 0, 0, 1, 0, 0, 0, 0, 0, 0, 0, 0, 0, 0, 0, 0, 0, 0, 0, 0, 0, 0, 0, 0],\n",
    "                 'Edmonton':      [0, 0, 0, 0, 0, 0, 1, 0, 0, 0, 0, 0, 0, 0, 0, 0, 0, 0, 0, 0, 0, 0, 0, 0, 0, 0],\n",
    "                 'Gander':        [0, 0, 0, 0, 0, 0, 0, 1, 0, 0, 0, 0, 0, 0, 0, 0, 0, 0, 0, 0, 0, 0, 0, 0, 0, 0],\n",
    "                 'Halifax':       [0, 0, 0, 0, 0, 0, 0, 0, 1, 0, 0, 0, 0, 0, 0, 0, 0, 0, 0, 0, 0, 0, 0, 0, 0, 0],\n",
    "                 'London':        [0, 0, 0, 0, 0, 0, 0, 0, 0, 1, 0, 0, 0, 0, 0, 0, 0, 0, 0, 0, 0, 0, 0, 0, 0, 0],\n",
    "                 'Los Angeles':   [0, 0, 0, 0, 0, 0, 0, 0, 0, 0, 1, 0, 0, 0, 0, 0, 0, 0, 0, 0, 0, 0, 0, 0, 0, 0],\n",
    "                 'Miami':         [0, 0, 0, 0, 0, 0, 0, 0, 0, 0, 0, 1, 0, 0, 0, 0, 0, 0, 0, 0, 0, 0, 0, 0, 0, 0],\n",
    "                 'Montreal':      [0, 0, 0, 0, 0, 0, 0, 0, 0, 0, 0, 0, 1, 0, 0, 0, 0, 0, 0, 0, 0, 0, 0, 0, 0, 0],\n",
    "                 'New Orleans':   [0, 0, 0, 0, 0, 0, 0, 0, 0, 0, 0, 0, 0, 1, 0, 0, 0, 0, 0, 0, 0, 0, 0, 0, 0, 0],\n",
    "                 'Ottawa':        [0, 0, 0, 0, 0, 0, 0, 0, 0, 0, 0, 0, 0, 0, 1, 0, 0, 0, 0, 0, 0, 0, 0, 0, 0, 0],\n",
    "                 'Portland':      [0, 0, 0, 0, 0, 0, 0, 0, 0, 0, 0, 0, 0, 0, 0, 1, 0, 0, 0, 0, 0, 0, 0, 0, 0, 0],\n",
    "                 'Quebec':   [0, 0, 0, 0, 0, 0, 0, 0, 0, 0, 0, 0, 0, 0, 0, 0, 1, 0, 0, 0, 0, 0, 0, 0, 0, 0],\n",
    "                 'Raleigh Durham':[0, 0, 0, 0, 0, 0, 0, 0, 0, 0, 0, 0, 0, 0, 0, 0, 0, 1, 0, 0, 0, 0, 0, 0, 0, 0],\n",
    "                 'Regina':        [0, 0, 0, 0, 0, 0, 0, 0, 0, 0, 0, 0, 0, 0, 0, 0, 0, 0, 1, 0, 0, 0, 0, 0, 0, 0],\n",
    "                 'San Francisco': [0, 0, 0, 0, 0, 0, 0, 0, 0, 0, 0, 0, 0, 0, 0, 0, 0, 0, 0, 1, 0, 0, 0, 0, 0, 0],\n",
    "                 'Saskatoon':     [0, 0, 0, 0, 0, 0, 0, 0, 0, 0, 0, 0, 0, 0, 0, 0, 0, 0, 0, 0, 1, 0, 0, 0, 0, 0],\n",
    "                 'Seattle':       [0, 0, 0, 0, 0, 0, 0, 0, 0, 0, 0, 0, 0, 0, 0, 0, 0, 0, 0, 0, 0, 1, 0, 0, 0, 0],\n",
    "                 'Toronto':       [0, 0, 0, 0, 0, 0, 0, 0, 0, 0, 0, 0, 0, 0, 0, 0, 0, 0, 0, 0, 0, 0, 1, 0, 0, 0],\n",
    "                 'Vancouver':     [0, 0, 0, 0, 0, 0, 0, 0, 0, 0, 0, 0, 0, 0, 0, 0, 0, 0, 0, 0, 0, 0, 0, 1, 0, 0],\n",
    "                 'Victoria':      [0, 0, 0, 0, 0, 0, 0, 0, 0, 0, 0, 0, 0, 0, 0, 0, 0, 0, 0, 0, 0, 0, 0, 0, 1, 0],\n",
    "                 'Winnipeg':      [0, 0, 0, 0, 0, 0, 0, 0, 0, 0, 0, 0, 0, 0, 0, 0, 0, 0, 0, 0, 0, 0, 0, 0, 0, 1]}\n",
    "                 #Quebec City data needs to be changed to English in the file.\n",
    "    return [matchDict[x[0]] for x in Y.as_matrix()]"
   ]
  },
  {
   "cell_type": "code",
   "execution_count": 16,
   "metadata": {
    "collapsed": true
   },
   "outputs": [],
   "source": [
    "def matrixToCityClass(Y):\n",
    "    def vec2num(x):\n",
    "        if x[0] == 1: return 0\n",
    "        if x[1] == 1: return 1\n",
    "        if x[2] == 1: return 2\n",
    "        if x[3] == 1: return 3\n",
    "        if x[4] == 1: return 4\n",
    "        if x[5] == 1: return 5\n",
    "        if x[6] == 1: return 6\n",
    "        if x[7] == 1: return 7\n",
    "        if x[8] == 1: return 8\n",
    "        if x[9] == 1: return 9\n",
    "        if x[10] == 1: return 10\n",
    "        if x[11] == 1: return 11\n",
    "        if x[12] == 1: return 12\n",
    "        if x[13] == 1: return 13\n",
    "        if x[14] == 1: return 14\n",
    "        if x[15] == 1: return 15\n",
    "        if x[16] == 1: return 16\n",
    "        if x[17] == 1: return 17\n",
    "        if x[18] == 1: return 18\n",
    "        if x[19] == 1: return 19\n",
    "        if x[20] == 1: return 20\n",
    "        if x[21] == 1: return 21\n",
    "        if x[22] == 1: return 22\n",
    "        if x[23] == 1: return 23\n",
    "        if x[24] == 1: return 24\n",
    "        if x[25] == 1: return 25\n",
    "        return -1\n",
    "    return [vec2num(x) for x in Y]"
   ]
  },
  {
   "cell_type": "code",
   "execution_count": 17,
   "metadata": {
    "collapsed": true
   },
   "outputs": [],
   "source": [
    "def matrixToColourClass(Y):\n",
    "    def vec2num(x):\n",
    "        if x[0] == 1: return 0\n",
    "        if x[1] == 1: return 1\n",
    "        if x[2] == 1: return 2\n",
    "        if x[3] == 1: return 3\n",
    "        if x[4] == 1: return 4\n",
    "        if x[5] == 1: return 5\n",
    "        if x[6] == 1: return 6\n",
    "        if x[7] == 1: return 7\n",
    "        if x[8] == 1: return 8\n",
    "        if x[9] == 1: return 9\n",
    "        return -1\n",
    "    return [vec2num(x) for x in Y]"
   ]
  },
  {
   "cell_type": "markdown",
   "metadata": {},
   "source": []
  },
  {
   "cell_type": "code",
   "execution_count": null,
   "metadata": {
    "collapsed": true
   },
   "outputs": [],
   "source": []
  },
  {
   "cell_type": "code",
   "execution_count": null,
   "metadata": {
    "collapsed": true
   },
   "outputs": [],
   "source": []
  },
  {
   "cell_type": "code",
   "execution_count": 18,
   "metadata": {
    "collapsed": true
   },
   "outputs": [],
   "source": [
    "def studentSetup():\n",
    "    ####Education Data Setup\n",
    "    # load dataset\n",
    "    dataset = pd.read_csv(\"slim-xAPI-Edu-Data.csv\")\n",
    "    #students failed if they are in class L.\n",
    "    #dataset['Failed'] = np.where(dataset['Class'] == 'L', True, False)\n",
    "    dataset['gender'] = np.where(dataset['gender']=='M',1,0)\n",
    "    dataset['Relation'] = np.where(dataset['Relation']=='Father',1,0)\n",
    "    dataset['ParentAnsweringSurvey'] = np.where(dataset['ParentAnsweringSurvey'] == 'Yes', 1, 0)\n",
    "    dataset['ParentschoolSatisfaction'] = np.where(dataset['ParentschoolSatisfaction'] == 'Yes', 1, 0)\n",
    "    dataset['AbsentMoreThanWeek'] = np.where(dataset['StudentAbsenceDays'] == 'Above-7', 1, 0)\n",
    "    dataset['Semester'] = np.where(dataset['Semester'] == 'F', 1, 0)\n",
    "    X = dataset[['raisedhands', 'VisITedResources', 'SectionID', 'Topic', 'StageID', 'AnnouncementsView', 'Semester', 'Discussion', 'gender', 'Relation', 'ParentAnsweringSurvey', 'ParentschoolSatisfaction', 'AbsentMoreThanWeek']]\n",
    "    Y = studentToMatrix(dataset[['Class']])\n",
    "    \n",
    "    X_train, X_test, Y_train, Y_test = train_test_split(X, Y)\n",
    "    \n",
    "    return X_train, X_test, Y_train, Y_test"
   ]
  },
  {
   "cell_type": "code",
   "execution_count": null,
   "metadata": {
    "collapsed": true
   },
   "outputs": [],
   "source": []
  },
  {
   "cell_type": "code",
   "execution_count": 19,
   "metadata": {
    "collapsed": true
   },
   "outputs": [],
   "source": [
    "def colourSetup():\n",
    "    dataset = pd.read_csv(\"colour-data.csv\")\n",
    "    X = dataset[['R', 'G', 'B']]\n",
    "    Y = colourToMatrix(dataset[['Label']])\n",
    "    \n",
    "    X_train, X_test, Y_train, Y_test = train_test_split(X, Y)\n",
    "    \n",
    "    return X_train, X_test, Y_train, Y_test"
   ]
  },
  {
   "cell_type": "code",
   "execution_count": 65,
   "metadata": {
    "collapsed": true
   },
   "outputs": [],
   "source": [
    "def weatherSetup():\n",
    "    dataset = pd.read_csv(\"modified-monthly-data-labelled.csv\")\n",
    "    X = dataset\n",
    "    X = X.drop('city', axis=1)\n",
    "    Y = weatherToMatrix(dataset[['city']])\n",
    "    \n",
    "    X_train, X_test, Y_train, Y_test = train_test_split(X, Y)\n",
    "    \n",
    "    return X_train, X_test, Y_train, Y_test"
   ]
  },
  {
   "cell_type": "code",
   "execution_count": null,
   "metadata": {},
   "outputs": [],
   "source": []
  },
  {
   "cell_type": "code",
   "execution_count": 21,
   "metadata": {
    "collapsed": true
   },
   "outputs": [],
   "source": [
    "def printResult(grid_result):\n",
    "        #Printing Results / Best Parameters.\n",
    "    print(\"Best: %f using %s\" % (grid_result.best_score_, grid_result.best_params_))\n",
    "    means = grid_result.cv_results_['mean_test_score']\n",
    "    stds = grid_result.cv_results_['std_test_score']\n",
    "    params = grid_result.cv_results_['params']\n",
    "    for mean, stdev, param in zip(means, stds, params):\n",
    "        print(\"%f (%f) with: %r\" % (mean, stdev, param))"
   ]
  },
  {
   "cell_type": "code",
   "execution_count": 22,
   "metadata": {
    "collapsed": true
   },
   "outputs": [],
   "source": [
    "# fix random seed for reproducibility\n",
    "seed = 7\n",
    "np.random.seed(seed)"
   ]
  },
  {
   "cell_type": "code",
   "execution_count": 271,
   "metadata": {
    "collapsed": true
   },
   "outputs": [],
   "source": [
    "#####start of Student Data Analysis.\n",
    "X_train, X_test, Y_train, Y_test = studentSetup()"
   ]
  },
  {
   "cell_type": "code",
   "execution_count": 272,
   "metadata": {
    "collapsed": true
   },
   "outputs": [],
   "source": [
    "##### Grid Search 1 - Batch Size and Epochs.\n",
    "model, batch_size, epochs, param_grid = gsBatchEpoch(input_dim=X_train.shape[1])"
   ]
  },
  {
   "cell_type": "code",
   "execution_count": 273,
   "metadata": {
    "collapsed": true
   },
   "outputs": [],
   "source": [
    "grid = GridSearchCV(estimator=model, param_grid=param_grid, n_jobs=-1)\n",
    "grid_result = grid.fit(np.array(X_train), np.array(Y_train))"
   ]
  },
  {
   "cell_type": "code",
   "execution_count": 274,
   "metadata": {
    "scrolled": true
   },
   "outputs": [
    {
     "name": "stdout",
     "output_type": "stream",
     "text": [
      "Best: 0.820370 using {'batch_size': 20, 'epochs': 100}\n",
      "0.687037 (0.022944) with: {'batch_size': 10, 'epochs': 10}\n",
      "0.808333 (0.014873) with: {'batch_size': 10, 'epochs': 50}\n",
      "0.806481 (0.022831) with: {'batch_size': 10, 'epochs': 100}\n",
      "0.672222 (0.011340) with: {'batch_size': 20, 'epochs': 10}\n",
      "0.763889 (0.028956) with: {'batch_size': 20, 'epochs': 50}\n",
      "0.820370 (0.007291) with: {'batch_size': 20, 'epochs': 100}\n",
      "0.661111 (0.004536) with: {'batch_size': 40, 'epochs': 10}\n",
      "0.720370 (0.016091) with: {'batch_size': 40, 'epochs': 50}\n",
      "0.812037 (0.017023) with: {'batch_size': 40, 'epochs': 100}\n",
      "0.666667 (0.000000) with: {'batch_size': 60, 'epochs': 10}\n",
      "0.697222 (0.002268) with: {'batch_size': 60, 'epochs': 50}\n",
      "0.745370 (0.019816) with: {'batch_size': 60, 'epochs': 100}\n",
      "0.666667 (0.000000) with: {'batch_size': 80, 'epochs': 10}\n",
      "0.699074 (0.004721) with: {'batch_size': 80, 'epochs': 50}\n",
      "0.753704 (0.012491) with: {'batch_size': 80, 'epochs': 100}\n",
      "0.666667 (0.000000) with: {'batch_size': 100, 'epochs': 10}\n",
      "0.694444 (0.016355) with: {'batch_size': 100, 'epochs': 50}\n",
      "0.746296 (0.014757) with: {'batch_size': 100, 'epochs': 100}\n"
     ]
    }
   ],
   "source": [
    "bestBatchSize = grid_result.best_params_.get('batch_size')\n",
    "bestEpochs = grid_result.best_params_.get('epochs')\n",
    "printResult(grid_result)"
   ]
  },
  {
   "cell_type": "code",
   "execution_count": 275,
   "metadata": {
    "collapsed": true,
    "scrolled": false
   },
   "outputs": [],
   "source": [
    "Y_predict = grid.predict(np.array(X_test))\n",
    "Y_testing = np.array(matrixToClass(Y_test))"
   ]
  },
  {
   "cell_type": "code",
   "execution_count": 276,
   "metadata": {},
   "outputs": [
    {
     "data": {
      "text/plain": [
       "0.7583333333333333"
      ]
     },
     "execution_count": 276,
     "metadata": {},
     "output_type": "execute_result"
    }
   ],
   "source": [
    "accuracy_score(Y_testing, Y_predict)"
   ]
  },
  {
   "cell_type": "code",
   "execution_count": null,
   "metadata": {
    "collapsed": true
   },
   "outputs": [],
   "source": []
  },
  {
   "cell_type": "code",
   "execution_count": 249,
   "metadata": {
    "collapsed": true
   },
   "outputs": [],
   "source": [
    "##### Grid Search 2 - for best Optimizer.\n",
    "model, optimizer, param_grid = gsOptimizer(input_dim=X_train.shape[1], batch_size=bestBatchSize, epochs=bestEpochs)"
   ]
  },
  {
   "cell_type": "code",
   "execution_count": 206,
   "metadata": {
    "collapsed": true
   },
   "outputs": [],
   "source": [
    "grid = GridSearchCV(estimator=model, param_grid=param_grid, n_jobs=-1)\n",
    "grid_result = grid.fit(np.array(X_train), np.array(Y_train))"
   ]
  },
  {
   "cell_type": "code",
   "execution_count": 207,
   "metadata": {},
   "outputs": [
    {
     "name": "stdout",
     "output_type": "stream",
     "text": [
      "Best: 0.827778 using {'optimizer': 'Adam'}\n",
      "0.685185 (0.006929) with: {'optimizer': 'SGD'}\n",
      "0.798148 (0.012491) with: {'optimizer': 'RMSprop'}\n",
      "0.749074 (0.014757) with: {'optimizer': 'Adagrad'}\n",
      "0.747222 (0.046867) with: {'optimizer': 'Adadelta'}\n",
      "0.827778 (0.011785) with: {'optimizer': 'Adam'}\n",
      "0.812037 (0.005708) with: {'optimizer': 'Adamax'}\n",
      "0.737963 (0.056716) with: {'optimizer': 'Nadam'}\n"
     ]
    }
   ],
   "source": [
    "#From GS2, we get the best optimizer.  Save this for future reference.  Pray it is not SGD.\n",
    "bestOptimizer = grid_result.best_params_.get('optimizer')\n",
    "printResult(grid_result)"
   ]
  },
  {
   "cell_type": "code",
   "execution_count": 209,
   "metadata": {},
   "outputs": [
    {
     "data": {
      "text/plain": [
       "0.78333333333333333"
      ]
     },
     "execution_count": 209,
     "metadata": {},
     "output_type": "execute_result"
    }
   ],
   "source": [
    "Y_predict = grid.predict(np.array(X_test))\n",
    "Y_testing = np.array(matrixToClass(Y_test))\n",
    "accuracy_score(Y_testing, Y_predict)"
   ]
  },
  {
   "cell_type": "code",
   "execution_count": null,
   "metadata": {
    "collapsed": true
   },
   "outputs": [],
   "source": []
  },
  {
   "cell_type": "code",
   "execution_count": null,
   "metadata": {
    "collapsed": true
   },
   "outputs": [],
   "source": []
  },
  {
   "cell_type": "code",
   "execution_count": null,
   "metadata": {
    "collapsed": true
   },
   "outputs": [],
   "source": []
  },
  {
   "cell_type": "code",
   "execution_count": null,
   "metadata": {
    "collapsed": true
   },
   "outputs": [],
   "source": []
  },
  {
   "cell_type": "code",
   "execution_count": 210,
   "metadata": {
    "collapsed": true
   },
   "outputs": [],
   "source": [
    "##### Grid Search 4 - for best init_mode\n",
    "model, init_mode, param_grid = gsInitMode(input_dim=X_train.shape[1], batch_size=bestBatchSize, epochs=bestEpochs, optimizer=bestOptimizer)"
   ]
  },
  {
   "cell_type": "code",
   "execution_count": 211,
   "metadata": {
    "collapsed": true
   },
   "outputs": [],
   "source": [
    "grid = GridSearchCV(estimator=model, param_grid=param_grid, n_jobs=-1)\n",
    "grid_result = grid.fit(np.array(X_train), np.array(Y_train))"
   ]
  },
  {
   "cell_type": "code",
   "execution_count": 212,
   "metadata": {},
   "outputs": [
    {
     "name": "stdout",
     "output_type": "stream",
     "text": [
      "Best: 0.812963 using {'init_mode': 'normal'}\n",
      "0.810185 (0.016718) with: {'init_mode': 'uniform'}\n",
      "0.762963 (0.010227) with: {'init_mode': 'lecun_uniform'}\n",
      "0.812963 (0.024251) with: {'init_mode': 'normal'}\n",
      "0.666667 (0.000000) with: {'init_mode': 'zero'}\n",
      "0.775926 (0.024880) with: {'init_mode': 'glorot_normal'}\n",
      "0.742593 (0.024251) with: {'init_mode': 'glorot_uniform'}\n",
      "0.746296 (0.001309) with: {'init_mode': 'he_normal'}\n",
      "0.649074 (0.109815) with: {'init_mode': 'he_uniform'}\n"
     ]
    }
   ],
   "source": [
    "bestInitMode = grid_result.best_params_.get('init_mode')\n",
    "printResult(grid_result)"
   ]
  },
  {
   "cell_type": "code",
   "execution_count": 213,
   "metadata": {},
   "outputs": [
    {
     "data": {
      "text/plain": [
       "0.76666666666666672"
      ]
     },
     "execution_count": 213,
     "metadata": {},
     "output_type": "execute_result"
    }
   ],
   "source": [
    "Y_predict = grid.predict(np.array(X_test))\n",
    "Y_testing = np.array(matrixToClass(Y_test))\n",
    "accuracy_score(Y_testing, Y_predict)"
   ]
  },
  {
   "cell_type": "code",
   "execution_count": null,
   "metadata": {
    "collapsed": true
   },
   "outputs": [],
   "source": []
  },
  {
   "cell_type": "code",
   "execution_count": null,
   "metadata": {
    "collapsed": true
   },
   "outputs": [],
   "source": []
  },
  {
   "cell_type": "code",
   "execution_count": null,
   "metadata": {
    "collapsed": true
   },
   "outputs": [],
   "source": []
  },
  {
   "cell_type": "code",
   "execution_count": 214,
   "metadata": {
    "collapsed": true
   },
   "outputs": [],
   "source": [
    "##### Grid Search 5 - for best Activation\n",
    "model, activation, param_grid = gsActivation(input_dim=X_train.shape[1], batch_size=bestBatchSize, epochs=bestEpochs, optimizer=bestOptimizer, init_mode=bestInitMode)"
   ]
  },
  {
   "cell_type": "code",
   "execution_count": 215,
   "metadata": {
    "collapsed": true
   },
   "outputs": [],
   "source": [
    "grid = GridSearchCV(estimator=model, param_grid=param_grid, n_jobs=-1)\n",
    "grid_result = grid.fit(np.array(X_train), np.array(Y_train))"
   ]
  },
  {
   "cell_type": "code",
   "execution_count": 216,
   "metadata": {},
   "outputs": [
    {
     "name": "stdout",
     "output_type": "stream",
     "text": [
      "Best: 0.828704 using {'activation': 'relu'}\n",
      "0.739815 (0.033970) with: {'activation': 'softmax'}\n",
      "0.822222 (0.020159) with: {'activation': 'softplus'}\n",
      "0.804630 (0.037291) with: {'activation': 'softsign'}\n",
      "0.828704 (0.008587) with: {'activation': 'relu'}\n",
      "0.819444 (0.014164) with: {'activation': 'tanh'}\n",
      "0.765741 (0.032182) with: {'activation': 'sigmoid'}\n",
      "0.762963 (0.011416) with: {'activation': 'hard_sigmoid'}\n",
      "0.760185 (0.018332) with: {'activation': 'linear'}\n"
     ]
    }
   ],
   "source": [
    "bestActivation = grid_result.best_params_.get('activation')\n",
    "printResult(grid_result)"
   ]
  },
  {
   "cell_type": "code",
   "execution_count": 217,
   "metadata": {},
   "outputs": [
    {
     "data": {
      "text/plain": [
       "0.7416666666666667"
      ]
     },
     "execution_count": 217,
     "metadata": {},
     "output_type": "execute_result"
    }
   ],
   "source": [
    "Y_predict = grid.predict(np.array(X_test))\n",
    "Y_testing = np.array(matrixToClass(Y_test))\n",
    "accuracy_score(Y_testing, Y_predict)"
   ]
  },
  {
   "cell_type": "code",
   "execution_count": null,
   "metadata": {
    "collapsed": true
   },
   "outputs": [],
   "source": []
  },
  {
   "cell_type": "code",
   "execution_count": null,
   "metadata": {
    "collapsed": true
   },
   "outputs": [],
   "source": []
  },
  {
   "cell_type": "code",
   "execution_count": null,
   "metadata": {
    "collapsed": true
   },
   "outputs": [],
   "source": []
  },
  {
   "cell_type": "code",
   "execution_count": 222,
   "metadata": {
    "collapsed": true
   },
   "outputs": [],
   "source": [
    "##### Grid Search 7 - for best Neurons\n",
    "model, neurons, param_grid = gsNeurons(input_dim=X_train.shape[1], batch_size=bestBatchSize, activation=bestActivation, epochs=bestEpochs, optimizer=bestOptimizer, init_mode=bestInitMode)"
   ]
  },
  {
   "cell_type": "code",
   "execution_count": 223,
   "metadata": {
    "collapsed": true
   },
   "outputs": [],
   "source": [
    "grid = GridSearchCV(estimator=model, param_grid=param_grid, n_jobs=-1)\n",
    "grid_result = grid.fit(np.array(X_train), np.array(Y_train))"
   ]
  },
  {
   "cell_type": "code",
   "execution_count": 224,
   "metadata": {},
   "outputs": [
    {
     "name": "stdout",
     "output_type": "stream",
     "text": [
      "Best: 0.824074 using {'neurons': 30}\n",
      "0.684259 (0.024880) with: {'neurons': 1}\n",
      "0.715741 (0.010718) with: {'neurons': 5}\n",
      "0.800000 (0.009886) with: {'neurons': 10}\n",
      "0.820370 (0.014582) with: {'neurons': 15}\n",
      "0.818519 (0.005708) with: {'neurons': 20}\n",
      "0.824074 (0.010227) with: {'neurons': 25}\n",
      "0.824074 (0.013290) with: {'neurons': 30}\n"
     ]
    }
   ],
   "source": [
    "bestNeurons = grid_result.best_params_.get('neurons')\n",
    "printResult(grid_result)"
   ]
  },
  {
   "cell_type": "code",
   "execution_count": 226,
   "metadata": {},
   "outputs": [
    {
     "data": {
      "text/plain": [
       "0.72499999999999998"
      ]
     },
     "execution_count": 226,
     "metadata": {},
     "output_type": "execute_result"
    }
   ],
   "source": [
    "Y_predict = grid.predict(np.array(X_test))\n",
    "Y_testing = np.array(matrixToClass(Y_test))\n",
    "accuracy_score(Y_testing, Y_predict)"
   ]
  },
  {
   "cell_type": "code",
   "execution_count": 254,
   "metadata": {},
   "outputs": [
    {
     "data": {
      "text/plain": [
       "3"
      ]
     },
     "execution_count": 254,
     "metadata": {},
     "output_type": "execute_result"
    }
   ],
   "source": [
    "X_train.shape[1]"
   ]
  },
  {
   "cell_type": "code",
   "execution_count": 250,
   "metadata": {
    "collapsed": true
   },
   "outputs": [],
   "source": [
    "##### Grid Search 7 - for best Layers.\n",
    "model, neurons, param_grid = gsLayers(input_dim=X_train.shape[1], batch_size=bestBatchSize, activation=bestActivation, epochs=bestEpochs, optimizer=bestOptimizer, init_mode=bestInitMode, neurons=bestNeurons)"
   ]
  },
  {
   "cell_type": "code",
   "execution_count": 251,
   "metadata": {},
   "outputs": [
    {
     "ename": "ValueError",
     "evalue": "Error when checking target: expected dense_817 to have shape (None, 3) but got array with shape (1258, 10)",
     "output_type": "error",
     "traceback": [
      "\u001b[0;31m---------------------------------------------------------------------------\u001b[0m",
      "\u001b[0;31mValueError\u001b[0m                                Traceback (most recent call last)",
      "\u001b[0;32m<ipython-input-251-82790a574170>\u001b[0m in \u001b[0;36m<module>\u001b[0;34m()\u001b[0m\n\u001b[1;32m      1\u001b[0m \u001b[0mgrid\u001b[0m \u001b[0;34m=\u001b[0m \u001b[0mGridSearchCV\u001b[0m\u001b[0;34m(\u001b[0m\u001b[0mestimator\u001b[0m\u001b[0;34m=\u001b[0m\u001b[0mmodel\u001b[0m\u001b[0;34m,\u001b[0m \u001b[0mparam_grid\u001b[0m\u001b[0;34m=\u001b[0m\u001b[0mparam_grid\u001b[0m\u001b[0;34m,\u001b[0m \u001b[0mn_jobs\u001b[0m\u001b[0;34m=\u001b[0m\u001b[0;34m-\u001b[0m\u001b[0;36m1\u001b[0m\u001b[0;34m)\u001b[0m\u001b[0;34m\u001b[0m\u001b[0m\n\u001b[0;32m----> 2\u001b[0;31m \u001b[0mgrid_result\u001b[0m \u001b[0;34m=\u001b[0m \u001b[0mgrid\u001b[0m\u001b[0;34m.\u001b[0m\u001b[0mfit\u001b[0m\u001b[0;34m(\u001b[0m\u001b[0mnp\u001b[0m\u001b[0;34m.\u001b[0m\u001b[0marray\u001b[0m\u001b[0;34m(\u001b[0m\u001b[0mX_train\u001b[0m\u001b[0;34m)\u001b[0m\u001b[0;34m,\u001b[0m \u001b[0mnp\u001b[0m\u001b[0;34m.\u001b[0m\u001b[0marray\u001b[0m\u001b[0;34m(\u001b[0m\u001b[0mY_train\u001b[0m\u001b[0;34m)\u001b[0m\u001b[0;34m)\u001b[0m\u001b[0;34m\u001b[0m\u001b[0m\n\u001b[0m",
      "\u001b[0;32m/home/jmloewen/anaconda3/lib/python3.6/site-packages/sklearn/model_selection/_search.py\u001b[0m in \u001b[0;36mfit\u001b[0;34m(self, X, y, groups)\u001b[0m\n\u001b[1;32m    943\u001b[0m             \u001b[0mtrain\u001b[0m\u001b[0;34m/\u001b[0m\u001b[0mtest\u001b[0m \u001b[0mset\u001b[0m\u001b[0;34m.\u001b[0m\u001b[0;34m\u001b[0m\u001b[0m\n\u001b[1;32m    944\u001b[0m         \"\"\"\n\u001b[0;32m--> 945\u001b[0;31m         \u001b[0;32mreturn\u001b[0m \u001b[0mself\u001b[0m\u001b[0;34m.\u001b[0m\u001b[0m_fit\u001b[0m\u001b[0;34m(\u001b[0m\u001b[0mX\u001b[0m\u001b[0;34m,\u001b[0m \u001b[0my\u001b[0m\u001b[0;34m,\u001b[0m \u001b[0mgroups\u001b[0m\u001b[0;34m,\u001b[0m \u001b[0mParameterGrid\u001b[0m\u001b[0;34m(\u001b[0m\u001b[0mself\u001b[0m\u001b[0;34m.\u001b[0m\u001b[0mparam_grid\u001b[0m\u001b[0;34m)\u001b[0m\u001b[0;34m)\u001b[0m\u001b[0;34m\u001b[0m\u001b[0m\n\u001b[0m\u001b[1;32m    946\u001b[0m \u001b[0;34m\u001b[0m\u001b[0m\n\u001b[1;32m    947\u001b[0m \u001b[0;34m\u001b[0m\u001b[0m\n",
      "\u001b[0;32m/home/jmloewen/anaconda3/lib/python3.6/site-packages/sklearn/model_selection/_search.py\u001b[0m in \u001b[0;36m_fit\u001b[0;34m(self, X, y, groups, parameter_iterable)\u001b[0m\n\u001b[1;32m    562\u001b[0m                                   \u001b[0mreturn_times\u001b[0m\u001b[0;34m=\u001b[0m\u001b[0;32mTrue\u001b[0m\u001b[0;34m,\u001b[0m \u001b[0mreturn_parameters\u001b[0m\u001b[0;34m=\u001b[0m\u001b[0;32mTrue\u001b[0m\u001b[0;34m,\u001b[0m\u001b[0;34m\u001b[0m\u001b[0m\n\u001b[1;32m    563\u001b[0m                                   error_score=self.error_score)\n\u001b[0;32m--> 564\u001b[0;31m           \u001b[0;32mfor\u001b[0m \u001b[0mparameters\u001b[0m \u001b[0;32min\u001b[0m \u001b[0mparameter_iterable\u001b[0m\u001b[0;34m\u001b[0m\u001b[0m\n\u001b[0m\u001b[1;32m    565\u001b[0m           for train, test in cv_iter)\n\u001b[1;32m    566\u001b[0m \u001b[0;34m\u001b[0m\u001b[0m\n",
      "\u001b[0;32m/home/jmloewen/anaconda3/lib/python3.6/site-packages/sklearn/externals/joblib/parallel.py\u001b[0m in \u001b[0;36m__call__\u001b[0;34m(self, iterable)\u001b[0m\n\u001b[1;32m    756\u001b[0m             \u001b[0;31m# was dispatched. In particular this covers the edge\u001b[0m\u001b[0;34m\u001b[0m\u001b[0;34m\u001b[0m\u001b[0m\n\u001b[1;32m    757\u001b[0m             \u001b[0;31m# case of Parallel used with an exhausted iterator.\u001b[0m\u001b[0;34m\u001b[0m\u001b[0;34m\u001b[0m\u001b[0m\n\u001b[0;32m--> 758\u001b[0;31m             \u001b[0;32mwhile\u001b[0m \u001b[0mself\u001b[0m\u001b[0;34m.\u001b[0m\u001b[0mdispatch_one_batch\u001b[0m\u001b[0;34m(\u001b[0m\u001b[0miterator\u001b[0m\u001b[0;34m)\u001b[0m\u001b[0;34m:\u001b[0m\u001b[0;34m\u001b[0m\u001b[0m\n\u001b[0m\u001b[1;32m    759\u001b[0m                 \u001b[0mself\u001b[0m\u001b[0;34m.\u001b[0m\u001b[0m_iterating\u001b[0m \u001b[0;34m=\u001b[0m \u001b[0;32mTrue\u001b[0m\u001b[0;34m\u001b[0m\u001b[0m\n\u001b[1;32m    760\u001b[0m             \u001b[0;32melse\u001b[0m\u001b[0;34m:\u001b[0m\u001b[0;34m\u001b[0m\u001b[0m\n",
      "\u001b[0;32m/home/jmloewen/anaconda3/lib/python3.6/site-packages/sklearn/externals/joblib/parallel.py\u001b[0m in \u001b[0;36mdispatch_one_batch\u001b[0;34m(self, iterator)\u001b[0m\n\u001b[1;32m    606\u001b[0m                 \u001b[0;32mreturn\u001b[0m \u001b[0;32mFalse\u001b[0m\u001b[0;34m\u001b[0m\u001b[0m\n\u001b[1;32m    607\u001b[0m             \u001b[0;32melse\u001b[0m\u001b[0;34m:\u001b[0m\u001b[0;34m\u001b[0m\u001b[0m\n\u001b[0;32m--> 608\u001b[0;31m                 \u001b[0mself\u001b[0m\u001b[0;34m.\u001b[0m\u001b[0m_dispatch\u001b[0m\u001b[0;34m(\u001b[0m\u001b[0mtasks\u001b[0m\u001b[0;34m)\u001b[0m\u001b[0;34m\u001b[0m\u001b[0m\n\u001b[0m\u001b[1;32m    609\u001b[0m                 \u001b[0;32mreturn\u001b[0m \u001b[0;32mTrue\u001b[0m\u001b[0;34m\u001b[0m\u001b[0m\n\u001b[1;32m    610\u001b[0m \u001b[0;34m\u001b[0m\u001b[0m\n",
      "\u001b[0;32m/home/jmloewen/anaconda3/lib/python3.6/site-packages/sklearn/externals/joblib/parallel.py\u001b[0m in \u001b[0;36m_dispatch\u001b[0;34m(self, batch)\u001b[0m\n\u001b[1;32m    569\u001b[0m         \u001b[0mdispatch_timestamp\u001b[0m \u001b[0;34m=\u001b[0m \u001b[0mtime\u001b[0m\u001b[0;34m.\u001b[0m\u001b[0mtime\u001b[0m\u001b[0;34m(\u001b[0m\u001b[0;34m)\u001b[0m\u001b[0;34m\u001b[0m\u001b[0m\n\u001b[1;32m    570\u001b[0m         \u001b[0mcb\u001b[0m \u001b[0;34m=\u001b[0m \u001b[0mBatchCompletionCallBack\u001b[0m\u001b[0;34m(\u001b[0m\u001b[0mdispatch_timestamp\u001b[0m\u001b[0;34m,\u001b[0m \u001b[0mlen\u001b[0m\u001b[0;34m(\u001b[0m\u001b[0mbatch\u001b[0m\u001b[0;34m)\u001b[0m\u001b[0;34m,\u001b[0m \u001b[0mself\u001b[0m\u001b[0;34m)\u001b[0m\u001b[0;34m\u001b[0m\u001b[0m\n\u001b[0;32m--> 571\u001b[0;31m         \u001b[0mjob\u001b[0m \u001b[0;34m=\u001b[0m \u001b[0mself\u001b[0m\u001b[0;34m.\u001b[0m\u001b[0m_backend\u001b[0m\u001b[0;34m.\u001b[0m\u001b[0mapply_async\u001b[0m\u001b[0;34m(\u001b[0m\u001b[0mbatch\u001b[0m\u001b[0;34m,\u001b[0m \u001b[0mcallback\u001b[0m\u001b[0;34m=\u001b[0m\u001b[0mcb\u001b[0m\u001b[0;34m)\u001b[0m\u001b[0;34m\u001b[0m\u001b[0m\n\u001b[0m\u001b[1;32m    572\u001b[0m         \u001b[0mself\u001b[0m\u001b[0;34m.\u001b[0m\u001b[0m_jobs\u001b[0m\u001b[0;34m.\u001b[0m\u001b[0mappend\u001b[0m\u001b[0;34m(\u001b[0m\u001b[0mjob\u001b[0m\u001b[0;34m)\u001b[0m\u001b[0;34m\u001b[0m\u001b[0m\n\u001b[1;32m    573\u001b[0m \u001b[0;34m\u001b[0m\u001b[0m\n",
      "\u001b[0;32m/home/jmloewen/anaconda3/lib/python3.6/site-packages/sklearn/externals/joblib/_parallel_backends.py\u001b[0m in \u001b[0;36mapply_async\u001b[0;34m(self, func, callback)\u001b[0m\n\u001b[1;32m    107\u001b[0m     \u001b[0;32mdef\u001b[0m \u001b[0mapply_async\u001b[0m\u001b[0;34m(\u001b[0m\u001b[0mself\u001b[0m\u001b[0;34m,\u001b[0m \u001b[0mfunc\u001b[0m\u001b[0;34m,\u001b[0m \u001b[0mcallback\u001b[0m\u001b[0;34m=\u001b[0m\u001b[0;32mNone\u001b[0m\u001b[0;34m)\u001b[0m\u001b[0;34m:\u001b[0m\u001b[0;34m\u001b[0m\u001b[0m\n\u001b[1;32m    108\u001b[0m         \u001b[0;34m\"\"\"Schedule a func to be run\"\"\"\u001b[0m\u001b[0;34m\u001b[0m\u001b[0m\n\u001b[0;32m--> 109\u001b[0;31m         \u001b[0mresult\u001b[0m \u001b[0;34m=\u001b[0m \u001b[0mImmediateResult\u001b[0m\u001b[0;34m(\u001b[0m\u001b[0mfunc\u001b[0m\u001b[0;34m)\u001b[0m\u001b[0;34m\u001b[0m\u001b[0m\n\u001b[0m\u001b[1;32m    110\u001b[0m         \u001b[0;32mif\u001b[0m \u001b[0mcallback\u001b[0m\u001b[0;34m:\u001b[0m\u001b[0;34m\u001b[0m\u001b[0m\n\u001b[1;32m    111\u001b[0m             \u001b[0mcallback\u001b[0m\u001b[0;34m(\u001b[0m\u001b[0mresult\u001b[0m\u001b[0;34m)\u001b[0m\u001b[0;34m\u001b[0m\u001b[0m\n",
      "\u001b[0;32m/home/jmloewen/anaconda3/lib/python3.6/site-packages/sklearn/externals/joblib/_parallel_backends.py\u001b[0m in \u001b[0;36m__init__\u001b[0;34m(self, batch)\u001b[0m\n\u001b[1;32m    324\u001b[0m         \u001b[0;31m# Don't delay the application, to avoid keeping the input\u001b[0m\u001b[0;34m\u001b[0m\u001b[0;34m\u001b[0m\u001b[0m\n\u001b[1;32m    325\u001b[0m         \u001b[0;31m# arguments in memory\u001b[0m\u001b[0;34m\u001b[0m\u001b[0;34m\u001b[0m\u001b[0m\n\u001b[0;32m--> 326\u001b[0;31m         \u001b[0mself\u001b[0m\u001b[0;34m.\u001b[0m\u001b[0mresults\u001b[0m \u001b[0;34m=\u001b[0m \u001b[0mbatch\u001b[0m\u001b[0;34m(\u001b[0m\u001b[0;34m)\u001b[0m\u001b[0;34m\u001b[0m\u001b[0m\n\u001b[0m\u001b[1;32m    327\u001b[0m \u001b[0;34m\u001b[0m\u001b[0m\n\u001b[1;32m    328\u001b[0m     \u001b[0;32mdef\u001b[0m \u001b[0mget\u001b[0m\u001b[0;34m(\u001b[0m\u001b[0mself\u001b[0m\u001b[0;34m)\u001b[0m\u001b[0;34m:\u001b[0m\u001b[0;34m\u001b[0m\u001b[0m\n",
      "\u001b[0;32m/home/jmloewen/anaconda3/lib/python3.6/site-packages/sklearn/externals/joblib/parallel.py\u001b[0m in \u001b[0;36m__call__\u001b[0;34m(self)\u001b[0m\n\u001b[1;32m    129\u001b[0m \u001b[0;34m\u001b[0m\u001b[0m\n\u001b[1;32m    130\u001b[0m     \u001b[0;32mdef\u001b[0m \u001b[0m__call__\u001b[0m\u001b[0;34m(\u001b[0m\u001b[0mself\u001b[0m\u001b[0;34m)\u001b[0m\u001b[0;34m:\u001b[0m\u001b[0;34m\u001b[0m\u001b[0m\n\u001b[0;32m--> 131\u001b[0;31m         \u001b[0;32mreturn\u001b[0m \u001b[0;34m[\u001b[0m\u001b[0mfunc\u001b[0m\u001b[0;34m(\u001b[0m\u001b[0;34m*\u001b[0m\u001b[0margs\u001b[0m\u001b[0;34m,\u001b[0m \u001b[0;34m**\u001b[0m\u001b[0mkwargs\u001b[0m\u001b[0;34m)\u001b[0m \u001b[0;32mfor\u001b[0m \u001b[0mfunc\u001b[0m\u001b[0;34m,\u001b[0m \u001b[0margs\u001b[0m\u001b[0;34m,\u001b[0m \u001b[0mkwargs\u001b[0m \u001b[0;32min\u001b[0m \u001b[0mself\u001b[0m\u001b[0;34m.\u001b[0m\u001b[0mitems\u001b[0m\u001b[0;34m]\u001b[0m\u001b[0;34m\u001b[0m\u001b[0m\n\u001b[0m\u001b[1;32m    132\u001b[0m \u001b[0;34m\u001b[0m\u001b[0m\n\u001b[1;32m    133\u001b[0m     \u001b[0;32mdef\u001b[0m \u001b[0m__len__\u001b[0m\u001b[0;34m(\u001b[0m\u001b[0mself\u001b[0m\u001b[0;34m)\u001b[0m\u001b[0;34m:\u001b[0m\u001b[0;34m\u001b[0m\u001b[0m\n",
      "\u001b[0;32m/home/jmloewen/anaconda3/lib/python3.6/site-packages/sklearn/externals/joblib/parallel.py\u001b[0m in \u001b[0;36m<listcomp>\u001b[0;34m(.0)\u001b[0m\n\u001b[1;32m    129\u001b[0m \u001b[0;34m\u001b[0m\u001b[0m\n\u001b[1;32m    130\u001b[0m     \u001b[0;32mdef\u001b[0m \u001b[0m__call__\u001b[0m\u001b[0;34m(\u001b[0m\u001b[0mself\u001b[0m\u001b[0;34m)\u001b[0m\u001b[0;34m:\u001b[0m\u001b[0;34m\u001b[0m\u001b[0m\n\u001b[0;32m--> 131\u001b[0;31m         \u001b[0;32mreturn\u001b[0m \u001b[0;34m[\u001b[0m\u001b[0mfunc\u001b[0m\u001b[0;34m(\u001b[0m\u001b[0;34m*\u001b[0m\u001b[0margs\u001b[0m\u001b[0;34m,\u001b[0m \u001b[0;34m**\u001b[0m\u001b[0mkwargs\u001b[0m\u001b[0;34m)\u001b[0m \u001b[0;32mfor\u001b[0m \u001b[0mfunc\u001b[0m\u001b[0;34m,\u001b[0m \u001b[0margs\u001b[0m\u001b[0;34m,\u001b[0m \u001b[0mkwargs\u001b[0m \u001b[0;32min\u001b[0m \u001b[0mself\u001b[0m\u001b[0;34m.\u001b[0m\u001b[0mitems\u001b[0m\u001b[0;34m]\u001b[0m\u001b[0;34m\u001b[0m\u001b[0m\n\u001b[0m\u001b[1;32m    132\u001b[0m \u001b[0;34m\u001b[0m\u001b[0m\n\u001b[1;32m    133\u001b[0m     \u001b[0;32mdef\u001b[0m \u001b[0m__len__\u001b[0m\u001b[0;34m(\u001b[0m\u001b[0mself\u001b[0m\u001b[0;34m)\u001b[0m\u001b[0;34m:\u001b[0m\u001b[0;34m\u001b[0m\u001b[0m\n",
      "\u001b[0;32m/home/jmloewen/anaconda3/lib/python3.6/site-packages/sklearn/model_selection/_validation.py\u001b[0m in \u001b[0;36m_fit_and_score\u001b[0;34m(estimator, X, y, scorer, train, test, verbose, parameters, fit_params, return_train_score, return_parameters, return_n_test_samples, return_times, error_score)\u001b[0m\n\u001b[1;32m    236\u001b[0m             \u001b[0mestimator\u001b[0m\u001b[0;34m.\u001b[0m\u001b[0mfit\u001b[0m\u001b[0;34m(\u001b[0m\u001b[0mX_train\u001b[0m\u001b[0;34m,\u001b[0m \u001b[0;34m**\u001b[0m\u001b[0mfit_params\u001b[0m\u001b[0;34m)\u001b[0m\u001b[0;34m\u001b[0m\u001b[0m\n\u001b[1;32m    237\u001b[0m         \u001b[0;32melse\u001b[0m\u001b[0;34m:\u001b[0m\u001b[0;34m\u001b[0m\u001b[0m\n\u001b[0;32m--> 238\u001b[0;31m             \u001b[0mestimator\u001b[0m\u001b[0;34m.\u001b[0m\u001b[0mfit\u001b[0m\u001b[0;34m(\u001b[0m\u001b[0mX_train\u001b[0m\u001b[0;34m,\u001b[0m \u001b[0my_train\u001b[0m\u001b[0;34m,\u001b[0m \u001b[0;34m**\u001b[0m\u001b[0mfit_params\u001b[0m\u001b[0;34m)\u001b[0m\u001b[0;34m\u001b[0m\u001b[0m\n\u001b[0m\u001b[1;32m    239\u001b[0m \u001b[0;34m\u001b[0m\u001b[0m\n\u001b[1;32m    240\u001b[0m     \u001b[0;32mexcept\u001b[0m \u001b[0mException\u001b[0m \u001b[0;32mas\u001b[0m \u001b[0me\u001b[0m\u001b[0;34m:\u001b[0m\u001b[0;34m\u001b[0m\u001b[0m\n",
      "\u001b[0;32m/home/jmloewen/anaconda3/lib/python3.6/site-packages/keras/wrappers/scikit_learn.py\u001b[0m in \u001b[0;36mfit\u001b[0;34m(self, x, y, **kwargs)\u001b[0m\n\u001b[1;32m    201\u001b[0m             \u001b[0;32mraise\u001b[0m \u001b[0mValueError\u001b[0m\u001b[0;34m(\u001b[0m\u001b[0;34m'Invalid shape for y: '\u001b[0m \u001b[0;34m+\u001b[0m \u001b[0mstr\u001b[0m\u001b[0;34m(\u001b[0m\u001b[0my\u001b[0m\u001b[0;34m.\u001b[0m\u001b[0mshape\u001b[0m\u001b[0;34m)\u001b[0m\u001b[0;34m)\u001b[0m\u001b[0;34m\u001b[0m\u001b[0m\n\u001b[1;32m    202\u001b[0m         \u001b[0mself\u001b[0m\u001b[0;34m.\u001b[0m\u001b[0mn_classes_\u001b[0m \u001b[0;34m=\u001b[0m \u001b[0mlen\u001b[0m\u001b[0;34m(\u001b[0m\u001b[0mself\u001b[0m\u001b[0;34m.\u001b[0m\u001b[0mclasses_\u001b[0m\u001b[0;34m)\u001b[0m\u001b[0;34m\u001b[0m\u001b[0m\n\u001b[0;32m--> 203\u001b[0;31m         \u001b[0;32mreturn\u001b[0m \u001b[0msuper\u001b[0m\u001b[0;34m(\u001b[0m\u001b[0mKerasClassifier\u001b[0m\u001b[0;34m,\u001b[0m \u001b[0mself\u001b[0m\u001b[0;34m)\u001b[0m\u001b[0;34m.\u001b[0m\u001b[0mfit\u001b[0m\u001b[0;34m(\u001b[0m\u001b[0mx\u001b[0m\u001b[0;34m,\u001b[0m \u001b[0my\u001b[0m\u001b[0;34m,\u001b[0m \u001b[0;34m**\u001b[0m\u001b[0mkwargs\u001b[0m\u001b[0;34m)\u001b[0m\u001b[0;34m\u001b[0m\u001b[0m\n\u001b[0m\u001b[1;32m    204\u001b[0m \u001b[0;34m\u001b[0m\u001b[0m\n\u001b[1;32m    205\u001b[0m     \u001b[0;32mdef\u001b[0m \u001b[0mpredict\u001b[0m\u001b[0;34m(\u001b[0m\u001b[0mself\u001b[0m\u001b[0;34m,\u001b[0m \u001b[0mx\u001b[0m\u001b[0;34m,\u001b[0m \u001b[0;34m**\u001b[0m\u001b[0mkwargs\u001b[0m\u001b[0;34m)\u001b[0m\u001b[0;34m:\u001b[0m\u001b[0;34m\u001b[0m\u001b[0m\n",
      "\u001b[0;32m/home/jmloewen/anaconda3/lib/python3.6/site-packages/keras/wrappers/scikit_learn.py\u001b[0m in \u001b[0;36mfit\u001b[0;34m(self, x, y, **kwargs)\u001b[0m\n\u001b[1;32m    145\u001b[0m         \u001b[0mfit_args\u001b[0m\u001b[0;34m.\u001b[0m\u001b[0mupdate\u001b[0m\u001b[0;34m(\u001b[0m\u001b[0mkwargs\u001b[0m\u001b[0;34m)\u001b[0m\u001b[0;34m\u001b[0m\u001b[0m\n\u001b[1;32m    146\u001b[0m \u001b[0;34m\u001b[0m\u001b[0m\n\u001b[0;32m--> 147\u001b[0;31m         \u001b[0mhistory\u001b[0m \u001b[0;34m=\u001b[0m \u001b[0mself\u001b[0m\u001b[0;34m.\u001b[0m\u001b[0mmodel\u001b[0m\u001b[0;34m.\u001b[0m\u001b[0mfit\u001b[0m\u001b[0;34m(\u001b[0m\u001b[0mx\u001b[0m\u001b[0;34m,\u001b[0m \u001b[0my\u001b[0m\u001b[0;34m,\u001b[0m \u001b[0;34m**\u001b[0m\u001b[0mfit_args\u001b[0m\u001b[0;34m)\u001b[0m\u001b[0;34m\u001b[0m\u001b[0m\n\u001b[0m\u001b[1;32m    148\u001b[0m \u001b[0;34m\u001b[0m\u001b[0m\n\u001b[1;32m    149\u001b[0m         \u001b[0;32mreturn\u001b[0m \u001b[0mhistory\u001b[0m\u001b[0;34m\u001b[0m\u001b[0m\n",
      "\u001b[0;32m/home/jmloewen/anaconda3/lib/python3.6/site-packages/keras/models.py\u001b[0m in \u001b[0;36mfit\u001b[0;34m(self, x, y, batch_size, epochs, verbose, callbacks, validation_split, validation_data, shuffle, class_weight, sample_weight, initial_epoch, **kwargs)\u001b[0m\n\u001b[1;32m    863\u001b[0m                               \u001b[0mclass_weight\u001b[0m\u001b[0;34m=\u001b[0m\u001b[0mclass_weight\u001b[0m\u001b[0;34m,\u001b[0m\u001b[0;34m\u001b[0m\u001b[0m\n\u001b[1;32m    864\u001b[0m                               \u001b[0msample_weight\u001b[0m\u001b[0;34m=\u001b[0m\u001b[0msample_weight\u001b[0m\u001b[0;34m,\u001b[0m\u001b[0;34m\u001b[0m\u001b[0m\n\u001b[0;32m--> 865\u001b[0;31m                               initial_epoch=initial_epoch)\n\u001b[0m\u001b[1;32m    866\u001b[0m \u001b[0;34m\u001b[0m\u001b[0m\n\u001b[1;32m    867\u001b[0m     def evaluate(self, x, y, batch_size=32, verbose=1,\n",
      "\u001b[0;32m/home/jmloewen/anaconda3/lib/python3.6/site-packages/keras/engine/training.py\u001b[0m in \u001b[0;36mfit\u001b[0;34m(self, x, y, batch_size, epochs, verbose, callbacks, validation_split, validation_data, shuffle, class_weight, sample_weight, initial_epoch, **kwargs)\u001b[0m\n\u001b[1;32m   1356\u001b[0m             \u001b[0mclass_weight\u001b[0m\u001b[0;34m=\u001b[0m\u001b[0mclass_weight\u001b[0m\u001b[0;34m,\u001b[0m\u001b[0;34m\u001b[0m\u001b[0m\n\u001b[1;32m   1357\u001b[0m             \u001b[0mcheck_batch_axis\u001b[0m\u001b[0;34m=\u001b[0m\u001b[0;32mFalse\u001b[0m\u001b[0;34m,\u001b[0m\u001b[0;34m\u001b[0m\u001b[0m\n\u001b[0;32m-> 1358\u001b[0;31m             batch_size=batch_size)\n\u001b[0m\u001b[1;32m   1359\u001b[0m         \u001b[0;31m# Prepare validation data.\u001b[0m\u001b[0;34m\u001b[0m\u001b[0;34m\u001b[0m\u001b[0m\n\u001b[1;32m   1360\u001b[0m         \u001b[0;32mif\u001b[0m \u001b[0mvalidation_data\u001b[0m\u001b[0;34m:\u001b[0m\u001b[0;34m\u001b[0m\u001b[0m\n",
      "\u001b[0;32m/home/jmloewen/anaconda3/lib/python3.6/site-packages/keras/engine/training.py\u001b[0m in \u001b[0;36m_standardize_user_data\u001b[0;34m(self, x, y, sample_weight, class_weight, check_batch_axis, batch_size)\u001b[0m\n\u001b[1;32m   1236\u001b[0m                                     \u001b[0moutput_shapes\u001b[0m\u001b[0;34m,\u001b[0m\u001b[0;34m\u001b[0m\u001b[0m\n\u001b[1;32m   1237\u001b[0m                                     \u001b[0mcheck_batch_axis\u001b[0m\u001b[0;34m=\u001b[0m\u001b[0;32mFalse\u001b[0m\u001b[0;34m,\u001b[0m\u001b[0;34m\u001b[0m\u001b[0m\n\u001b[0;32m-> 1238\u001b[0;31m                                     exception_prefix='target')\n\u001b[0m\u001b[1;32m   1239\u001b[0m         sample_weights = _standardize_sample_weights(sample_weight,\n\u001b[1;32m   1240\u001b[0m                                                      self._feed_output_names)\n",
      "\u001b[0;32m/home/jmloewen/anaconda3/lib/python3.6/site-packages/keras/engine/training.py\u001b[0m in \u001b[0;36m_standardize_input_data\u001b[0;34m(data, names, shapes, check_batch_axis, exception_prefix)\u001b[0m\n\u001b[1;32m    138\u001b[0m                             \u001b[0;34m' to have shape '\u001b[0m \u001b[0;34m+\u001b[0m \u001b[0mstr\u001b[0m\u001b[0;34m(\u001b[0m\u001b[0mshapes\u001b[0m\u001b[0;34m[\u001b[0m\u001b[0mi\u001b[0m\u001b[0;34m]\u001b[0m\u001b[0;34m)\u001b[0m \u001b[0;34m+\u001b[0m\u001b[0;34m\u001b[0m\u001b[0m\n\u001b[1;32m    139\u001b[0m                             \u001b[0;34m' but got array with shape '\u001b[0m \u001b[0;34m+\u001b[0m\u001b[0;34m\u001b[0m\u001b[0m\n\u001b[0;32m--> 140\u001b[0;31m                             str(array.shape))\n\u001b[0m\u001b[1;32m    141\u001b[0m     \u001b[0;32mreturn\u001b[0m \u001b[0marrays\u001b[0m\u001b[0;34m\u001b[0m\u001b[0m\n\u001b[1;32m    142\u001b[0m \u001b[0;34m\u001b[0m\u001b[0m\n",
      "\u001b[0;31mValueError\u001b[0m: Error when checking target: expected dense_817 to have shape (None, 3) but got array with shape (1258, 10)"
     ]
    }
   ],
   "source": [
    "grid = GridSearchCV(estimator=model, param_grid=param_grid, n_jobs=-1)\n",
    "grid_result = grid.fit(np.array(X_train), np.array(Y_train))"
   ]
  },
  {
   "cell_type": "code",
   "execution_count": 229,
   "metadata": {},
   "outputs": [
    {
     "name": "stdout",
     "output_type": "stream",
     "text": [
      "Best: 0.821296 using {'n_layers': 3}\n",
      "0.811111 (0.009072) with: {'n_layers': 2}\n",
      "0.821296 (0.005708) with: {'n_layers': 3}\n",
      "0.820370 (0.020580) with: {'n_layers': 4}\n",
      "0.820370 (0.023277) with: {'n_layers': 5}\n",
      "0.782407 (0.022376) with: {'n_layers': 6}\n",
      "0.819444 (0.012628) with: {'n_layers': 7}\n",
      "0.800000 (0.016355) with: {'n_layers': 8}\n",
      "0.741667 (0.014164) with: {'n_layers': 9}\n",
      "0.711111 (0.037474) with: {'n_layers': 10}\n"
     ]
    }
   ],
   "source": [
    "bestLayers = grid_result.best_params_.get('n_layers')\n",
    "printResult(grid_result)"
   ]
  },
  {
   "cell_type": "code",
   "execution_count": 230,
   "metadata": {},
   "outputs": [
    {
     "data": {
      "text/plain": [
       "0.73333333333333328"
      ]
     },
     "execution_count": 230,
     "metadata": {},
     "output_type": "execute_result"
    }
   ],
   "source": [
    "Y_predict = grid.predict(np.array(X_test))\n",
    "Y_testing = np.array(matrixToClass(Y_test))\n",
    "accuracy_score(Y_testing, Y_predict)"
   ]
  },
  {
   "cell_type": "code",
   "execution_count": null,
   "metadata": {
    "collapsed": true
   },
   "outputs": [],
   "source": []
  },
  {
   "cell_type": "code",
   "execution_count": null,
   "metadata": {
    "collapsed": true
   },
   "outputs": [],
   "source": []
  },
  {
   "cell_type": "code",
   "execution_count": 233,
   "metadata": {
    "collapsed": true
   },
   "outputs": [],
   "source": [
    "gsKerasHP = pd.DataFrame()"
   ]
  },
  {
   "cell_type": "code",
   "execution_count": 234,
   "metadata": {},
   "outputs": [
    {
     "data": {
      "text/html": [
       "<div>\n",
       "<style>\n",
       "    .dataframe thead tr:only-child th {\n",
       "        text-align: right;\n",
       "    }\n",
       "\n",
       "    .dataframe thead th {\n",
       "        text-align: left;\n",
       "    }\n",
       "\n",
       "    .dataframe tbody tr th {\n",
       "        vertical-align: top;\n",
       "    }\n",
       "</style>\n",
       "<table border=\"1\" class=\"dataframe\">\n",
       "  <thead>\n",
       "    <tr style=\"text-align: right;\">\n",
       "      <th></th>\n",
       "      <th>activation</th>\n",
       "      <th>batch_size</th>\n",
       "      <th>dataset</th>\n",
       "      <th>epochs</th>\n",
       "      <th>init_mode</th>\n",
       "      <th>n_layers</th>\n",
       "      <th>neurons</th>\n",
       "      <th>optimizer</th>\n",
       "    </tr>\n",
       "  </thead>\n",
       "  <tbody>\n",
       "    <tr>\n",
       "      <th>0</th>\n",
       "      <td>relu</td>\n",
       "      <td>20.0</td>\n",
       "      <td>student</td>\n",
       "      <td>100.0</td>\n",
       "      <td>normal</td>\n",
       "      <td>3.0</td>\n",
       "      <td>30.0</td>\n",
       "      <td>Adam</td>\n",
       "    </tr>\n",
       "  </tbody>\n",
       "</table>\n",
       "</div>"
      ],
      "text/plain": [
       "  activation  batch_size  dataset  epochs init_mode  n_layers  neurons  \\\n",
       "0       relu        20.0  student   100.0    normal       3.0     30.0   \n",
       "\n",
       "  optimizer  \n",
       "0      Adam  "
      ]
     },
     "execution_count": 234,
     "metadata": {},
     "output_type": "execute_result"
    }
   ],
   "source": [
    "gsKerasHP = gsKerasHP.append({'dataset':'student', 'batch_size':bestBatchSize, 'activation':bestActivation, 'epochs':bestEpochs, 'optimizer':bestOptimizer, 'init_mode':bestInitMode, 'neurons':bestNeurons, 'n_layers':bestLayers}, ignore_index=True)\n",
    "gsKerasHP"
   ]
  },
  {
   "cell_type": "code",
   "execution_count": null,
   "metadata": {
    "collapsed": true
   },
   "outputs": [],
   "source": []
  },
  {
   "cell_type": "code",
   "execution_count": 23,
   "metadata": {
    "collapsed": true
   },
   "outputs": [],
   "source": [
    "#####start of Color Data Analysis\n",
    "X_train, X_test, Y_train, Y_test = colourSetup()"
   ]
  },
  {
   "cell_type": "code",
   "execution_count": 287,
   "metadata": {
    "collapsed": true
   },
   "outputs": [],
   "source": [
    "##### Grid Search 1 - Batch Size and Epochs.\n",
    "model, batch_size, epochs, param_grid = gsBatchEpoch(input_dim=X_train.shape[1], output_size=10)\n",
    "grid = GridSearchCV(estimator=model, param_grid=param_grid, n_jobs=-1)"
   ]
  },
  {
   "cell_type": "code",
   "execution_count": null,
   "metadata": {
    "collapsed": true
   },
   "outputs": [],
   "source": []
  },
  {
   "cell_type": "code",
   "execution_count": 289,
   "metadata": {
    "collapsed": true
   },
   "outputs": [],
   "source": [
    "grid_result = grid.fit(np.array(X_train), np.array(Y_train))"
   ]
  },
  {
   "cell_type": "code",
   "execution_count": 292,
   "metadata": {},
   "outputs": [
    {
     "name": "stdout",
     "output_type": "stream",
     "text": [
      "Best: 0.942501 using {'batch_size': 20, 'epochs': 100}\n",
      "0.926285 (0.004138) with: {'batch_size': 10, 'epochs': 10}\n",
      "0.938633 (0.000980) with: {'batch_size': 10, 'epochs': 50}\n",
      "0.942342 (0.000375) with: {'batch_size': 10, 'epochs': 100}\n",
      "0.925543 (0.001459) with: {'batch_size': 20, 'epochs': 10}\n",
      "0.936884 (0.001964) with: {'batch_size': 20, 'epochs': 50}\n",
      "0.942501 (0.003062) with: {'batch_size': 20, 'epochs': 100}\n",
      "0.922099 (0.002596) with: {'batch_size': 40, 'epochs': 10}\n",
      "0.935718 (0.001560) with: {'batch_size': 40, 'epochs': 50}\n",
      "0.939322 (0.000640) with: {'batch_size': 40, 'epochs': 100}\n",
      "0.912295 (0.002219) with: {'batch_size': 60, 'epochs': 10}\n",
      "0.933015 (0.001654) with: {'batch_size': 60, 'epochs': 50}\n",
      "0.937573 (0.001436) with: {'batch_size': 60, 'epochs': 100}\n",
      "0.904716 (0.004353) with: {'batch_size': 80, 'epochs': 10}\n",
      "0.930790 (0.002848) with: {'batch_size': 80, 'epochs': 50}\n",
      "0.938050 (0.002366) with: {'batch_size': 80, 'epochs': 100}\n",
      "0.900159 (0.000130) with: {'batch_size': 100, 'epochs': 10}\n",
      "0.927716 (0.001729) with: {'batch_size': 100, 'epochs': 50}\n",
      "0.936354 (0.000666) with: {'batch_size': 100, 'epochs': 100}\n"
     ]
    }
   ],
   "source": [
    "bestBatchSize = grid_result.best_params_.get('batch_size')\n",
    "bestEpochs = grid_result.best_params_.get('epochs')\n",
    "printResult(grid_result)"
   ]
  },
  {
   "cell_type": "code",
   "execution_count": 296,
   "metadata": {},
   "outputs": [
    {
     "data": {
      "text/plain": [
       "0.69157392686804453"
      ]
     },
     "execution_count": 296,
     "metadata": {},
     "output_type": "execute_result"
    }
   ],
   "source": [
    "Y_predict = grid.predict(np.array(X_test))\n",
    "Y_testing = np.array(matrixToColourClass(Y_test))\n",
    "accuracy_score(Y_testing, Y_predict)"
   ]
  },
  {
   "cell_type": "code",
   "execution_count": null,
   "metadata": {
    "collapsed": true
   },
   "outputs": [],
   "source": []
  },
  {
   "cell_type": "code",
   "execution_count": null,
   "metadata": {
    "collapsed": true
   },
   "outputs": [],
   "source": []
  },
  {
   "cell_type": "code",
   "execution_count": null,
   "metadata": {
    "collapsed": true
   },
   "outputs": [],
   "source": []
  },
  {
   "cell_type": "code",
   "execution_count": 322,
   "metadata": {
    "collapsed": true
   },
   "outputs": [],
   "source": [
    "##### Grid Search 2 - for best Optimizer.\n",
    "model, optimizer, param_grid = gsOptimizer(input_dim=X_train.shape[1], output_size=10, batch_size=bestBatchSize, epochs=bestEpochs)\n",
    "grid = GridSearchCV(estimator=model, param_grid=param_grid, n_jobs=-1)"
   ]
  },
  {
   "cell_type": "code",
   "execution_count": 323,
   "metadata": {
    "collapsed": true
   },
   "outputs": [],
   "source": [
    "grid_result = grid.fit(np.array(X_train), np.array(Y_train))"
   ]
  },
  {
   "cell_type": "code",
   "execution_count": 332,
   "metadata": {},
   "outputs": [
    {
     "name": "stdout",
     "output_type": "stream",
     "text": [
      "Best: 0.940700 using {'optimizer': 'Adam'}\n",
      "0.928776 (0.002586) with: {'optimizer': 'SGD'}\n",
      "0.939587 (0.004673) with: {'optimizer': 'RMSprop'}\n",
      "0.935612 (0.002184) with: {'optimizer': 'Adagrad'}\n",
      "0.936884 (0.000936) with: {'optimizer': 'Adadelta'}\n",
      "0.940700 (0.001014) with: {'optimizer': 'Adam'}\n",
      "0.939216 (0.002208) with: {'optimizer': 'Adamax'}\n",
      "0.916481 (0.001772) with: {'optimizer': 'Nadam'}\n"
     ]
    }
   ],
   "source": [
    "#From GS2, we get the best optimizer.  Save this for future reference.  Pray it is not SGD.\n",
    "bestOptimizer = grid_result.best_params_.get('optimizer')\n",
    "printResult(grid_result)"
   ]
  },
  {
   "cell_type": "code",
   "execution_count": 333,
   "metadata": {},
   "outputs": [
    {
     "data": {
      "text/plain": [
       "0.70588235294117652"
      ]
     },
     "execution_count": 333,
     "metadata": {},
     "output_type": "execute_result"
    }
   ],
   "source": [
    "Y_predict = grid.predict(np.array(X_test))\n",
    "Y_testing = np.array(matrixToColourClass(Y_test))\n",
    "accuracy_score(Y_testing, Y_predict)"
   ]
  },
  {
   "cell_type": "code",
   "execution_count": null,
   "metadata": {
    "collapsed": true
   },
   "outputs": [],
   "source": []
  },
  {
   "cell_type": "code",
   "execution_count": null,
   "metadata": {
    "collapsed": true
   },
   "outputs": [],
   "source": []
  },
  {
   "cell_type": "code",
   "execution_count": null,
   "metadata": {
    "collapsed": true
   },
   "outputs": [],
   "source": []
  },
  {
   "cell_type": "code",
   "execution_count": 334,
   "metadata": {
    "collapsed": true
   },
   "outputs": [],
   "source": [
    "##### Grid Search 4 - for best init_mode\n",
    "model, init_mode, param_grid = gsInitMode(input_dim=X_train.shape[1], output_size=10, batch_size=bestBatchSize, epochs=bestEpochs, optimizer=bestOptimizer)\n",
    "grid = GridSearchCV(estimator=model, param_grid=param_grid, n_jobs=-1)"
   ]
  },
  {
   "cell_type": "code",
   "execution_count": 335,
   "metadata": {
    "collapsed": true
   },
   "outputs": [],
   "source": [
    "grid_result = grid.fit(np.array(X_train), np.array(Y_train))"
   ]
  },
  {
   "cell_type": "code",
   "execution_count": 337,
   "metadata": {},
   "outputs": [
    {
     "name": "stdout",
     "output_type": "stream",
     "text": [
      "Best: 0.941494 using {'init_mode': 'uniform'}\n",
      "0.941494 (0.001038) with: {'init_mode': 'uniform'}\n",
      "0.925914 (0.007874) with: {'init_mode': 'lecun_uniform'}\n",
      "0.940647 (0.002208) with: {'init_mode': 'normal'}\n",
      "0.900000 (0.000000) with: {'init_mode': 'zero'}\n",
      "0.937626 (0.001892) with: {'init_mode': 'glorot_normal'}\n",
      "0.936248 (0.001817) with: {'init_mode': 'glorot_uniform'}\n",
      "0.928458 (0.003534) with: {'init_mode': 'he_normal'}\n",
      "0.921092 (0.009258) with: {'init_mode': 'he_uniform'}\n"
     ]
    }
   ],
   "source": [
    "bestInitMode = grid_result.best_params_.get('init_mode')\n",
    "printResult(grid_result)"
   ]
  },
  {
   "cell_type": "code",
   "execution_count": 338,
   "metadata": {},
   "outputs": [
    {
     "data": {
      "text/plain": [
       "0.69475357710651831"
      ]
     },
     "execution_count": 338,
     "metadata": {},
     "output_type": "execute_result"
    }
   ],
   "source": [
    "Y_predict = grid.predict(np.array(X_test))\n",
    "Y_testing = np.array(matrixToColourClass(Y_test))\n",
    "accuracy_score(Y_testing, Y_predict)"
   ]
  },
  {
   "cell_type": "code",
   "execution_count": 26,
   "metadata": {
    "collapsed": true
   },
   "outputs": [],
   "source": []
  },
  {
   "cell_type": "code",
   "execution_count": 27,
   "metadata": {
    "collapsed": true
   },
   "outputs": [],
   "source": [
    "##### Grid Search 5 - for best Activation\n",
    "model, activation, param_grid = gsActivation(input_dim=X_train.shape[1], output_size=10, batch_size=bestBatchSize, epochs=bestEpochs, optimizer=bestOptimizer, init_mode=bestInitMode)\n",
    "grid = GridSearchCV(estimator=model, param_grid=param_grid, n_jobs=-1)"
   ]
  },
  {
   "cell_type": "code",
   "execution_count": 28,
   "metadata": {
    "collapsed": true
   },
   "outputs": [],
   "source": [
    "grid_result = grid.fit(np.array(X_train), np.array(Y_train))"
   ]
  },
  {
   "cell_type": "code",
   "execution_count": 29,
   "metadata": {},
   "outputs": [
    {
     "name": "stdout",
     "output_type": "stream",
     "text": [
      "Best: 0.941706 using {'activation': 'softplus'}\n",
      "0.900000 (0.000000) with: {'activation': 'softmax'}\n",
      "0.941706 (0.000983) with: {'activation': 'softplus'}\n",
      "0.902703 (0.003822) with: {'activation': 'softsign'}\n",
      "0.939693 (0.002773) with: {'activation': 'relu'}\n",
      "0.917117 (0.003830) with: {'activation': 'tanh'}\n",
      "0.919767 (0.001549) with: {'activation': 'sigmoid'}\n",
      "0.922840 (0.003445) with: {'activation': 'hard_sigmoid'}\n",
      "0.918230 (0.001856) with: {'activation': 'linear'}\n"
     ]
    }
   ],
   "source": [
    "bestActivation = grid_result.best_params_.get('activation')\n",
    "printResult(grid_result)"
   ]
  },
  {
   "cell_type": "code",
   "execution_count": 30,
   "metadata": {},
   "outputs": [
    {
     "data": {
      "text/plain": [
       "0.75039745627980925"
      ]
     },
     "execution_count": 30,
     "metadata": {},
     "output_type": "execute_result"
    }
   ],
   "source": [
    "Y_predict = grid.predict(np.array(X_test))\n",
    "Y_testing = np.array(matrixToColourClass(Y_test))\n",
    "accuracy_score(Y_testing, Y_predict)"
   ]
  },
  {
   "cell_type": "code",
   "execution_count": null,
   "metadata": {
    "collapsed": true
   },
   "outputs": [],
   "source": []
  },
  {
   "cell_type": "code",
   "execution_count": null,
   "metadata": {
    "collapsed": true
   },
   "outputs": [],
   "source": []
  },
  {
   "cell_type": "code",
   "execution_count": 31,
   "metadata": {
    "collapsed": true
   },
   "outputs": [],
   "source": [
    "##### Grid Search 7 - for best Neurons\n",
    "model, neurons, param_grid = gsNeurons(input_dim=X_train.shape[1], output_size=10, batch_size=bestBatchSize, epochs=bestEpochs, optimizer=bestOptimizer, init_mode=bestInitMode)\n",
    "grid = GridSearchCV(estimator=model, param_grid=param_grid, n_jobs=-1)"
   ]
  },
  {
   "cell_type": "code",
   "execution_count": 32,
   "metadata": {
    "collapsed": true
   },
   "outputs": [],
   "source": [
    "grid_result = grid.fit(np.array(X_train), np.array(Y_train))"
   ]
  },
  {
   "cell_type": "code",
   "execution_count": 33,
   "metadata": {},
   "outputs": [
    {
     "name": "stdout",
     "output_type": "stream",
     "text": [
      "Best: 0.940859 using {'neurons': 30}\n",
      "0.901113 (0.001574) with: {'neurons': 1}\n",
      "0.930896 (0.004536) with: {'neurons': 5}\n",
      "0.936990 (0.004041) with: {'neurons': 10}\n",
      "0.939004 (0.002208) with: {'neurons': 15}\n",
      "0.940700 (0.002698) with: {'neurons': 20}\n",
      "0.940329 (0.002665) with: {'neurons': 25}\n",
      "0.940859 (0.002252) with: {'neurons': 30}\n"
     ]
    }
   ],
   "source": [
    "bestNeurons = grid_result.best_params_.get('neurons')\n",
    "printResult(grid_result)"
   ]
  },
  {
   "cell_type": "code",
   "execution_count": 34,
   "metadata": {},
   "outputs": [
    {
     "data": {
      "text/plain": [
       "0.73926868044515104"
      ]
     },
     "execution_count": 34,
     "metadata": {},
     "output_type": "execute_result"
    }
   ],
   "source": [
    "Y_predict = grid.predict(np.array(X_test))\n",
    "Y_testing = np.array(matrixToColourClass(Y_test))\n",
    "accuracy_score(Y_testing, Y_predict)"
   ]
  },
  {
   "cell_type": "code",
   "execution_count": null,
   "metadata": {
    "collapsed": true
   },
   "outputs": [],
   "source": []
  },
  {
   "cell_type": "code",
   "execution_count": 35,
   "metadata": {
    "collapsed": true
   },
   "outputs": [],
   "source": [
    "##### Grid Search 8 - for best Layers.\n",
    "model, neurons, param_grid = gsLayers(input_dim=X_train.shape[1], output_size=10, batch_size=bestBatchSize, activation=bestActivation, epochs=bestEpochs, optimizer=bestOptimizer, init_mode=bestInitMode, neurons=bestNeurons)\n",
    "grid = GridSearchCV(estimator=model, param_grid=param_grid, n_jobs=-1)\n"
   ]
  },
  {
   "cell_type": "code",
   "execution_count": 36,
   "metadata": {
    "collapsed": true
   },
   "outputs": [],
   "source": [
    "grid_result = grid.fit(np.array(X_train), np.array(Y_train))"
   ]
  },
  {
   "cell_type": "code",
   "execution_count": 37,
   "metadata": {},
   "outputs": [
    {
     "name": "stdout",
     "output_type": "stream",
     "text": [
      "Best: 0.941600 using {'n_layers': 2}\n",
      "0.941600 (0.002402) with: {'n_layers': 2}\n",
      "0.941388 (0.002803) with: {'n_layers': 3}\n",
      "0.940541 (0.003500) with: {'n_layers': 4}\n",
      "0.933757 (0.000761) with: {'n_layers': 5}\n",
      "0.932379 (0.004247) with: {'n_layers': 6}\n",
      "0.919979 (0.007239) with: {'n_layers': 7}\n",
      "0.916110 (0.002668) with: {'n_layers': 8}\n",
      "0.913831 (0.002606) with: {'n_layers': 9}\n",
      "0.908956 (0.001281) with: {'n_layers': 10}\n"
     ]
    }
   ],
   "source": [
    "bestLayers = grid_result.best_params_.get('n_layers')\n",
    "printResult(grid_result)"
   ]
  },
  {
   "cell_type": "code",
   "execution_count": 38,
   "metadata": {},
   "outputs": [
    {
     "data": {
      "text/plain": [
       "0.74721780604133547"
      ]
     },
     "execution_count": 38,
     "metadata": {},
     "output_type": "execute_result"
    }
   ],
   "source": [
    "Y_predict = grid.predict(np.array(X_test))\n",
    "Y_testing = np.array(matrixToColourClass(Y_test))\n",
    "accuracy_score(Y_testing, Y_predict)"
   ]
  },
  {
   "cell_type": "code",
   "execution_count": null,
   "metadata": {
    "collapsed": true
   },
   "outputs": [],
   "source": []
  },
  {
   "cell_type": "code",
   "execution_count": 41,
   "metadata": {
    "collapsed": true
   },
   "outputs": [],
   "source": [
    "gsKerasHP = pd.DataFrame()"
   ]
  },
  {
   "cell_type": "code",
   "execution_count": 42,
   "metadata": {},
   "outputs": [
    {
     "data": {
      "text/html": [
       "<div>\n",
       "<style>\n",
       "    .dataframe thead tr:only-child th {\n",
       "        text-align: right;\n",
       "    }\n",
       "\n",
       "    .dataframe thead th {\n",
       "        text-align: left;\n",
       "    }\n",
       "\n",
       "    .dataframe tbody tr th {\n",
       "        vertical-align: top;\n",
       "    }\n",
       "</style>\n",
       "<table border=\"1\" class=\"dataframe\">\n",
       "  <thead>\n",
       "    <tr style=\"text-align: right;\">\n",
       "      <th></th>\n",
       "      <th>activation</th>\n",
       "      <th>batch_size</th>\n",
       "      <th>dataset</th>\n",
       "      <th>epochs</th>\n",
       "      <th>init_mode</th>\n",
       "      <th>n_layers</th>\n",
       "      <th>neurons</th>\n",
       "      <th>optimizer</th>\n",
       "    </tr>\n",
       "  </thead>\n",
       "  <tbody>\n",
       "    <tr>\n",
       "      <th>0</th>\n",
       "      <td>softplus</td>\n",
       "      <td>20.0</td>\n",
       "      <td>color</td>\n",
       "      <td>100.0</td>\n",
       "      <td>uniform</td>\n",
       "      <td>2.0</td>\n",
       "      <td>30.0</td>\n",
       "      <td>Adam</td>\n",
       "    </tr>\n",
       "  </tbody>\n",
       "</table>\n",
       "</div>"
      ],
      "text/plain": [
       "  activation  batch_size dataset  epochs init_mode  n_layers  neurons  \\\n",
       "0   softplus        20.0   color   100.0   uniform       2.0     30.0   \n",
       "\n",
       "  optimizer  \n",
       "0      Adam  "
      ]
     },
     "execution_count": 42,
     "metadata": {},
     "output_type": "execute_result"
    }
   ],
   "source": [
    "gsKerasHP = gsKerasHP.append({'dataset':'color', 'batch_size':bestBatchSize, 'activation':bestActivation, 'epochs':bestEpochs, 'optimizer':bestOptimizer, 'init_mode':bestInitMode, 'neurons':bestNeurons, 'n_layers':bestLayers}, ignore_index=True)\n",
    "gsKerasHP"
   ]
  },
  {
   "cell_type": "code",
   "execution_count": null,
   "metadata": {
    "collapsed": true
   },
   "outputs": [],
   "source": []
  },
  {
   "cell_type": "code",
   "execution_count": null,
   "metadata": {
    "collapsed": true
   },
   "outputs": [],
   "source": []
  },
  {
   "cell_type": "code",
   "execution_count": 69,
   "metadata": {
    "collapsed": true
   },
   "outputs": [],
   "source": [
    "#####start of Weather Data Analysis\n",
    "X_train, X_test, Y_train, Y_test = weatherSetup()"
   ]
  },
  {
   "cell_type": "code",
   "execution_count": null,
   "metadata": {
    "collapsed": true
   },
   "outputs": [],
   "source": []
  },
  {
   "cell_type": "code",
   "execution_count": 70,
   "metadata": {
    "collapsed": true
   },
   "outputs": [],
   "source": [
    "##### Grid Search 1 - Batch Size and Epochs.\n",
    "model, batch_size, epochs, param_grid = gsBatchEpoch(input_dim=X_train.shape[1], output_size=26)\n",
    "grid = GridSearchCV(estimator=model, param_grid=param_grid, n_jobs=-1)"
   ]
  },
  {
   "cell_type": "code",
   "execution_count": 71,
   "metadata": {
    "collapsed": true
   },
   "outputs": [],
   "source": [
    "grid_result = grid.fit(np.array(X_train), np.array(Y_train))"
   ]
  },
  {
   "cell_type": "code",
   "execution_count": 72,
   "metadata": {},
   "outputs": [
    {
     "name": "stdout",
     "output_type": "stream",
     "text": [
      "Best: 0.979818 using {'batch_size': 10, 'epochs': 100}\n",
      "0.962601 (0.000925) with: {'batch_size': 10, 'epochs': 10}\n",
      "0.975170 (0.001415) with: {'batch_size': 10, 'epochs': 50}\n",
      "0.979818 (0.002838) with: {'batch_size': 10, 'epochs': 100}\n",
      "0.962158 (0.000490) with: {'batch_size': 20, 'epochs': 10}\n",
      "0.971762 (0.002227) with: {'batch_size': 20, 'epochs': 50}\n",
      "0.975923 (0.001474) with: {'batch_size': 20, 'epochs': 100}\n",
      "0.961538 (0.000000) with: {'batch_size': 40, 'epochs': 10}\n",
      "0.968000 (0.002828) with: {'batch_size': 40, 'epochs': 50}\n",
      "0.975392 (0.002000) with: {'batch_size': 40, 'epochs': 100}\n",
      "0.961538 (0.000000) with: {'batch_size': 60, 'epochs': 10}\n",
      "0.963530 (0.001508) with: {'batch_size': 60, 'epochs': 50}\n",
      "0.974020 (0.002077) with: {'batch_size': 60, 'epochs': 100}\n",
      "0.961538 (0.000000) with: {'batch_size': 80, 'epochs': 10}\n",
      "0.965079 (0.001901) with: {'batch_size': 80, 'epochs': 50}\n",
      "0.969018 (0.002714) with: {'batch_size': 80, 'epochs': 100}\n",
      "0.961538 (0.000000) with: {'batch_size': 100, 'epochs': 10}\n",
      "0.962822 (0.001430) with: {'batch_size': 100, 'epochs': 50}\n",
      "0.969682 (0.000660) with: {'batch_size': 100, 'epochs': 100}\n"
     ]
    }
   ],
   "source": [
    "bestBatchSize = grid_result.best_params_.get('batch_size')\n",
    "bestEpochs = grid_result.best_params_.get('epochs')\n",
    "printResult(grid_result)"
   ]
  },
  {
   "cell_type": "code",
   "execution_count": 73,
   "metadata": {},
   "outputs": [
    {
     "data": {
      "text/plain": [
       "0.82068965517241377"
      ]
     },
     "execution_count": 73,
     "metadata": {},
     "output_type": "execute_result"
    }
   ],
   "source": [
    "Y_predict = grid.predict(np.array(X_test))\n",
    "Y_testing = np.array(matrixToCityClass(Y_test))\n",
    "accuracy_score(Y_testing, Y_predict)"
   ]
  },
  {
   "cell_type": "code",
   "execution_count": null,
   "metadata": {
    "collapsed": true
   },
   "outputs": [],
   "source": []
  },
  {
   "cell_type": "code",
   "execution_count": null,
   "metadata": {
    "collapsed": true
   },
   "outputs": [],
   "source": []
  },
  {
   "cell_type": "code",
   "execution_count": 74,
   "metadata": {
    "collapsed": true
   },
   "outputs": [],
   "source": [
    "##### Grid Search 2 - for best Optimizer.\n",
    "model, optimizer, param_grid = gsOptimizer(input_dim=X_train.shape[1], output_size=26, batch_size=bestBatchSize, epochs=bestEpochs)\n",
    "grid = GridSearchCV(estimator=model, param_grid=param_grid, n_jobs=-1)"
   ]
  },
  {
   "cell_type": "code",
   "execution_count": 75,
   "metadata": {
    "collapsed": true
   },
   "outputs": [],
   "source": [
    "grid_result = grid.fit(np.array(X_train), np.array(Y_train))"
   ]
  },
  {
   "cell_type": "code",
   "execution_count": 76,
   "metadata": {},
   "outputs": [
    {
     "name": "stdout",
     "output_type": "stream",
     "text": [
      "Best: 0.978357 using {'optimizer': 'Adamax'}\n",
      "0.914181 (0.033533) with: {'optimizer': 'SGD'}\n",
      "0.962158 (0.000878) with: {'optimizer': 'RMSprop'}\n",
      "0.960388 (0.000980) with: {'optimizer': 'Adagrad'}\n",
      "0.974639 (0.000717) with: {'optimizer': 'Adadelta'}\n",
      "0.976454 (0.002951) with: {'optimizer': 'Adam'}\n",
      "0.978357 (0.003089) with: {'optimizer': 'Adamax'}\n",
      "0.961538 (0.000000) with: {'optimizer': 'Nadam'}\n"
     ]
    }
   ],
   "source": [
    "#From GS2, we get the best optimizer.  Save this for future reference.  Pray it is not SGD.\n",
    "bestOptimizer = grid_result.best_params_.get('optimizer')\n",
    "printResult(grid_result)"
   ]
  },
  {
   "cell_type": "code",
   "execution_count": 77,
   "metadata": {},
   "outputs": [
    {
     "data": {
      "text/plain": [
       "0.81034482758620685"
      ]
     },
     "execution_count": 77,
     "metadata": {},
     "output_type": "execute_result"
    }
   ],
   "source": [
    "Y_predict = grid.predict(np.array(X_test))\n",
    "Y_testing = np.array(matrixToCityClass(Y_test))\n",
    "accuracy_score(Y_testing, Y_predict)"
   ]
  },
  {
   "cell_type": "code",
   "execution_count": null,
   "metadata": {
    "collapsed": true
   },
   "outputs": [],
   "source": []
  },
  {
   "cell_type": "code",
   "execution_count": 78,
   "metadata": {
    "collapsed": true
   },
   "outputs": [],
   "source": [
    "##### Grid Search 4 - for best init_mode\n",
    "model, init_mode, param_grid = gsInitMode(input_dim=X_train.shape[1], output_size=26, batch_size=bestBatchSize, epochs=bestEpochs, optimizer=bestOptimizer)\n",
    "grid = GridSearchCV(estimator=model, param_grid=param_grid, n_jobs=-1)"
   ]
  },
  {
   "cell_type": "code",
   "execution_count": 79,
   "metadata": {
    "collapsed": true
   },
   "outputs": [],
   "source": [
    "grid_result = grid.fit(np.array(X_train), np.array(Y_train))"
   ]
  },
  {
   "cell_type": "code",
   "execution_count": 80,
   "metadata": {},
   "outputs": [
    {
     "name": "stdout",
     "output_type": "stream",
     "text": [
      "Best: 0.978003 using {'init_mode': 'uniform'}\n",
      "0.978003 (0.002980) with: {'init_mode': 'uniform'}\n",
      "0.753607 (0.035181) with: {'init_mode': 'lecun_uniform'}\n",
      "0.977516 (0.000945) with: {'init_mode': 'normal'}\n",
      "0.961538 (0.000000) with: {'init_mode': 'zero'}\n",
      "0.853899 (0.128947) with: {'init_mode': 'glorot_normal'}\n",
      "0.796672 (0.059215) with: {'init_mode': 'glorot_uniform'}\n",
      "0.722758 (0.032304) with: {'init_mode': 'he_normal'}\n",
      "0.737806 (0.103144) with: {'init_mode': 'he_uniform'}\n"
     ]
    }
   ],
   "source": [
    "bestInitMode = grid_result.best_params_.get('init_mode')\n",
    "printResult(grid_result)"
   ]
  },
  {
   "cell_type": "code",
   "execution_count": 81,
   "metadata": {},
   "outputs": [
    {
     "data": {
      "text/plain": [
       "0.78620689655172415"
      ]
     },
     "execution_count": 81,
     "metadata": {},
     "output_type": "execute_result"
    }
   ],
   "source": [
    "Y_predict = grid.predict(np.array(X_test))\n",
    "Y_testing = np.array(matrixToCityClass(Y_test))\n",
    "accuracy_score(Y_testing, Y_predict)"
   ]
  },
  {
   "cell_type": "code",
   "execution_count": null,
   "metadata": {
    "collapsed": true
   },
   "outputs": [],
   "source": []
  },
  {
   "cell_type": "code",
   "execution_count": 82,
   "metadata": {
    "collapsed": true
   },
   "outputs": [],
   "source": [
    "##### Grid Search 5 - for best Activation\n",
    "model, activation, param_grid = gsActivation(input_dim=X_train.shape[1], output_size=26, batch_size=bestBatchSize, epochs=bestEpochs, optimizer=bestOptimizer, init_mode=bestInitMode)\n",
    "grid = GridSearchCV(estimator=model, param_grid=param_grid, n_jobs=-1)"
   ]
  },
  {
   "cell_type": "code",
   "execution_count": 83,
   "metadata": {
    "collapsed": true
   },
   "outputs": [],
   "source": [
    "grid_result = grid.fit(np.array(X_train), np.array(Y_train))"
   ]
  },
  {
   "cell_type": "code",
   "execution_count": 84,
   "metadata": {},
   "outputs": [
    {
     "name": "stdout",
     "output_type": "stream",
     "text": [
      "Best: 0.979641 using {'activation': 'softplus'}\n",
      "0.961538 (0.000000) with: {'activation': 'softmax'}\n",
      "0.979641 (0.001690) with: {'activation': 'softplus'}\n",
      "0.961538 (0.000000) with: {'activation': 'softsign'}\n",
      "0.978888 (0.001769) with: {'activation': 'relu'}\n",
      "0.961538 (0.000000) with: {'activation': 'tanh'}\n",
      "0.961538 (0.000000) with: {'activation': 'sigmoid'}\n",
      "0.961538 (0.000000) with: {'activation': 'hard_sigmoid'}\n",
      "0.969107 (0.000382) with: {'activation': 'linear'}\n"
     ]
    }
   ],
   "source": [
    "bestActivation = grid_result.best_params_.get('activation')\n",
    "printResult(grid_result)"
   ]
  },
  {
   "cell_type": "code",
   "execution_count": 85,
   "metadata": {},
   "outputs": [
    {
     "data": {
      "text/plain": [
       "0.73448275862068968"
      ]
     },
     "execution_count": 85,
     "metadata": {},
     "output_type": "execute_result"
    }
   ],
   "source": [
    "Y_predict = grid.predict(np.array(X_test))\n",
    "Y_testing = np.array(matrixToCityClass(Y_test))\n",
    "accuracy_score(Y_testing, Y_predict)"
   ]
  },
  {
   "cell_type": "code",
   "execution_count": null,
   "metadata": {
    "collapsed": true
   },
   "outputs": [],
   "source": []
  },
  {
   "cell_type": "code",
   "execution_count": 86,
   "metadata": {
    "collapsed": true
   },
   "outputs": [],
   "source": [
    "##### Grid Search 7 - for best Neurons\n",
    "model, neurons, param_grid = gsNeurons(input_dim=X_train.shape[1], output_size=26, batch_size=bestBatchSize, epochs=bestEpochs, optimizer=bestOptimizer, init_mode=bestInitMode)\n",
    "grid = GridSearchCV(estimator=model, param_grid=param_grid, n_jobs=-1)"
   ]
  },
  {
   "cell_type": "code",
   "execution_count": 87,
   "metadata": {
    "collapsed": true
   },
   "outputs": [],
   "source": [
    "grid_result = grid.fit(np.array(X_train), np.array(Y_train))"
   ]
  },
  {
   "cell_type": "code",
   "execution_count": 88,
   "metadata": {},
   "outputs": [
    {
     "name": "stdout",
     "output_type": "stream",
     "text": [
      "Best: 0.980836 using {'neurons': 20}\n",
      "0.961538 (0.000000) with: {'neurons': 1}\n",
      "0.962025 (0.000512) with: {'neurons': 5}\n",
      "0.973975 (0.003095) with: {'neurons': 10}\n",
      "0.976056 (0.002757) with: {'neurons': 15}\n",
      "0.980836 (0.001492) with: {'neurons': 20}\n",
      "0.980703 (0.002114) with: {'neurons': 25}\n",
      "0.980791 (0.002167) with: {'neurons': 30}\n"
     ]
    }
   ],
   "source": [
    "bestNeurons = grid_result.best_params_.get('neurons')\n",
    "printResult(grid_result)"
   ]
  },
  {
   "cell_type": "code",
   "execution_count": 89,
   "metadata": {},
   "outputs": [
    {
     "data": {
      "text/plain": [
       "0.82758620689655171"
      ]
     },
     "execution_count": 89,
     "metadata": {},
     "output_type": "execute_result"
    }
   ],
   "source": [
    "Y_predict = grid.predict(np.array(X_test))\n",
    "Y_testing = np.array(matrixToCityClass(Y_test))\n",
    "accuracy_score(Y_testing, Y_predict)"
   ]
  },
  {
   "cell_type": "code",
   "execution_count": null,
   "metadata": {
    "collapsed": true
   },
   "outputs": [],
   "source": []
  },
  {
   "cell_type": "code",
   "execution_count": 90,
   "metadata": {
    "collapsed": true
   },
   "outputs": [],
   "source": [
    "##### Grid Search 8 - for best Layers.\n",
    "model, neurons, param_grid = gsLayers(input_dim=X_train.shape[1], output_size=26, batch_size=bestBatchSize, activation=bestActivation, epochs=bestEpochs, optimizer=bestOptimizer, init_mode=bestInitMode, neurons=bestNeurons)\n",
    "grid = GridSearchCV(estimator=model, param_grid=param_grid, n_jobs=-1)"
   ]
  },
  {
   "cell_type": "code",
   "execution_count": 91,
   "metadata": {
    "collapsed": true
   },
   "outputs": [],
   "source": [
    "grid_result = grid.fit(np.array(X_train), np.array(Y_train))"
   ]
  },
  {
   "cell_type": "code",
   "execution_count": 92,
   "metadata": {},
   "outputs": [
    {
     "name": "stdout",
     "output_type": "stream",
     "text": [
      "Best: 0.980172 using {'n_layers': 2}\n",
      "0.980172 (0.000921) with: {'n_layers': 2}\n",
      "0.974197 (0.001541) with: {'n_layers': 3}\n",
      "0.968531 (0.002713) with: {'n_layers': 4}\n",
      "0.964238 (0.000885) with: {'n_layers': 5}\n",
      "0.961804 (0.000574) with: {'n_layers': 6}\n",
      "0.961538 (0.000000) with: {'n_layers': 7}\n",
      "0.961538 (0.000000) with: {'n_layers': 8}\n",
      "0.961538 (0.000000) with: {'n_layers': 9}\n",
      "0.961538 (0.000000) with: {'n_layers': 10}\n"
     ]
    }
   ],
   "source": [
    "bestLayers = grid_result.best_params_.get('n_layers')\n",
    "printResult(grid_result)"
   ]
  },
  {
   "cell_type": "code",
   "execution_count": 93,
   "metadata": {},
   "outputs": [
    {
     "data": {
      "text/plain": [
       "0.8172413793103448"
      ]
     },
     "execution_count": 93,
     "metadata": {},
     "output_type": "execute_result"
    }
   ],
   "source": [
    "Y_predict = grid.predict(np.array(X_test))\n",
    "Y_testing = np.array(matrixToCityClass(Y_test))\n",
    "accuracy_score(Y_testing, Y_predict)"
   ]
  },
  {
   "cell_type": "code",
   "execution_count": null,
   "metadata": {
    "collapsed": true
   },
   "outputs": [],
   "source": []
  },
  {
   "cell_type": "code",
   "execution_count": 94,
   "metadata": {},
   "outputs": [
    {
     "data": {
      "text/html": [
       "<div>\n",
       "<style>\n",
       "    .dataframe thead tr:only-child th {\n",
       "        text-align: right;\n",
       "    }\n",
       "\n",
       "    .dataframe thead th {\n",
       "        text-align: left;\n",
       "    }\n",
       "\n",
       "    .dataframe tbody tr th {\n",
       "        vertical-align: top;\n",
       "    }\n",
       "</style>\n",
       "<table border=\"1\" class=\"dataframe\">\n",
       "  <thead>\n",
       "    <tr style=\"text-align: right;\">\n",
       "      <th></th>\n",
       "      <th>activation</th>\n",
       "      <th>batch_size</th>\n",
       "      <th>dataset</th>\n",
       "      <th>epochs</th>\n",
       "      <th>init_mode</th>\n",
       "      <th>n_layers</th>\n",
       "      <th>neurons</th>\n",
       "      <th>optimizer</th>\n",
       "    </tr>\n",
       "  </thead>\n",
       "  <tbody>\n",
       "    <tr>\n",
       "      <th>0</th>\n",
       "      <td>softplus</td>\n",
       "      <td>20.0</td>\n",
       "      <td>color</td>\n",
       "      <td>100.0</td>\n",
       "      <td>uniform</td>\n",
       "      <td>2.0</td>\n",
       "      <td>30.0</td>\n",
       "      <td>Adam</td>\n",
       "    </tr>\n",
       "    <tr>\n",
       "      <th>1</th>\n",
       "      <td>softplus</td>\n",
       "      <td>10.0</td>\n",
       "      <td>weather</td>\n",
       "      <td>100.0</td>\n",
       "      <td>uniform</td>\n",
       "      <td>2.0</td>\n",
       "      <td>20.0</td>\n",
       "      <td>Adamax</td>\n",
       "    </tr>\n",
       "  </tbody>\n",
       "</table>\n",
       "</div>"
      ],
      "text/plain": [
       "  activation  batch_size  dataset  epochs init_mode  n_layers  neurons  \\\n",
       "0   softplus        20.0    color   100.0   uniform       2.0     30.0   \n",
       "1   softplus        10.0  weather   100.0   uniform       2.0     20.0   \n",
       "\n",
       "  optimizer  \n",
       "0      Adam  \n",
       "1    Adamax  "
      ]
     },
     "execution_count": 94,
     "metadata": {},
     "output_type": "execute_result"
    }
   ],
   "source": [
    "gsKerasHP = gsKerasHP.append({'dataset':'weather', 'batch_size':bestBatchSize, 'activation':bestActivation, 'epochs':bestEpochs, 'optimizer':bestOptimizer, 'init_mode':bestInitMode, 'neurons':bestNeurons, 'n_layers':bestLayers}, ignore_index=True)\n",
    "gsKerasHP"
   ]
  },
  {
   "cell_type": "code",
   "execution_count": null,
   "metadata": {
    "collapsed": true
   },
   "outputs": [],
   "source": []
  },
  {
   "cell_type": "code",
   "execution_count": null,
   "metadata": {
    "collapsed": true
   },
   "outputs": [],
   "source": []
  }
 ],
 "metadata": {
  "kernelspec": {
   "display_name": "Python 3",
   "language": "python",
   "name": "python3"
  },
  "language_info": {
   "codemirror_mode": {
    "name": "ipython",
    "version": 3
   },
   "file_extension": ".py",
   "mimetype": "text/x-python",
   "name": "python",
   "nbconvert_exporter": "python",
   "pygments_lexer": "ipython3",
   "version": "3.6.1"
  }
 },
 "nbformat": 4,
 "nbformat_minor": 2
}
