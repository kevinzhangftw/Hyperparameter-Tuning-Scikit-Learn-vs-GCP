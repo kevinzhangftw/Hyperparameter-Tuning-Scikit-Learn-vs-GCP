{
 "cells": [
  {
   "cell_type": "code",
   "execution_count": 1,
   "metadata": {},
   "outputs": [
    {
     "name": "stderr",
     "output_type": "stream",
     "text": [
      "/Users/kai/anaconda/lib/python3.6/site-packages/matplotlib/font_manager.py:280: UserWarning: Matplotlib is building the font cache using fc-list. This may take a moment.\n",
      "  'Matplotlib is building the font cache using fc-list. '\n"
     ]
    },
    {
     "ename": "ModuleNotFoundError",
     "evalue": "No module named 'skopt'",
     "output_type": "error",
     "traceback": [
      "\u001b[0;31m---------------------------------------------------------------------------\u001b[0m",
      "\u001b[0;31mModuleNotFoundError\u001b[0m                       Traceback (most recent call last)",
      "\u001b[0;32m<ipython-input-1-f0709037428c>\u001b[0m in \u001b[0;36m<module>\u001b[0;34m()\u001b[0m\n\u001b[1;32m      3\u001b[0m \u001b[0;32mimport\u001b[0m \u001b[0mmatplotlib\u001b[0m\u001b[0;34m.\u001b[0m\u001b[0mpyplot\u001b[0m \u001b[0;32mas\u001b[0m \u001b[0mplt\u001b[0m\u001b[0;34m\u001b[0m\u001b[0m\n\u001b[1;32m      4\u001b[0m \u001b[0;31m#https://github.com/scikit-optimize/scikit-optimize/tree/master/examples\u001b[0m\u001b[0;34m\u001b[0m\u001b[0;34m\u001b[0m\u001b[0m\n\u001b[0;32m----> 5\u001b[0;31m \u001b[0;32mfrom\u001b[0m \u001b[0mskopt\u001b[0m \u001b[0;32mimport\u001b[0m \u001b[0mgp_minimize\u001b[0m\u001b[0;34m\u001b[0m\u001b[0m\n\u001b[0m\u001b[1;32m      6\u001b[0m \u001b[0;32mfrom\u001b[0m \u001b[0mskopt\u001b[0m\u001b[0;34m.\u001b[0m\u001b[0mplots\u001b[0m \u001b[0;32mimport\u001b[0m \u001b[0mplot_convergence\u001b[0m\u001b[0;34m\u001b[0m\u001b[0m\n\u001b[1;32m      7\u001b[0m \u001b[0;32mfrom\u001b[0m \u001b[0mskopt\u001b[0m\u001b[0;34m.\u001b[0m\u001b[0mspace\u001b[0m \u001b[0;32mimport\u001b[0m \u001b[0mReal\u001b[0m\u001b[0;34m,\u001b[0m \u001b[0mInteger\u001b[0m\u001b[0;34m,\u001b[0m \u001b[0mCategorical\u001b[0m\u001b[0;34m\u001b[0m\u001b[0m\n",
      "\u001b[0;31mModuleNotFoundError\u001b[0m: No module named 'skopt'"
     ]
    }
   ],
   "source": [
    "import numpy as np\n",
    "np.random.seed(123)\n",
    "import matplotlib.pyplot as plt\n",
    "#https://github.com/scikit-optimize/scikit-optimize/tree/master/examples\n",
    "from skopt import gp_minimize\n",
    "from skopt.plots import plot_convergence\n",
    "from skopt.space import Real, Integer, Categorical\n",
    "\n",
    "from sklearn.preprocessing import FunctionTransformer\n",
    "from sklearn.pipeline import make_pipeline\n",
    "from sklearn.metrics import accuracy_score"
   ]
  },
  {
   "cell_type": "code",
   "execution_count": null,
   "metadata": {
    "collapsed": true
   },
   "outputs": [],
   "source": []
  },
  {
   "cell_type": "code",
   "execution_count": null,
   "metadata": {
    "collapsed": true
   },
   "outputs": [],
   "source": []
  },
  {
   "cell_type": "code",
   "execution_count": null,
   "metadata": {
    "collapsed": true
   },
   "outputs": [],
   "source": [
    "# Colour data\n",
    "import colour_data as colour\n",
    "X_train, X_test, y_train, y_test = colour.X_train, colour.X_test, colour.y_train, colour.y_test\n",
    "colour_transformer = FunctionTransformer(colour.pix2lab)"
   ]
  },
  {
   "cell_type": "code",
   "execution_count": null,
   "metadata": {
    "collapsed": true
   },
   "outputs": [],
   "source": [
    "# Colour SVM\n",
    "from sklearn.svm import SVC\n",
    "\n",
    "def colour_svm_objective(params):\n",
    "    svm_model = make_pipeline( colour_transformer, SVC(\n",
    "        C= params[0], \n",
    "        kernel= params[1], \n",
    "#         degree= params[2], \n",
    "#         gamma= params[3], \n",
    "#         coef0= params[4], \n",
    "#         shrinking= params[5], \n",
    "#         probability= params[6], \n",
    "        decision_function_shape= 'ovr',\n",
    "    ))\n",
    "    svm_model.fit(X_train, y_train)\n",
    "    y_predicted = svm_model.predict(X_test)\n",
    "    return 1 - accuracy_score(y_test, y_predicted)\n",
    "\n",
    "colour_svm_space = [\n",
    "    Real(1,100), # C\n",
    "    Categorical(['poly', 'rbf']), # kernel\n",
    "#     Integer(1,6), # degree for 'poly'\n",
    "#     Real(0,1), # gamma\n",
    "#     (1,1000), # coef0\n",
    "#     (True,False), # shrinking\n",
    "#     (True,False), # probability\n",
    "]\n",
    "\n",
    "calls = 11\n",
    "colour_result = gp_minimize(colour_svm_objective, colour_svm_space, n_calls=calls, random_state=0)\n",
    "\n",
    "print(\"Best score with\", calls, \"calls:\", 1 - colour_result.fun)\n",
    "\n",
    "print(\"Best parameters:\")\n",
    "print(\"- c=%d\"%(colour_result.x[0]))\n",
    "print(\"- kernel=%r\"%(colour_result.x[1]))\n",
    "# print(\"- degree=%d\"%(colour_result.x[2]))\n",
    "# print(\"- gamma=%.4f\"%(colour_result.x[3]))\n",
    "# print(\"- coef0=%d\"%(colour_result.x[4]))\n",
    "# print(\"- shrinking=%r\"%(colour_result.x[5]))\n",
    "# print(\"- probability=%r\"%(colour_result.x[6]))\n",
    "\n",
    "# colour.plot_predictions(MLP_lab_model)"
   ]
  },
  {
   "cell_type": "code",
   "execution_count": null,
   "metadata": {},
   "outputs": [],
   "source": [
    "# Colour KNN\n",
    "from sklearn.neighbors import KNeighborsClassifier\n",
    "\n",
    "def colour_knn_objective(params):\n",
    "    knn_lab_model = make_pipeline(colour_transformer, KNeighborsClassifier(\n",
    "        n_neighbors=params[0], \n",
    "        leaf_size=params[1], \n",
    "        p=params[2], \n",
    "        algorithm='auto', \n",
    "        n_jobs=-1, # use all cores\n",
    "    ))\n",
    "    knn_lab_model.fit(X_train, y_train)\n",
    "    y_predicted = knn_lab_model.predict(X_test)\n",
    "    return 1 - accuracy_score(y_test, y_predicted)\n",
    "\n",
    "colour_knn_space = [\n",
    "    Integer(1, 55),    # n_neighbors=params[0], \n",
    "    Integer(2, 100),    # leaf_size=params[1], \n",
    "    Integer(1, 6)    # p=params[2], \n",
    "]\n",
    "\n",
    "\n",
    "calls = 35\n",
    "colour_knn_result = gp_minimize(colour_knn_objective, colour_knn_space, n_calls=calls)\n",
    "\n",
    "print(\"Best score with\", calls, \"calls:\", colour_knn_result.fun)\n",
    "\n",
    "print(\"Best parameters:\")\n",
    "print(\"- neighbors=%d\"%(colour_knn_result.x[0]))\n",
    "print(\"- leaf-size=%d\"%(colour_knn_result.x[1]))\n",
    "print(\"- p=%d\"%(colour_knn_result.x[2]))"
   ]
  },
  {
   "cell_type": "code",
   "execution_count": null,
   "metadata": {
    "collapsed": true
   },
   "outputs": [],
   "source": []
  },
  {
   "cell_type": "code",
   "execution_count": null,
   "metadata": {
    "collapsed": true
   },
   "outputs": [],
   "source": [
    "# Colour Perceptron\n",
    "from sklearn.neural_network import MLPClassifier\n",
    "\n",
    "def colour_mlp_objective(params):\n",
    "    MLP_lab_model = make_pipeline(colour_transformer, MLPClassifier(\n",
    "        hidden_layer_sizes=(params[0], params[1]), \n",
    "        activation='relu', \n",
    "        solver='adam', \n",
    "        alpha=0.0001, \n",
    "        batch_size='auto', \n",
    "        learning_rate='constant', \n",
    "        learning_rate_init=0.001, \n",
    "        power_t=0.5, \n",
    "        max_iter=params[2], \n",
    "        shuffle=True, \n",
    "        random_state=None, \n",
    "        tol=0.0001, \n",
    "        verbose=False, \n",
    "        warm_start=True, \n",
    "        momentum=0.9, \n",
    "        nesterovs_momentum=True, \n",
    "        early_stopping=False, \n",
    "        validation_fraction=0.1, \n",
    "        beta_1=0.9, \n",
    "        beta_2=0.999, \n",
    "        epsilon=1e-08))\n",
    "    MLP_lab_model.fit(X_train, y_train)\n",
    "    y_predicted = MLP_lab_model.predict(X_test)\n",
    "    return 1 - accuracy_score(y_test, y_predicted)\n",
    "\n",
    "colour_mlp_space = [\n",
    "    Integer(2, 25),    # hideen_layer_size[0], \n",
    "    Integer(2, 25),    # hideen_layer_size[1], \n",
    "    Integer(300, 2000) # max_iter\n",
    "]\n",
    "\n",
    "calls = 22\n",
    "colour_mlp_result = gp_minimize(colour_mlp_objective, colour_mlp_space, n_calls=calls)\n",
    "\n",
    "print(\"Best score with\", calls, \"calls:\", 1 - colour_mlp_result.fun)\n",
    "\n",
    "print(\"Best parameters:\")\n",
    "print(\"- hidden_layer_size=(%d, %d)\"%(colour_mlp_result.x[0], colour_mlp_result.x[1]))"
   ]
  },
  {
   "cell_type": "code",
   "execution_count": null,
   "metadata": {
    "collapsed": true
   },
   "outputs": [],
   "source": []
  }
 ],
 "metadata": {
  "kernelspec": {
   "display_name": "Python 3",
   "language": "python",
   "name": "python3"
  },
  "language_info": {
   "codemirror_mode": {
    "name": "ipython",
    "version": 3
   },
   "file_extension": ".py",
   "mimetype": "text/x-python",
   "name": "python",
   "nbconvert_exporter": "python",
   "pygments_lexer": "ipython3",
   "version": "3.6.0"
  }
 },
 "nbformat": 4,
 "nbformat_minor": 2
}
