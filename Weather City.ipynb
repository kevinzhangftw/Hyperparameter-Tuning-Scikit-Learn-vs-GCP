{
 "cells": [
  {
   "cell_type": "code",
   "execution_count": 1,
   "metadata": {},
   "outputs": [],
   "source": [
    "import numpy as np\n",
    "import pandas as pd\n",
    "from sklearn.preprocessing import MinMaxScaler, StandardScaler\n",
    "from sklearn.pipeline import make_pipeline\n",
    "from sklearn.preprocessing import FunctionTransformer\n",
    "from sklearn.model_selection import train_test_split\n",
    "from sklearn.naive_bayes import GaussianNB\n",
    "from sklearn.neighbors import KNeighborsClassifier\n",
    "from sklearn.svm import SVC\n",
    "\n",
    "\n",
    "labelled = pd.read_csv(\"monthly-data-labelled.csv\")\n",
    "unlabelled = pd.read_csv(\"monthly-data-unlabelled.csv\")"
   ]
  },
  {
   "cell_type": "code",
   "execution_count": 2,
   "metadata": {},
   "outputs": [],
   "source": [
    "X = labelled.drop('city',1).values\n",
    "y = labelled['city'].values\n"
   ]
  },
  {
   "cell_type": "code",
   "execution_count": 3,
   "metadata": {},
   "outputs": [],
   "source": [
    "X_train, X_test, y_train, y_test = train_test_split(X, y)\n"
   ]
  },
  {
   "cell_type": "code",
   "execution_count": 4,
   "metadata": {},
   "outputs": [],
   "source": [
    "bayes_model = make_pipeline(\n",
    "        StandardScaler(),\n",
    "        GaussianNB()\n",
    "    )"
   ]
  },
  {
   "cell_type": "code",
   "execution_count": 5,
   "metadata": {},
   "outputs": [
    {
     "data": {
      "text/plain": [
       "Pipeline(steps=[('standardscaler', StandardScaler(copy=True, with_mean=True, with_std=True)), ('gaussiannb', GaussianNB(priors=None))])"
      ]
     },
     "execution_count": 5,
     "metadata": {},
     "output_type": "execute_result"
    }
   ],
   "source": [
    "bayes_model.fit(X_train, y_train)"
   ]
  },
  {
   "cell_type": "code",
   "execution_count": 6,
   "metadata": {},
   "outputs": [
    {
     "data": {
      "text/plain": [
       "0.62068965517241381"
      ]
     },
     "execution_count": 6,
     "metadata": {},
     "output_type": "execute_result"
    }
   ],
   "source": [
    "bayes_model.score(X_test, y_test)"
   ]
  },
  {
   "cell_type": "code",
   "execution_count": 65,
   "metadata": {
    "collapsed": true
   },
   "outputs": [],
   "source": [
    "knn_model = make_pipeline(\n",
    "        StandardScaler(),\n",
    "        KNeighborsClassifier(n_neighbors=25)\n",
    "    )"
   ]
  },
  {
   "cell_type": "code",
   "execution_count": 66,
   "metadata": {},
   "outputs": [
    {
     "data": {
      "text/plain": [
       "Pipeline(steps=[('standardscaler', StandardScaler(copy=True, with_mean=True, with_std=True)), ('kneighborsclassifier', KNeighborsClassifier(algorithm='auto', leaf_size=30, metric='minkowski',\n",
       "           metric_params=None, n_jobs=1, n_neighbors=25, p=2,\n",
       "           weights='uniform'))])"
      ]
     },
     "execution_count": 66,
     "metadata": {},
     "output_type": "execute_result"
    }
   ],
   "source": [
    "knn_model.fit(X_train, y_train)"
   ]
  },
  {
   "cell_type": "code",
   "execution_count": 67,
   "metadata": {},
   "outputs": [
    {
     "data": {
      "text/plain": [
       "0.68620689655172418"
      ]
     },
     "execution_count": 67,
     "metadata": {},
     "output_type": "execute_result"
    }
   ],
   "source": [
    "knn_model.score(X_test, y_test)"
   ]
  },
  {
   "cell_type": "code",
   "execution_count": 97,
   "metadata": {
    "collapsed": true
   },
   "outputs": [],
   "source": [
    "svc_model = make_pipeline(\n",
    "        StandardScaler(),\n",
    "        SVC(kernel='linear', C=2.0)\n",
    "    )"
   ]
  },
  {
   "cell_type": "code",
   "execution_count": 98,
   "metadata": {},
   "outputs": [
    {
     "data": {
      "text/plain": [
       "Pipeline(steps=[('standardscaler', StandardScaler(copy=True, with_mean=True, with_std=True)), ('svc', SVC(C=2.0, cache_size=200, class_weight=None, coef0=0.0,\n",
       "  decision_function_shape=None, degree=3, gamma='auto', kernel='linear',\n",
       "  max_iter=-1, probability=False, random_state=None, shrinking=True,\n",
       "  tol=0.001, verbose=False))])"
      ]
     },
     "execution_count": 98,
     "metadata": {},
     "output_type": "execute_result"
    }
   ],
   "source": [
    "svc_model.fit(X_train, y_train)"
   ]
  },
  {
   "cell_type": "code",
   "execution_count": 99,
   "metadata": {},
   "outputs": [
    {
     "data": {
      "text/plain": [
       "0.80000000000000004"
      ]
     },
     "execution_count": 99,
     "metadata": {},
     "output_type": "execute_result"
    }
   ],
   "source": [
    "svc_model.score(X_test, y_test)"
   ]
  },
  {
   "cell_type": "code",
   "execution_count": 108,
   "metadata": {},
   "outputs": [],
   "source": [
    "inputsForPrediction = unlabelled.drop('city', 1).values"
   ]
  },
  {
   "cell_type": "code",
   "execution_count": 110,
   "metadata": {},
   "outputs": [],
   "source": [
    "citiesPredicted = svc_model.predict(inputsForPrediction)"
   ]
  },
  {
   "cell_type": "code",
   "execution_count": 111,
   "metadata": {},
   "outputs": [
    {
     "data": {
      "text/plain": [
       "array(['Miami', 'Vancouver', 'Denver', 'Seattle', 'Atlantic City',\n",
       "       'Raleigh Durham', 'Atlanta', 'Seattle', 'San Francisco', 'Chicago',\n",
       "       'Edmonton', 'Los Angeles'], dtype=object)"
      ]
     },
     "execution_count": 111,
     "metadata": {},
     "output_type": "execute_result"
    }
   ],
   "source": [
    "citiesPredicted"
   ]
  },
  {
   "cell_type": "code",
   "execution_count": 112,
   "metadata": {},
   "outputs": [
    {
     "name": "stdout",
     "output_type": "stream",
     "text": [
      "         prediction           truth\n",
      "1    Raleigh Durham         Atlanta\n",
      "3          Edmonton         Calgary\n",
      "6         Saskatoon          Regina\n",
      "7            Ottawa        Montreal\n",
      "17         Montreal          Ottawa\n",
      "39           Québec        Montreal\n",
      "45          Seattle       Vancouver\n",
      "53        Vancouver        Victoria\n",
      "58        Vancouver        Victoria\n",
      "60          Chicago   Atlantic City\n",
      "67         Winnipeg       Saskatoon\n",
      "68           Regina       Saskatoon\n",
      "78          Chicago         Toronto\n",
      "82   Raleigh Durham         Atlanta\n",
      "85         Montreal          Ottawa\n",
      "90   Raleigh Durham         Atlanta\n",
      "101          Ottawa        Montreal\n",
      "103          London         Toronto\n",
      "107     New Orleans         Atlanta\n",
      "109          Regina        Edmonton\n",
      "111          Regina       Saskatoon\n",
      "112          Regina       Saskatoon\n",
      "125          Regina       Saskatoon\n",
      "126        Montreal          Ottawa\n",
      "130         Seattle        Portland\n",
      "134          Regina       Saskatoon\n",
      "140          Ottawa        Montreal\n",
      "142  Raleigh Durham         Atlanta\n",
      "144         Toronto         Chicago\n",
      "163          Ottawa        Montreal\n",
      "171          Regina       Saskatoon\n",
      "179          London         Chicago\n",
      "188        Victoria       Vancouver\n",
      "191  Raleigh Durham         Atlanta\n",
      "198         Toronto          Ottawa\n",
      "199          Ottawa        Montreal\n",
      "204       Vancouver        Victoria\n",
      "205          London         Toronto\n",
      "214        Montreal          Ottawa\n",
      "216          Regina       Saskatoon\n",
      "218        Edmonton        Winnipeg\n",
      "221         Toronto          London\n",
      "222     New Orleans         Atlanta\n",
      "226       Vancouver        Victoria\n",
      "234        Victoria         Seattle\n",
      "236        Winnipeg          Regina\n",
      "237       Vancouver        Victoria\n",
      "241       Saskatoon          Regina\n",
      "242          Regina        Winnipeg\n",
      "244        Montreal          Ottawa\n",
      "248          Gander         Halifax\n",
      "256          Regina       Saskatoon\n",
      "267          Regina       Saskatoon\n",
      "272         Atlanta  Raleigh Durham\n",
      "273  Raleigh Durham         Atlanta\n",
      "274   Atlantic City         Chicago\n",
      "277  Raleigh Durham         Atlanta\n",
      "278          London         Chicago\n"
     ]
    }
   ],
   "source": [
    "df = pd.DataFrame({'truth': y_test, 'prediction': svc_model.predict(X_test)})\n",
    "print(df[df['truth'] != df['prediction']])"
   ]
  },
  {
   "cell_type": "code",
   "execution_count": null,
   "metadata": {
    "collapsed": true
   },
   "outputs": [],
   "source": []
  }
 ],
 "metadata": {
  "kernelspec": {
   "display_name": "Python 3",
   "language": "python",
   "name": "python3"
  },
  "language_info": {
   "codemirror_mode": {
    "name": "ipython",
    "version": 3
   },
   "file_extension": ".py",
   "mimetype": "text/x-python",
   "name": "python",
   "nbconvert_exporter": "python",
   "pygments_lexer": "ipython3",
   "version": "3.6.0"
  }
 },
 "nbformat": 4,
 "nbformat_minor": 2
}
